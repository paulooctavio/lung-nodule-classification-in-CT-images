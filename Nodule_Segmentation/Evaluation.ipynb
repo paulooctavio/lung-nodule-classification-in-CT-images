{
 "cells": [
  {
   "cell_type": "code",
   "execution_count": 3,
   "id": "b6241768",
   "metadata": {},
   "outputs": [],
   "source": [
    "import os\n",
    "import numpy as np\n",
    "import scipy\n",
    "import matplotlib.pyplot as plt\n",
    "\n",
    "\n",
    "from sklearn.metrics import roc_curve\n",
    "from sklearn.metrics import roc_auc_score\n",
    "from sklearn.metrics import confusion_matrix\n",
    "from sklearn.metrics import precision_recall_curve\n",
    "# from sklearn.metrics import jaccard_similarity_score\n",
    "from sklearn.metrics import f1_score\n",
    "from scipy.ndimage.morphology import binary_erosion\n",
    "from tqdm import tqdm"
   ]
  },
  {
   "cell_type": "code",
   "execution_count": 4,
   "id": "eb8ae772",
   "metadata": {},
   "outputs": [],
   "source": [
    "import torch\n",
    "import torch.nn as nn\n",
    "import torchvision.transforms.functional as TF\n",
    "\n",
    "class DoubleConv(nn.Module):\n",
    "    def __init__(self, in_channels, out_channels):\n",
    "        super(DoubleConv, self).__init__()\n",
    "        self.conv = nn.Sequential(\n",
    "            # Conv2d layers expect input with the shape (n_samples, channels, height, width) \n",
    "            # e.g., (1000, 1, 224, 224), source https://pytorch.org/docs/stable/nn.html#conv2d\n",
    "            nn.Conv2d(in_channels, out_channels, 3, 1, 1, bias=False),\n",
    "            nn.BatchNorm2d(out_channels),\n",
    "            nn.ReLU(inplace=True),\n",
    "            nn.Conv2d(out_channels, out_channels, 3, 1, 1, bias=False),\n",
    "            nn.BatchNorm2d(out_channels),\n",
    "            nn.ReLU(inplace=True),\n",
    "        )\n",
    "\n",
    "    def forward(self, x):\n",
    "        return self.conv(x)\n",
    "\n",
    "class UNET(nn.Module):\n",
    "    def __init__(\n",
    "            self, in_channels=1, out_channels=1, features=[64, 128, 256, 512],\n",
    "    ):\n",
    "        super(UNET, self).__init__()\n",
    "        self.ups = nn.ModuleList()\n",
    "        self.downs = nn.ModuleList()\n",
    "        self.pool = nn.MaxPool2d(kernel_size=2, stride=2)\n",
    "\n",
    "        # Down part of UNET\n",
    "        for feature in features:\n",
    "            self.downs.append(DoubleConv(in_channels, feature))\n",
    "            in_channels = feature\n",
    "\n",
    "        # Up part of UNET\n",
    "        for feature in reversed(features):\n",
    "            self.ups.append(\n",
    "                nn.ConvTranspose2d(\n",
    "                    feature*2, feature, kernel_size=2, stride=2,\n",
    "                )\n",
    "            )\n",
    "            self.ups.append(DoubleConv(feature*2, feature))\n",
    "\n",
    "        self.bottleneck = DoubleConv(features[-1], features[-1]*2)\n",
    "        self.final_conv = nn.Conv2d(features[0], out_channels, kernel_size=1)\n",
    "\n",
    "    def forward(self, x):\n",
    "        skip_connections = []\n",
    "\n",
    "        for down in self.downs:\n",
    "            x = down(x)\n",
    "            skip_connections.append(x)\n",
    "            x = self.pool(x)\n",
    "\n",
    "        x = self.bottleneck(x)\n",
    "        skip_connections = skip_connections[::-1]\n",
    "\n",
    "        for idx in range(0, len(self.ups), 2):\n",
    "            x = self.ups[idx](x)\n",
    "            skip_connection = skip_connections[idx//2]\n",
    "\n",
    "            if x.shape != skip_connection.shape:\n",
    "                x = TF.resize(x, size=skip_connection.shape[2:])\n",
    "\n",
    "            concat_skip = torch.cat((skip_connection, x), dim=1)\n",
    "            x = self.ups[idx+1](concat_skip)\n",
    "\n",
    "        return self.final_conv(x)"
   ]
  },
  {
   "cell_type": "code",
   "execution_count": 3,
   "id": "f424f9ad",
   "metadata": {},
   "outputs": [],
   "source": [
    "DEVICE = \"cuda\" if torch.cuda.is_available() else \"cpu\"\n",
    "TRAIN_IMG_DIR = \"evaluation/images/\"\n",
    "TRAIN_MASK_DIR = \"evaluation/masks/\"\n",
    "MODEL = 'mix_bs_12_lr_0.0001_loss_dice_bce_weight_0.5_aug_True.pth'\n",
    "NUM_WORKERS = 4\n",
    "BATCH_SIZE = 12\n",
    "OUTOUT_FOLDER = \"evaluation/outputs/\""
   ]
  },
  {
   "cell_type": "code",
   "execution_count": 5,
   "id": "89d1436d",
   "metadata": {},
   "outputs": [],
   "source": [
    "DEVICE = \"cuda\" if torch.cuda.is_available() else \"cpu\"\n",
    "TRAIN_IMG_DIR = './LIDC-IDRI_splitted_slices_data/val/images/'\n",
    "TRAIN_MASK_DIR = './LIDC-IDRI_splitted_slices_data/val/masks/'\n",
    "MODEL = 'mix_bs_12_lr_0.0001_loss_dice_bce_weight_0.5_aug_False.pth'\n",
    "NUM_WORKERS = 4\n",
    "BATCH_SIZE = 12\n",
    "OUTOUT_FOLDER = \"evaluation/outputs/\""
   ]
  },
  {
   "cell_type": "code",
   "execution_count": 6,
   "id": "34999f11",
   "metadata": {},
   "outputs": [
    {
     "data": {
      "text/plain": [
       "<All keys matched successfully>"
      ]
     },
     "execution_count": 6,
     "metadata": {},
     "output_type": "execute_result"
    }
   ],
   "source": [
    "model = UNET().to(DEVICE)\n",
    "model.load_state_dict(torch.load(f'model_outputs/{MODEL}'))"
   ]
  },
  {
   "cell_type": "code",
   "execution_count": 7,
   "id": "8aeacb3d",
   "metadata": {},
   "outputs": [],
   "source": [
    "#dataset.py\n",
    "import os\n",
    "from PIL import Image\n",
    "from torch.utils.data import Dataset\n",
    "import numpy as np\n",
    "from torch.utils.data import DataLoader\n",
    "\n",
    "class LungNoduleDataset(Dataset):\n",
    "    def __init__(self, image_dir, mask_dir, transform=None):\n",
    "        self.image_dir = image_dir\n",
    "        self.mask_dir = mask_dir\n",
    "        self.transform = transform\n",
    "        self.images = os.listdir(image_dir)\n",
    "\n",
    "    def __len__(self):\n",
    "         return len(self.images)\n",
    "\n",
    "\n",
    "    def __getitem__(self, index):\n",
    "        img_path = os.path.join(self.image_dir, self.images[index])\n",
    "        mask_path = os.path.join(self.mask_dir, self.images[index])\n",
    "        image = np.array(np.load(img_path)).astype('float')\n",
    "        mask = np.array(np.load(mask_path)).astype('float')\n",
    "#         assert np.array_equal(np.unique(mask), np.array([0.,1.]))\n",
    "        if self.transform is None:\n",
    "            image = np.expand_dims(image, 0)\n",
    "            mask = np.expand_dims(mask, 0)\n",
    "        if self.transform is not None:\n",
    "            augmentations = self.transform(image=image, mask=mask)\n",
    "            image = augmentations[\"image\"]\n",
    "            mask = augmentations[\"mask\"]\n",
    "        return image, mask"
   ]
  },
  {
   "cell_type": "code",
   "execution_count": 8,
   "id": "dcb2db2a",
   "metadata": {},
   "outputs": [],
   "source": [
    "test_ds = LungNoduleDataset(\n",
    "        image_dir=TRAIN_IMG_DIR,\n",
    "        mask_dir=TRAIN_MASK_DIR,\n",
    "        transform=None,\n",
    "    )\n",
    "test_loader = DataLoader(\n",
    "        test_ds,\n",
    "        batch_size=BATCH_SIZE,\n",
    "        num_workers=NUM_WORKERS,\n",
    "        pin_memory=False,\n",
    "        shuffle=True,\n",
    "    )"
   ]
  },
  {
   "cell_type": "code",
   "execution_count": 9,
   "id": "89c435dc",
   "metadata": {
    "scrolled": true
   },
   "outputs": [
    {
     "name": "stderr",
     "output_type": "stream",
     "text": [
      "100%|██████████| 23/23 [00:14<00:00,  1.54it/s]\n"
     ]
    }
   ],
   "source": [
    "device = DEVICE\n",
    "with torch.no_grad():\n",
    "    pbar = tqdm(total=len(test_loader))\n",
    "    for idx,(data, target) in enumerate(test_loader):\n",
    "        data = data.to(device).float()\n",
    "        output = model(data)\n",
    "        output = torch.sigmoid(output)\n",
    "        output = output.float().cpu().numpy().squeeze(1)\n",
    "        target = target.float().squeeze(1).cpu().numpy()\n",
    "        image = data.cpu().numpy()\n",
    "        #assert np.array_equal(np.unique(target), np.array([0.,1.]))\n",
    "        if idx == 0:\n",
    "            predictions = output\n",
    "            targets = target\n",
    "            images = image\n",
    "        else:\n",
    "            predictions = np.concatenate([predictions, output])\n",
    "            targets = np.concatenate([targets, target])\n",
    "            images = np.concatenate([images, image])\n",
    "        pbar.update(1)\n",
    "    pbar.close()"
   ]
  },
  {
   "cell_type": "code",
   "execution_count": 10,
   "id": "a745394b",
   "metadata": {
    "scrolled": true
   },
   "outputs": [
    {
     "name": "stdout",
     "output_type": "stream",
     "text": [
      "(266, 256, 256) (266, 256, 256)\n"
     ]
    }
   ],
   "source": [
    "print(predictions.shape, targets.shape)"
   ]
  },
  {
   "cell_type": "code",
   "execution_count": 11,
   "id": "c6b80bff",
   "metadata": {},
   "outputs": [],
   "source": [
    "# Post-processing\n",
    "predictions = np.where(predictions>0.5, 1, 0)"
   ]
  },
  {
   "cell_type": "code",
   "execution_count": 12,
   "id": "c0e41f66",
   "metadata": {},
   "outputs": [
    {
     "name": "stdout",
     "output_type": "stream",
     "text": [
      "(266, 256, 256) (266, 256, 256)\n"
     ]
    }
   ],
   "source": [
    "print(predictions.shape, targets.shape)"
   ]
  },
  {
   "cell_type": "code",
   "execution_count": 13,
   "id": "16312284",
   "metadata": {},
   "outputs": [
    {
     "name": "stdout",
     "output_type": "stream",
     "text": [
      "(17432576, 1)\n",
      "(17432576, 1)\n"
     ]
    }
   ],
   "source": [
    "predictions# Performance checking\n",
    "\n",
    "y_scores = predictions.reshape(predictions.shape[0] * predictions.shape[1] * predictions.shape[2], 1)\n",
    "print(y_scores.shape)\n",
    "\n",
    "y_true = targets.reshape(targets.shape[0] * targets.shape[1] * targets.shape[2], 1)\n",
    "print(y_true.shape)\n",
    "\n",
    "# y_scores = np.where(y_scores>0.5, 1, 0)\n",
    "# y_true   = np.where(y_true>0.5, 1, 0)\n",
    "\n",
    "# output_folder = 'output/'\n",
    "# if not os.path.exists(output_folder):\n",
    "#     os.makedirs(output_folder)    "
   ]
  },
  {
   "cell_type": "code",
   "execution_count": 14,
   "id": "df9ea595",
   "metadata": {},
   "outputs": [
    {
     "name": "stdout",
     "output_type": "stream",
     "text": [
      "\n",
      "Area under the ROC curve: 0.8662743714441767\n"
     ]
    },
    {
     "data": {
      "image/png": "[encoded data removed]",
      "text/plain": [
       "<Figure size 432x288 with 1 Axes>"
      ]
     },
     "metadata": {
      "needs_background": "light"
     },
     "output_type": "display_data"
    }
   ],
   "source": [
    "#Area under the ROC curve\n",
    "fpr, tpr, thresholds = roc_curve((y_true), y_scores)\n",
    "AUC_ROC = roc_auc_score(y_true, y_scores)\n",
    "print (\"\\nArea under the ROC curve: \" +str(AUC_ROC))\n",
    "roc_curve =plt.figure()\n",
    "plt.plot(fpr,tpr,'-',label='Area Under the Curve (AUC = %0.4f)' % AUC_ROC)\n",
    "plt.title('ROC curve')\n",
    "plt.xlabel(\"FPR (False Positive Rate)\")\n",
    "plt.ylabel(\"TPR (True Positive Rate)\")\n",
    "plt.legend(loc=\"lower right\")\n",
    "plt.savefig(OUTOUT_FOLDER + \"ROC.png\")"
   ]
  },
  {
   "cell_type": "code",
   "execution_count": 15,
   "id": "67cf4944",
   "metadata": {},
   "outputs": [
    {
     "name": "stdout",
     "output_type": "stream",
     "text": [
      "\n",
      "Area under Precision-Recall curve: 0.80620969388374\n"
     ]
    },
    {
     "data": {
      "image/png": "[encoded data removed]",
      "text/plain": [
       "<Figure size 432x288 with 1 Axes>"
      ]
     },
     "metadata": {
      "needs_background": "light"
     },
     "output_type": "display_data"
    }
   ],
   "source": [
    "#Precision-recall curve\n",
    "precision, recall, thresholds = precision_recall_curve(y_true, y_scores)\n",
    "precision = np.fliplr([precision])[0] \n",
    "recall = np.fliplr([recall])[0]\n",
    "AUC_prec_rec = np.trapz(precision,recall)\n",
    "print (\"\\nArea under Precision-Recall curve: \" +str(AUC_prec_rec))\n",
    "prec_rec_curve = plt.figure()\n",
    "plt.plot(recall,precision,'-',label='Area Under the Curve (AUC = %0.4f)' % AUC_prec_rec)\n",
    "plt.title('Precision - Recall curve')\n",
    "plt.xlabel(\"Recall\")\n",
    "plt.ylabel(\"Precision\")\n",
    "plt.legend(loc=\"lower right\")\n",
    "plt.savefig(OUTOUT_FOLDER + \"Precision_recall.png\")"
   ]
  },
  {
   "cell_type": "code",
   "execution_count": 16,
   "id": "d74e325d",
   "metadata": {},
   "outputs": [
    {
     "name": "stdout",
     "output_type": "stream",
     "text": [
      "\n",
      "Confusion matrix:  Custom threshold (for positive) of 0.5\n",
      "[[17414747     1626]\n",
      " [    4332    11871]]\n",
      "Global Accuracy: 0.9996582260705474\n",
      "Specificity: 0.9999066395741525\n",
      "Sensitivity: 0.7326421033142011\n",
      "Precision: 0.879528784174261\n"
     ]
    }
   ],
   "source": [
    "#Confusion matrix\n",
    "threshold_confusion = 0.5\n",
    "print (\"\\nConfusion matrix:  Custom threshold (for positive) of \" +str(threshold_confusion))\n",
    "y_pred = np.empty((y_scores.shape[0]))\n",
    "for i in range(y_scores.shape[0]):\n",
    "    if y_scores[i]>=threshold_confusion:\n",
    "        y_pred[i]=1\n",
    "    else:\n",
    "        y_pred[i]=0\n",
    "confusion = confusion_matrix(y_true, y_pred)\n",
    "print (confusion)\n",
    "accuracy = 0\n",
    "if float(np.sum(confusion))!=0:\n",
    "    accuracy = float(confusion[0,0]+confusion[1,1])/float(np.sum(confusion))\n",
    "print (\"Global Accuracy: \" +str(accuracy))\n",
    "specificity = 0\n",
    "if float(confusion[0,0]+confusion[0,1])!=0:\n",
    "    specificity = float(confusion[0,0])/float(confusion[0,0]+confusion[0,1])\n",
    "print (\"Specificity: \" +str(specificity))\n",
    "sensitivity = 0\n",
    "if float(confusion[1,1]+confusion[1,0])!=0:\n",
    "    sensitivity = float(confusion[1,1])/float(confusion[1,1]+confusion[1,0])\n",
    "print (\"Sensitivity: \" +str(sensitivity))\n",
    "precision = 0\n",
    "if float(confusion[1,1]+confusion[0,1])!=0:\n",
    "    precision = float(confusion[1,1])/float(confusion[1,1]+confusion[0,1])\n",
    "print (\"Precision: \" +str(precision))"
   ]
  },
  {
   "cell_type": "code",
   "execution_count": null,
   "id": "0c6c36a7",
   "metadata": {},
   "outputs": [],
   "source": [
    "# #Jaccard similarity index\n",
    "# jaccard_index = jaccard_similarity_score(y_true, y_pred, normalize=True)\n",
    "# print (\"\\nJaccard similarity score: \" +str(jaccard_index))"
   ]
  },
  {
   "cell_type": "code",
   "execution_count": 21,
   "id": "f62f15b9",
   "metadata": {},
   "outputs": [],
   "source": [
    "# Dice coefficient\n",
    "def get_dice_coef(output, target):\n",
    "    \"This metric is for validation purpose\"\n",
    "    smooth = 1e-5\n",
    "    intersection = (output * target).sum()\n",
    "    return (2. * intersection + smooth) / \\\n",
    "        (output.sum() + target.sum() + smooth)\n",
    "dice_coef = get_dice_coef(y_scores, y_true)"
   ]
  },
  {
   "cell_type": "code",
   "execution_count": 22,
   "id": "15122ffa",
   "metadata": {},
   "outputs": [
    {
     "name": "stdout",
     "output_type": "stream",
     "text": [
      "\n",
      "F1 score (F-measure): 0.5583182841953616\n"
     ]
    }
   ],
   "source": [
    "#F1 score\n",
    "F1_score = f1_score(y_true, y_pred, labels=None, average='binary', sample_weight=None)\n",
    "print (\"\\nF1 score (F-measure): \" +str(F1_score))"
   ]
  },
  {
   "cell_type": "code",
   "execution_count": 23,
   "id": "118eb06b",
   "metadata": {},
   "outputs": [
    {
     "name": "stdout",
     "output_type": "stream",
     "text": [
      "\n",
      "Area under the ROC curve: 0.7530542382422905\n",
      "\n",
      "Area under Precision-Recall curve: 0.5644874750324353\n",
      "\n",
      "F1 score (F-measure): 0.5583182841953616\n",
      "\n",
      "Confusion matrix: \n",
      "[[139282982     41789]\n",
      " [    67048     68789]]\n",
      "\n",
      "Accuracy: 0.9992195860783857\n",
      "\n",
      "Sensitivity: 0.5064084159691394\n",
      "\n",
      "Specitivity: 0.9997000605154412\n",
      "\n",
      "Precision: 0.6220857675125251\n",
      "\n"
     ]
    }
   ],
   "source": [
    "evaluation_metrics = f\"\"\"\n",
    "Area under the ROC curve: {str(AUC_ROC)}\n",
    "\\nArea under Precision-Recall curve: {str(AUC_prec_rec)}\n",
    "\\nF1 score (F-measure): {str(F1_score)}\n",
    "\\nConfusion matrix: \\n{str(confusion)}\n",
    "\\nAccuracy: {str(accuracy)}\n",
    "\\nSensitivity: {str(sensitivity)}\n",
    "\\nSpecitivity: {str(specificity)}\n",
    "\\nPrecision: {str(precision)}\n",
    "\"\"\"\n",
    "print(evaluation_metrics)"
   ]
  },
  {
   "cell_type": "code",
   "execution_count": null,
   "id": "1ecab80a",
   "metadata": {},
   "outputs": [],
   "source": [
    "# #Save the results\n",
    "# file_perf = open(output_folder+'performances.txt', 'w')\n",
    "# file_perf.write(evaluation_metrics)\n",
    "# file_perf.close()"
   ]
  },
  {
   "cell_type": "code",
   "execution_count": 24,
   "id": "7c88e3ca",
   "metadata": {},
   "outputs": [
    {
     "ename": "IndexError",
     "evalue": "index 5552 is out of bounds for axis 0 with size 2128",
     "output_type": "error",
     "traceback": [
      "\u001b[0;31m---------------------------------------------------------------------------\u001b[0m",
      "\u001b[0;31mIndexError\u001b[0m                                Traceback (most recent call last)",
      "\u001b[0;32m<ipython-input-24-d0ee3ac58377>\u001b[0m in \u001b[0;36m<module>\u001b[0;34m\u001b[0m\n\u001b[1;32m     10\u001b[0m \u001b[0mall_ind\u001b[0m \u001b[0;34m=\u001b[0m \u001b[0;34m[\u001b[0m\u001b[0;36m5552\u001b[0m\u001b[0;34m,\u001b[0m \u001b[0;36m10568\u001b[0m\u001b[0;34m,\u001b[0m \u001b[0;36m5232\u001b[0m\u001b[0;34m,\u001b[0m \u001b[0;36m1221\u001b[0m\u001b[0;34m,\u001b[0m \u001b[0;36m7469\u001b[0m\u001b[0;34m]\u001b[0m\u001b[0;34m\u001b[0m\u001b[0;34m\u001b[0m\u001b[0m\n\u001b[1;32m     11\u001b[0m \u001b[0;32mfor\u001b[0m \u001b[0midx\u001b[0m \u001b[0;32min\u001b[0m \u001b[0mrange\u001b[0m\u001b[0;34m(\u001b[0m\u001b[0;36m5\u001b[0m\u001b[0;34m)\u001b[0m\u001b[0;34m:\u001b[0m\u001b[0;34m\u001b[0m\u001b[0;34m\u001b[0m\u001b[0m\n\u001b[0;32m---> 12\u001b[0;31m     \u001b[0max\u001b[0m\u001b[0;34m[\u001b[0m\u001b[0midx\u001b[0m\u001b[0;34m,\u001b[0m \u001b[0;36m0\u001b[0m\u001b[0;34m]\u001b[0m\u001b[0;34m.\u001b[0m\u001b[0mimshow\u001b[0m\u001b[0;34m(\u001b[0m\u001b[0mnp\u001b[0m\u001b[0;34m.\u001b[0m\u001b[0msqueeze\u001b[0m\u001b[0;34m(\u001b[0m\u001b[0mimages\u001b[0m\u001b[0;34m[\u001b[0m\u001b[0mall_ind\u001b[0m\u001b[0;34m[\u001b[0m\u001b[0midx\u001b[0m\u001b[0;34m]\u001b[0m\u001b[0;34m]\u001b[0m\u001b[0;34m)\u001b[0m\u001b[0;34m,\u001b[0m \u001b[0mcmap\u001b[0m\u001b[0;34m=\u001b[0m\u001b[0;34m'gray'\u001b[0m\u001b[0;34m)\u001b[0m\u001b[0;34m\u001b[0m\u001b[0;34m\u001b[0m\u001b[0m\n\u001b[0m\u001b[1;32m     13\u001b[0m     \u001b[0max\u001b[0m\u001b[0;34m[\u001b[0m\u001b[0midx\u001b[0m\u001b[0;34m,\u001b[0m \u001b[0;36m1\u001b[0m\u001b[0;34m]\u001b[0m\u001b[0;34m.\u001b[0m\u001b[0mimshow\u001b[0m\u001b[0;34m(\u001b[0m\u001b[0mnp\u001b[0m\u001b[0;34m.\u001b[0m\u001b[0msqueeze\u001b[0m\u001b[0;34m(\u001b[0m\u001b[0mtargets\u001b[0m\u001b[0;34m[\u001b[0m\u001b[0mall_ind\u001b[0m\u001b[0;34m[\u001b[0m\u001b[0midx\u001b[0m\u001b[0;34m]\u001b[0m\u001b[0;34m]\u001b[0m\u001b[0;34m)\u001b[0m\u001b[0;34m,\u001b[0m \u001b[0mcmap\u001b[0m\u001b[0;34m=\u001b[0m\u001b[0;34m'gray'\u001b[0m\u001b[0;34m)\u001b[0m\u001b[0;34m\u001b[0m\u001b[0;34m\u001b[0m\u001b[0m\n\u001b[1;32m     14\u001b[0m     \u001b[0max\u001b[0m\u001b[0;34m[\u001b[0m\u001b[0midx\u001b[0m\u001b[0;34m,\u001b[0m \u001b[0;36m2\u001b[0m\u001b[0;34m]\u001b[0m\u001b[0;34m.\u001b[0m\u001b[0mimshow\u001b[0m\u001b[0;34m(\u001b[0m\u001b[0mnp\u001b[0m\u001b[0;34m.\u001b[0m\u001b[0muint8\u001b[0m\u001b[0;34m(\u001b[0m\u001b[0mnp\u001b[0m\u001b[0;34m.\u001b[0m\u001b[0msqueeze\u001b[0m\u001b[0;34m(\u001b[0m\u001b[0mpredictions\u001b[0m\u001b[0;34m[\u001b[0m\u001b[0mall_ind\u001b[0m\u001b[0;34m[\u001b[0m\u001b[0midx\u001b[0m\u001b[0;34m]\u001b[0m\u001b[0;34m]\u001b[0m\u001b[0;34m)\u001b[0m\u001b[0;34m)\u001b[0m\u001b[0;34m,\u001b[0m \u001b[0mcmap\u001b[0m\u001b[0;34m=\u001b[0m\u001b[0;34m'gray'\u001b[0m\u001b[0;34m)\u001b[0m\u001b[0;34m\u001b[0m\u001b[0;34m\u001b[0m\u001b[0m\n",
      "\u001b[0;31mIndexError\u001b[0m: index 5552 is out of bounds for axis 0 with size 2128"
     ]
    },
    {
     "data": {
      "image/png": "[encoded data removed]",
      "text/plain": [
       "<Figure size 864x1512 with 15 Axes>"
      ]
     },
     "metadata": {
      "needs_background": "light"
     },
     "output_type": "display_data"
    }
   ],
   "source": [
    "# Sample results\n",
    "fig,ax = plt.subplots(5, 3, figsize=[12,21])\n",
    "list_axes = list(ax.flat)\n",
    "title_fontsize = 16\n",
    "list_axes[0].set_title('CT Image', fontsize=title_fontsize)\n",
    "list_axes[1].set_title('Ground Truth', fontsize=title_fontsize) \n",
    "list_axes[2].set_title('Prediction', fontsize=title_fontsize) \n",
    "# all_ind = np.random.randint(0, len(targets), 5) # random samples\n",
    "# all_ind = np.array(all_ind)\n",
    "all_ind = [5552, 10568, 5232, 1221, 7469] \n",
    "for idx in range(5):\n",
    "    ax[idx, 0].imshow(np.squeeze(images[all_ind[idx]]), cmap='gray')  \n",
    "    ax[idx, 1].imshow(np.squeeze(targets[all_ind[idx]]), cmap='gray')  \n",
    "    ax[idx, 2].imshow(np.uint8(np.squeeze(predictions[all_ind[idx]])), cmap='gray')\n",
    "plt.savefig(OUTOUT_FOLDER + \"Examples.png\")"
   ]
  }
 ],
 "metadata": {
  "kernelspec": {
   "display_name": "Python 3",
   "language": "python",
   "name": "python3"
  },
  "language_info": {
   "codemirror_mode": {
    "name": "ipython",
    "version": 3
   },
   "file_extension": ".py",
   "mimetype": "text/x-python",
   "name": "python",
   "nbconvert_exporter": "python",
   "pygments_lexer": "ipython3",
   "version": "3.6.13"
  }
 },
 "nbformat": 4,
 "nbformat_minor": 5
}
