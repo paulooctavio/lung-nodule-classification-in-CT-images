{
 "cells": [
  {
   "cell_type": "code",
   "execution_count": 2,
   "id": "549a460a",
   "metadata": {},
   "outputs": [],
   "source": [
    "import pandas as pd\n",
    "import numpy as np\n",
    "import pylidc as pl\n",
    "import matplotlib.pyplot as plt\n",
    "import os\n",
    "\n",
    "from pylidc.utils import consensus\n",
    "from tqdm import tqdm"
   ]
  },
  {
   "cell_type": "code",
   "execution_count": 3,
   "id": "62b1aaae",
   "metadata": {},
   "outputs": [],
   "source": [
    "# import zipfile\n",
    "# with zipfile.ZipFile(\"./Base_LIDC-IDRI/manifest-1654468191362.zip\",\"r\") as zip_ref:\n",
    "#     zip_ref.extractall(\"./Base_LIDC-IDRI/\")"
   ]
  },
  {
   "cell_type": "code",
   "execution_count": 4,
   "id": "ff080a93",
   "metadata": {},
   "outputs": [],
   "source": [
    "DICOM_DIR = \"/home/mainlab1/TCCPauloLucas/Base_LIDC-IDRI/LIDC-IDRI\"\n",
    "CONFIDENCE_LEVEL = 0.5\n",
    "PADDING_SIZE = 512"
   ]
  },
  {
   "cell_type": "code",
   "execution_count": 5,
   "id": "034f97d1",
   "metadata": {},
   "outputs": [
    {
     "data": {
      "text/html": [
       "<div>\n",
       "<style scoped>\n",
       "    .dataframe tbody tr th:only-of-type {\n",
       "        vertical-align: middle;\n",
       "    }\n",
       "\n",
       "    .dataframe tbody tr th {\n",
       "        vertical-align: top;\n",
       "    }\n",
       "\n",
       "    .dataframe thead th {\n",
       "        text-align: right;\n",
       "    }\n",
       "</style>\n",
       "<table border=\"1\" class=\"dataframe\">\n",
       "  <thead>\n",
       "    <tr style=\"text-align: right;\">\n",
       "      <th></th>\n",
       "      <th>Series UID</th>\n",
       "      <th>Collection</th>\n",
       "      <th>3rd Party Analysis</th>\n",
       "      <th>Data Description URI</th>\n",
       "      <th>Subject ID</th>\n",
       "      <th>Study UID</th>\n",
       "      <th>Study Description</th>\n",
       "      <th>Study Date</th>\n",
       "      <th>Series Description</th>\n",
       "      <th>Manufacturer</th>\n",
       "      <th>Modality</th>\n",
       "      <th>SOP Class Name</th>\n",
       "      <th>SOP Class UID</th>\n",
       "      <th>Number of Images</th>\n",
       "      <th>File Size</th>\n",
       "      <th>File Location</th>\n",
       "      <th>Download Timestamp</th>\n",
       "    </tr>\n",
       "  </thead>\n",
       "  <tbody>\n",
       "    <tr>\n",
       "      <th>1.3.6.1.4.1.14519.5.2.1.6279.6001.170706757615202213033480003264</th>\n",
       "      <td>LIDC-IDRI</td>\n",
       "      <td>NaN</td>\n",
       "      <td>https://doi.org/10.7937/K9/TCIA.2015.LO9QL9SX</td>\n",
       "      <td>LIDC-IDRI-0003</td>\n",
       "      <td>1.3.6.1.4.1.14519.5.2.1.6279.6001.101370605276...</td>\n",
       "      <td>NaN</td>\n",
       "      <td>01-01-2000</td>\n",
       "      <td>NaN</td>\n",
       "      <td>GE MEDICAL SYSTEMS</td>\n",
       "      <td>CT</td>\n",
       "      <td>CT Image Storage</td>\n",
       "      <td>1.2.840.10008.5.1.4.1.1.2</td>\n",
       "      <td>140</td>\n",
       "      <td>74</td>\n",
       "      <td>11 MB</td>\n",
       "      <td>.\\LIDC-IDRI\\LIDC-IDRI-0003\\01-01-2000-NA-NA-94...</td>\n",
       "      <td>2022-06-05T20:43:45.902</td>\n",
       "    </tr>\n",
       "    <tr>\n",
       "      <th>1.3.6.1.4.1.14519.5.2.1.6279.6001.179049373636438705059720603192</th>\n",
       "      <td>LIDC-IDRI</td>\n",
       "      <td>NaN</td>\n",
       "      <td>https://doi.org/10.7937/K9/TCIA.2015.LO9QL9SX</td>\n",
       "      <td>LIDC-IDRI-0001</td>\n",
       "      <td>1.3.6.1.4.1.14519.5.2.1.6279.6001.298806137288...</td>\n",
       "      <td>NaN</td>\n",
       "      <td>01-01-2000</td>\n",
       "      <td>NaN</td>\n",
       "      <td>GE MEDICAL SYSTEMS</td>\n",
       "      <td>CT</td>\n",
       "      <td>CT Image Storage</td>\n",
       "      <td>1.2.840.10008.5.1.4.1.1.2</td>\n",
       "      <td>133</td>\n",
       "      <td>70</td>\n",
       "      <td>33 MB</td>\n",
       "      <td>.\\LIDC-IDRI\\LIDC-IDRI-0001\\01-01-2000-NA-NA-30...</td>\n",
       "      <td>2022-06-05T20:43:45.902</td>\n",
       "    </tr>\n",
       "    <tr>\n",
       "      <th>1.3.6.1.4.1.14519.5.2.1.6279.6001.619372068417051974713149104919</th>\n",
       "      <td>LIDC-IDRI</td>\n",
       "      <td>NaN</td>\n",
       "      <td>https://doi.org/10.7937/K9/TCIA.2015.LO9QL9SX</td>\n",
       "      <td>LIDC-IDRI-0002</td>\n",
       "      <td>1.3.6.1.4.1.14519.5.2.1.6279.6001.490157381160...</td>\n",
       "      <td>NaN</td>\n",
       "      <td>01-01-2000</td>\n",
       "      <td>NaN</td>\n",
       "      <td>GE MEDICAL SYSTEMS</td>\n",
       "      <td>CT</td>\n",
       "      <td>CT Image Storage</td>\n",
       "      <td>1.2.840.10008.5.1.4.1.1.2</td>\n",
       "      <td>261</td>\n",
       "      <td>137</td>\n",
       "      <td>73 MB</td>\n",
       "      <td>.\\LIDC-IDRI\\LIDC-IDRI-0002\\01-01-2000-NA-NA-98...</td>\n",
       "      <td>2022-06-05T20:44:11.474</td>\n",
       "    </tr>\n",
       "  </tbody>\n",
       "</table>\n",
       "</div>"
      ],
      "text/plain": [
       "                                                   Series UID  Collection  \\\n",
       "1.3.6.1.4.1.14519.5.2.1.6279.6001.1707067576152...  LIDC-IDRI         NaN   \n",
       "1.3.6.1.4.1.14519.5.2.1.6279.6001.1790493736364...  LIDC-IDRI         NaN   \n",
       "1.3.6.1.4.1.14519.5.2.1.6279.6001.6193720684170...  LIDC-IDRI         NaN   \n",
       "\n",
       "                                                                               3rd Party Analysis  \\\n",
       "1.3.6.1.4.1.14519.5.2.1.6279.6001.1707067576152...  https://doi.org/10.7937/K9/TCIA.2015.LO9QL9SX   \n",
       "1.3.6.1.4.1.14519.5.2.1.6279.6001.1790493736364...  https://doi.org/10.7937/K9/TCIA.2015.LO9QL9SX   \n",
       "1.3.6.1.4.1.14519.5.2.1.6279.6001.6193720684170...  https://doi.org/10.7937/K9/TCIA.2015.LO9QL9SX   \n",
       "\n",
       "                                                   Data Description URI  \\\n",
       "1.3.6.1.4.1.14519.5.2.1.6279.6001.1707067576152...       LIDC-IDRI-0003   \n",
       "1.3.6.1.4.1.14519.5.2.1.6279.6001.1790493736364...       LIDC-IDRI-0001   \n",
       "1.3.6.1.4.1.14519.5.2.1.6279.6001.6193720684170...       LIDC-IDRI-0002   \n",
       "\n",
       "                                                                                           Subject ID  \\\n",
       "1.3.6.1.4.1.14519.5.2.1.6279.6001.1707067576152...  1.3.6.1.4.1.14519.5.2.1.6279.6001.101370605276...   \n",
       "1.3.6.1.4.1.14519.5.2.1.6279.6001.1790493736364...  1.3.6.1.4.1.14519.5.2.1.6279.6001.298806137288...   \n",
       "1.3.6.1.4.1.14519.5.2.1.6279.6001.6193720684170...  1.3.6.1.4.1.14519.5.2.1.6279.6001.490157381160...   \n",
       "\n",
       "                                                   Study UID  \\\n",
       "1.3.6.1.4.1.14519.5.2.1.6279.6001.1707067576152...       NaN   \n",
       "1.3.6.1.4.1.14519.5.2.1.6279.6001.1790493736364...       NaN   \n",
       "1.3.6.1.4.1.14519.5.2.1.6279.6001.6193720684170...       NaN   \n",
       "\n",
       "                                                   Study Description  \\\n",
       "1.3.6.1.4.1.14519.5.2.1.6279.6001.1707067576152...        01-01-2000   \n",
       "1.3.6.1.4.1.14519.5.2.1.6279.6001.1790493736364...        01-01-2000   \n",
       "1.3.6.1.4.1.14519.5.2.1.6279.6001.6193720684170...        01-01-2000   \n",
       "\n",
       "                                                   Study Date  \\\n",
       "1.3.6.1.4.1.14519.5.2.1.6279.6001.1707067576152...        NaN   \n",
       "1.3.6.1.4.1.14519.5.2.1.6279.6001.1790493736364...        NaN   \n",
       "1.3.6.1.4.1.14519.5.2.1.6279.6001.6193720684170...        NaN   \n",
       "\n",
       "                                                    Series Description  \\\n",
       "1.3.6.1.4.1.14519.5.2.1.6279.6001.1707067576152...  GE MEDICAL SYSTEMS   \n",
       "1.3.6.1.4.1.14519.5.2.1.6279.6001.1790493736364...  GE MEDICAL SYSTEMS   \n",
       "1.3.6.1.4.1.14519.5.2.1.6279.6001.6193720684170...  GE MEDICAL SYSTEMS   \n",
       "\n",
       "                                                   Manufacturer  \\\n",
       "1.3.6.1.4.1.14519.5.2.1.6279.6001.1707067576152...           CT   \n",
       "1.3.6.1.4.1.14519.5.2.1.6279.6001.1790493736364...           CT   \n",
       "1.3.6.1.4.1.14519.5.2.1.6279.6001.6193720684170...           CT   \n",
       "\n",
       "                                                            Modality  \\\n",
       "1.3.6.1.4.1.14519.5.2.1.6279.6001.1707067576152...  CT Image Storage   \n",
       "1.3.6.1.4.1.14519.5.2.1.6279.6001.1790493736364...  CT Image Storage   \n",
       "1.3.6.1.4.1.14519.5.2.1.6279.6001.6193720684170...  CT Image Storage   \n",
       "\n",
       "                                                               SOP Class Name  \\\n",
       "1.3.6.1.4.1.14519.5.2.1.6279.6001.1707067576152...  1.2.840.10008.5.1.4.1.1.2   \n",
       "1.3.6.1.4.1.14519.5.2.1.6279.6001.1790493736364...  1.2.840.10008.5.1.4.1.1.2   \n",
       "1.3.6.1.4.1.14519.5.2.1.6279.6001.6193720684170...  1.2.840.10008.5.1.4.1.1.2   \n",
       "\n",
       "                                                    SOP Class UID  \\\n",
       "1.3.6.1.4.1.14519.5.2.1.6279.6001.1707067576152...            140   \n",
       "1.3.6.1.4.1.14519.5.2.1.6279.6001.1790493736364...            133   \n",
       "1.3.6.1.4.1.14519.5.2.1.6279.6001.6193720684170...            261   \n",
       "\n",
       "                                                    Number of Images  \\\n",
       "1.3.6.1.4.1.14519.5.2.1.6279.6001.1707067576152...                74   \n",
       "1.3.6.1.4.1.14519.5.2.1.6279.6001.1790493736364...                70   \n",
       "1.3.6.1.4.1.14519.5.2.1.6279.6001.6193720684170...               137   \n",
       "\n",
       "                                                   File Size  \\\n",
       "1.3.6.1.4.1.14519.5.2.1.6279.6001.1707067576152...     11 MB   \n",
       "1.3.6.1.4.1.14519.5.2.1.6279.6001.1790493736364...     33 MB   \n",
       "1.3.6.1.4.1.14519.5.2.1.6279.6001.6193720684170...     73 MB   \n",
       "\n",
       "                                                                                        File Location  \\\n",
       "1.3.6.1.4.1.14519.5.2.1.6279.6001.1707067576152...  .\\LIDC-IDRI\\LIDC-IDRI-0003\\01-01-2000-NA-NA-94...   \n",
       "1.3.6.1.4.1.14519.5.2.1.6279.6001.1790493736364...  .\\LIDC-IDRI\\LIDC-IDRI-0001\\01-01-2000-NA-NA-30...   \n",
       "1.3.6.1.4.1.14519.5.2.1.6279.6001.6193720684170...  .\\LIDC-IDRI\\LIDC-IDRI-0002\\01-01-2000-NA-NA-98...   \n",
       "\n",
       "                                                         Download Timestamp  \n",
       "1.3.6.1.4.1.14519.5.2.1.6279.6001.1707067576152...  2022-06-05T20:43:45.902  \n",
       "1.3.6.1.4.1.14519.5.2.1.6279.6001.1790493736364...  2022-06-05T20:43:45.902  \n",
       "1.3.6.1.4.1.14519.5.2.1.6279.6001.6193720684170...  2022-06-05T20:44:11.474  "
      ]
     },
     "execution_count": 5,
     "metadata": {},
     "output_type": "execute_result"
    }
   ],
   "source": [
    "df = pd.read_csv(f\"/home/mainlab1/TCCPauloLucas/Base_LIDC-IDRI/metadata.csv\")\n",
    "df.head(3)"
   ]
  },
  {
   "cell_type": "code",
   "execution_count": 6,
   "id": "53dc07cb",
   "metadata": {},
   "outputs": [],
   "source": [
    "s = f\"\"\"[dicom]\n",
    "path = {DICOM_DIR}\n",
    "warn = True\"\"\"\n",
    "\n",
    "with open('/home/mainlab1/.pylidcrc', 'w') as f:\n",
    "    f.write(s)"
   ]
  },
  {
   "cell_type": "code",
   "execution_count": 7,
   "id": "0ad3db38",
   "metadata": {},
   "outputs": [],
   "source": [
    "LIDC_IDRI_list= [f for f in os.listdir(DICOM_DIR) if f.startswith('LIDC')]\n",
    "LIDC_IDRI_list.sort()"
   ]
  },
  {
   "cell_type": "code",
   "execution_count": 8,
   "id": "1278c37d",
   "metadata": {},
   "outputs": [
    {
     "data": {
      "text/plain": [
       "380"
      ]
     },
     "execution_count": 8,
     "metadata": {},
     "output_type": "execute_result"
    }
   ],
   "source": [
    "len(LIDC_IDRI_list)"
   ]
  },
  {
   "cell_type": "code",
   "execution_count": 36,
   "id": "4344df5e",
   "metadata": {},
   "outputs": [
    {
     "name": "stdout",
     "output_type": "stream",
     "text": [
      "Loading dicom files ... This may take a moment.\n"
     ]
    }
   ],
   "source": [
    "pid = 'LIDC-IDRI-0250' \n",
    "scan = pl.query(pl.Scan).filter(pl.Scan.patient_id == pid).first()\n",
    "nodules_annotations = scan.cluster_annotations()\n",
    "vol = scan.to_volume()"
   ]
  },
  {
   "cell_type": "code",
   "execution_count": 37,
   "id": "3b73cfdc",
   "metadata": {},
   "outputs": [
    {
     "data": {
      "text/plain": [
       "pylidc.Scan.Scan"
      ]
     },
     "execution_count": 37,
     "metadata": {},
     "output_type": "execute_result"
    }
   ],
   "source": [
    "type(scan)"
   ]
  },
  {
   "cell_type": "code",
   "execution_count": 38,
   "id": "03de6725",
   "metadata": {},
   "outputs": [
    {
     "name": "stdout",
     "output_type": "stream",
     "text": [
      "Slice thickness: 2.5 mm\n",
      "Slice spacing: 2.5 mm\n"
     ]
    }
   ],
   "source": [
    "print(f\"Slice thickness: {scan.slice_thickness} mm\")\n",
    "print(f\"Slice spacing: {scan.slice_spacing} mm\")"
   ]
  },
  {
   "cell_type": "code",
   "execution_count": 39,
   "id": "b06bd3fd",
   "metadata": {},
   "outputs": [
    {
     "data": {
      "text/plain": [
       "3"
      ]
     },
     "execution_count": 39,
     "metadata": {},
     "output_type": "execute_result"
    }
   ],
   "source": [
    "len(nodules_annotations)"
   ]
  },
  {
   "cell_type": "code",
   "execution_count": 40,
   "id": "20be4b40",
   "metadata": {},
   "outputs": [
    {
     "data": {
      "text/plain": [
       "[[Annotation(id=1968,scan_id=250),\n",
       "  Annotation(id=1970,scan_id=250),\n",
       "  Annotation(id=1973,scan_id=250),\n",
       "  Annotation(id=1975,scan_id=250)],\n",
       " [Annotation(id=1967,scan_id=250),\n",
       "  Annotation(id=1969,scan_id=250),\n",
       "  Annotation(id=1972,scan_id=250),\n",
       "  Annotation(id=1976,scan_id=250)],\n",
       " [Annotation(id=1971,scan_id=250), Annotation(id=1974,scan_id=250)]]"
      ]
     },
     "execution_count": 40,
     "metadata": {},
     "output_type": "execute_result"
    }
   ],
   "source": [
    "nodules_annotations"
   ]
  },
  {
   "cell_type": "code",
   "execution_count": 41,
   "id": "166a536d",
   "metadata": {},
   "outputs": [],
   "source": [
    "consensus_mask, cbbox, masks = consensus(nodules_annotations[0], CONFIDENCE_LEVEL, PADDING_SIZE)"
   ]
  },
  {
   "cell_type": "code",
   "execution_count": 42,
   "id": "84b8aae7",
   "metadata": {},
   "outputs": [
    {
     "name": "stdout",
     "output_type": "stream",
     "text": [
      "Type of mask: <class 'numpy.ndarray'> \n",
      "Type of cbox: <class 'tuple'> \n",
      "Type of masks: <class 'list'>\n",
      "Type of each element from masks: <class 'numpy.ndarray'>, length of masks: 4\n"
     ]
    }
   ],
   "source": [
    "print(f'Type of mask: {type(consensus_mask)} \\nType of cbox: {type(cbbox)} \\nType of masks: {type(masks)}')\n",
    "print(f\"Type of each element from masks: {type(masks[0])}, length of masks: {len(masks)}\")"
   ]
  },
  {
   "cell_type": "code",
   "execution_count": 43,
   "id": "4c453428",
   "metadata": {},
   "outputs": [
    {
     "name": "stdout",
     "output_type": "stream",
     "text": [
      "Image shape: (512, 512, 133)\n",
      "Consensus mask shape: (512, 512, 133)\n",
      "Annotated masks shape: [(512, 512, 133), (512, 512, 133), (512, 512, 133), (512, 512, 133)]\n"
     ]
    }
   ],
   "source": [
    "print(f\"Image shape: {vol.shape}\")\n",
    "print(f\"Consensus mask shape: {consensus_mask.shape}\")\n",
    "print(f\"Annotated masks shape: {[mask.shape for mask in masks]}\")"
   ]
  },
  {
   "cell_type": "code",
   "execution_count": 44,
   "id": "c9378452",
   "metadata": {},
   "outputs": [
    {
     "name": "stdout",
     "output_type": "stream",
     "text": [
      "84\n",
      "85\n",
      "86\n",
      "87\n",
      "88\n"
     ]
    }
   ],
   "source": [
    "for slice_idx, each_slice in enumerate(consensus_mask.transpose(2,0,1)):\n",
    "    if np.any(each_slice):\n",
    "        print(slice_idx)"
   ]
  },
  {
   "cell_type": "code",
   "execution_count": 45,
   "id": "cf3d809b",
   "metadata": {},
   "outputs": [
    {
     "data": {
      "image/png": "[encoded data removed]",
      "text/plain": [
       "<Figure size 1440x1440 with 5 Axes>"
      ]
     },
     "metadata": {
      "needs_background": "light"
     },
     "output_type": "display_data"
    }
   ],
   "source": [
    "# Displaying slice 89 of consensus_mask and of each annotated mask\n",
    "fig, ax = plt.subplots(1, len(masks) + 1, figsize=(20,20))\n",
    "slice_idx = 85\n",
    "ax[0].imshow(consensus_mask[:,:,slice_idx])\n",
    "ax[0].set_title('Consensus mask')\n",
    "for idx, mask in enumerate(masks):\n",
    "    ax[idx + 1].imshow(mask[:,:,slice_idx])\n",
    "    ax[idx + 1].set_title(f'Annotated mask #{idx + 1}')"
   ]
  },
  {
   "cell_type": "code",
   "execution_count": 46,
   "id": "d14dc324",
   "metadata": {
    "scrolled": true
   },
   "outputs": [
    {
     "data": {
      "text/plain": [
       "<matplotlib.image.AxesImage at 0x7f07670f1470>"
      ]
     },
     "execution_count": 46,
     "metadata": {},
     "output_type": "execute_result"
    },
    {
     "data": {
      "image/png": "[encoded data removed]",
      "text/plain": [
       "<Figure size 432x288 with 1 Axes>"
      ]
     },
     "metadata": {
      "needs_background": "light"
     },
     "output_type": "display_data"
    }
   ],
   "source": [
    "plt.imshow(vol[:,:,slice_idx])"
   ]
  },
  {
   "cell_type": "code",
   "execution_count": 22,
   "id": "e2b1368b",
   "metadata": {
    "scrolled": true
   },
   "outputs": [
    {
     "name": "stderr",
     "output_type": "stream",
     "text": [
      "  8%|▊         | 30/380 [01:07<13:31,  2.32s/it]"
     ]
    },
    {
     "name": "stdout",
     "output_type": "stream",
     "text": [
      "Failed to reduce all groups to <= 4 Annotations.\n",
      "Some nodules may be close and must be grouped manually.\n"
     ]
    },
    {
     "name": "stderr",
     "output_type": "stream",
     "text": [
      " 10%|▉         | 37/380 [01:25<13:14,  2.32s/it]\n"
     ]
    },
    {
     "ename": "OSError",
     "evalue": "Not enough free space to write 78118912 bytes",
     "output_type": "error",
     "traceback": [
      "\u001b[0;31m---------------------------------------------------------------------------\u001b[0m",
      "\u001b[0;31mOSError\u001b[0m                                   Traceback (most recent call last)",
      "\u001b[0;32m<ipython-input-22-4180d7f2d8f8>\u001b[0m in \u001b[0;36m<module>\u001b[0;34m\u001b[0m\n\u001b[1;32m     16\u001b[0m                 \u001b[0maggregated_mask\u001b[0m \u001b[0;34m+=\u001b[0m \u001b[0mconsensus_mask\u001b[0m\u001b[0;34m\u001b[0m\u001b[0;34m\u001b[0m\u001b[0m\n\u001b[1;32m     17\u001b[0m         \u001b[0mnp\u001b[0m\u001b[0;34m.\u001b[0m\u001b[0msave\u001b[0m\u001b[0;34m(\u001b[0m\u001b[0;34mf'./LIDC-IDRI_data/masks/{pid}.npy'\u001b[0m\u001b[0;34m,\u001b[0m \u001b[0maggregated_mask\u001b[0m\u001b[0;34m)\u001b[0m\u001b[0;34m\u001b[0m\u001b[0;34m\u001b[0m\u001b[0m\n\u001b[0;32m---> 18\u001b[0;31m         \u001b[0mnp\u001b[0m\u001b[0;34m.\u001b[0m\u001b[0msave\u001b[0m\u001b[0;34m(\u001b[0m\u001b[0;34mf'./LIDC-IDRI_data/images/{pid}.npy'\u001b[0m\u001b[0;34m,\u001b[0m \u001b[0mvol\u001b[0m\u001b[0;34m)\u001b[0m\u001b[0;34m\u001b[0m\u001b[0;34m\u001b[0m\u001b[0m\n\u001b[0m",
      "\u001b[0;32m<__array_function__ internals>\u001b[0m in \u001b[0;36msave\u001b[0;34m(*args, **kwargs)\u001b[0m\n",
      "\u001b[0;32m~/PauloLucas/lib/python3.6/site-packages/numpy/lib/npyio.py\u001b[0m in \u001b[0;36msave\u001b[0;34m(file, arr, allow_pickle, fix_imports)\u001b[0m\n\u001b[1;32m    527\u001b[0m         \u001b[0marr\u001b[0m \u001b[0;34m=\u001b[0m \u001b[0mnp\u001b[0m\u001b[0;34m.\u001b[0m\u001b[0masanyarray\u001b[0m\u001b[0;34m(\u001b[0m\u001b[0marr\u001b[0m\u001b[0;34m)\u001b[0m\u001b[0;34m\u001b[0m\u001b[0;34m\u001b[0m\u001b[0m\n\u001b[1;32m    528\u001b[0m         format.write_array(fid, arr, allow_pickle=allow_pickle,\n\u001b[0;32m--> 529\u001b[0;31m                            pickle_kwargs=dict(fix_imports=fix_imports))\n\u001b[0m\u001b[1;32m    530\u001b[0m \u001b[0;34m\u001b[0m\u001b[0m\n\u001b[1;32m    531\u001b[0m \u001b[0;34m\u001b[0m\u001b[0m\n",
      "\u001b[0;32m~/PauloLucas/lib/python3.6/site-packages/numpy/lib/format.py\u001b[0m in \u001b[0;36mwrite_array\u001b[0;34m(fp, array, version, allow_pickle, pickle_kwargs)\u001b[0m\n\u001b[1;32m    673\u001b[0m     \u001b[0;32melse\u001b[0m\u001b[0;34m:\u001b[0m\u001b[0;34m\u001b[0m\u001b[0;34m\u001b[0m\u001b[0m\n\u001b[1;32m    674\u001b[0m         \u001b[0;32mif\u001b[0m \u001b[0misfileobj\u001b[0m\u001b[0;34m(\u001b[0m\u001b[0mfp\u001b[0m\u001b[0;34m)\u001b[0m\u001b[0;34m:\u001b[0m\u001b[0;34m\u001b[0m\u001b[0;34m\u001b[0m\u001b[0m\n\u001b[0;32m--> 675\u001b[0;31m             \u001b[0marray\u001b[0m\u001b[0;34m.\u001b[0m\u001b[0mtofile\u001b[0m\u001b[0;34m(\u001b[0m\u001b[0mfp\u001b[0m\u001b[0;34m)\u001b[0m\u001b[0;34m\u001b[0m\u001b[0;34m\u001b[0m\u001b[0m\n\u001b[0m\u001b[1;32m    676\u001b[0m         \u001b[0;32melse\u001b[0m\u001b[0;34m:\u001b[0m\u001b[0;34m\u001b[0m\u001b[0;34m\u001b[0m\u001b[0m\n\u001b[1;32m    677\u001b[0m             for chunk in numpy.nditer(\n",
      "\u001b[0;31mOSError\u001b[0m: Not enough free space to write 78118912 bytes"
     ]
    }
   ],
   "source": [
    "for patient in tqdm(LIDC_IDRI_list):\n",
    "    pid = patient\n",
    "    scan = pl.query(pl.Scan).filter(pl.Scan.patient_id == pid).first()\n",
    "    if scan.slice_thickness <= 2.5:\n",
    "        nodules_annotations = scan.cluster_annotations()\n",
    "        vol = scan.to_volume(verbose=False)\n",
    "        aggregated_mask = np.full(vol.shape, 0,dtype='bool')\n",
    "        for nodule_annotation in nodules_annotations:\n",
    "        # Call nodule images. Each Patient will have at maximum 4 annotations as there are only 4 doctors\n",
    "        # This current for loop iterates over total number of nodules in a single patient\n",
    "            if len(nodule_annotation) > 2:\n",
    "                consensus_mask, _, _ = consensus(nodule_annotation, CONFIDENCE_LEVEL, PADDING_SIZE)\n",
    "                if consensus_mask.shape != vol.shape:\n",
    "                    print(\"Mask and image with differente shapes.\")\n",
    "                    continue\n",
    "                aggregated_mask += consensus_mask\n",
    "        np.save(f'./LIDC-IDRI_data/masks/{pid}.npy', aggregated_mask)\n",
    "        np.save(f'./LIDC-IDRI_data/images/{pid}.npy', vol)"
   ]
  },
  {
   "cell_type": "code",
   "execution_count": 22,
   "id": "ca7fc345",
   "metadata": {},
   "outputs": [
    {
     "name": "stdout",
     "output_type": "stream",
     "text": [
      "2388 slices with a mask, which represents 4.68% of the total.\n"
     ]
    }
   ],
   "source": [
    "# How many mask slices have at least one pixel with value equal to 1?\n",
    "count_with_mask = 0\n",
    "count_slices = 0\n",
    "mask_dir = './LIDC-IDRI_data/masks/'\n",
    "\n",
    "for mask_path in os.listdir(mask_dir):\n",
    "    mask_vol = np.load(mask_dir + mask_path)\n",
    "    for each_slice in mask_vol.transpose(2,0,1):\n",
    "        count_slices+=1\n",
    "        if each_slice.any():\n",
    "            count_with_mask+=1\n",
    "print(f\"{count_with_mask} slices with a mask, which represents {100*count_with_mask/count_slices:.2f}% of the total.\")"
   ]
  }
 ],
 "metadata": {
  "kernelspec": {
   "display_name": "Python 3",
   "language": "python",
   "name": "python3"
  },
  "language_info": {
   "codemirror_mode": {
    "name": "ipython",
    "version": 3
   },
   "file_extension": ".py",
   "mimetype": "text/x-python",
   "name": "python",
   "nbconvert_exporter": "python",
   "pygments_lexer": "ipython3",
   "version": "3.6.13"
  }
 },
 "nbformat": 4,
 "nbformat_minor": 5
}
