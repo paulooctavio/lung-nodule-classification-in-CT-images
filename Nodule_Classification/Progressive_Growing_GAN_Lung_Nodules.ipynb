{
 "cells": [
  {
   "cell_type": "code",
   "execution_count": 35,
   "id": "2e61ce3a",
   "metadata": {},
   "outputs": [],
   "source": [
    "import datetime\n",
    "import numpy as np\n",
    "import os\n",
    "import time\n",
    "import torch\n",
    "import torch.nn.functional as F\n",
    "import torch.nn as nn\n",
    "import torch.optim as optim\n",
    "import torchvision\n",
    "import torchvision.datasets as datasets\n",
    "import torchvision.transforms as transforms\n",
    "import matplotlib.pyplot as plt\n",
    "import random\n",
    "import albumentations as A\n",
    "\n",
    "\n",
    "from math import log2\n",
    "from PIL import Image\n",
    "from pydicom import dcmread\n",
    "from torch.utils.data import DataLoader\n",
    "from torch.utils.data import Dataset\n",
    "from torch.utils.tensorboard import SummaryWriter  # to print to tensorboard\n",
    "from tqdm import tqdm\n",
    "from torchvision.utils import save_image"
   ]
  },
  {
   "cell_type": "code",
   "execution_count": 36,
   "id": "f8efe6b9",
   "metadata": {},
   "outputs": [],
   "source": [
    "torch.cuda.empty_cache()"
   ]
  },
  {
   "cell_type": "code",
   "execution_count": 37,
   "id": "88e83b7b",
   "metadata": {},
   "outputs": [],
   "source": [
    "%run utils.ipynb"
   ]
  },
  {
   "cell_type": "markdown",
   "id": "f1cc16e0",
   "metadata": {},
   "source": [
    "## Utils"
   ]
  },
  {
   "cell_type": "code",
   "execution_count": 38,
   "id": "97bf53cd",
   "metadata": {},
   "outputs": [],
   "source": [
    "from torchvision.utils import save_image\n",
    "from scipy.stats import truncnorm\n",
    "\n",
    "# Print losses occasionally and print to tensorboard\n",
    "def plot_to_tensorboard(\n",
    "    writer, loss_critic, loss_gen, real, fake, cur_res, lr, tensorboard_step\n",
    "):\n",
    "    writer.add_scalar(\"data/loss_dis\", loss_critic, global_step=tensorboard_step)\n",
    "    writer.add_scalar(\"data/loss_gen\", loss_gen, global_step=tensorboard_step)\n",
    "    writer.add_scalar(\"data/cur_resl\", int(cur_res), global_step=tensorboard_step)\n",
    "    writer.add_scalar(\"data/cur_lr\", lr, global_step=tensorboard_step)\n",
    "\n",
    "    with torch.no_grad():\n",
    "        # take out (up to) 8 examples to plot\n",
    "        img_grid_real = torchvision.utils.make_grid(real[:16], normalize=True)\n",
    "        img_grid_fake = torchvision.utils.make_grid(fake[:16], normalize=True)\n",
    "        writer.add_image(\"Real\", img_grid_real, global_step=tensorboard_step)\n",
    "        writer.add_image(\"Fake\", img_grid_fake, global_step=tensorboard_step)\n",
    "\n",
    "\n",
    "def gradient_penalty(critic, real, fake, alpha, train_step, device=\"cpu\"):\n",
    "    BATCH_SIZE, C, H, W = real.shape\n",
    "    beta = torch.rand((BATCH_SIZE, 1, 1, 1)).repeat(1, C, H, W).to(device)\n",
    "    interpolated_images = real * beta + fake.detach() * (1 - beta)\n",
    "    interpolated_images.requires_grad_(True)\n",
    "\n",
    "    # Calculate critic scores\n",
    "    mixed_scores = critic(interpolated_images, alpha, train_step)\n",
    "\n",
    "    # Take the gradient of the scores with respect to the images\n",
    "    gradient = torch.autograd.grad(\n",
    "        inputs=interpolated_images,\n",
    "        outputs=mixed_scores,\n",
    "        grad_outputs=torch.ones_like(mixed_scores),\n",
    "        create_graph=True,\n",
    "        retain_graph=True,\n",
    "    )[0]\n",
    "    gradient = gradient.view(gradient.shape[0], -1)\n",
    "    gradient_norm = gradient.norm(2, dim=1)\n",
    "    gradient_penalty = torch.mean((gradient_norm - 1) ** 2)\n",
    "    return gradient_penalty\n",
    "\n",
    "\n",
    "def save_checkpoint(model, optimizer, filename=\"my_checkpoint.pth.tar\"):\n",
    "    print(\"=> Saving checkpoint\")\n",
    "    checkpoint = {\n",
    "        \"state_dict\": model.state_dict(),\n",
    "        \"optimizer\": optimizer.state_dict(),\n",
    "    }\n",
    "    torch.save(checkpoint, filename)\n",
    "\n",
    "\n",
    "def load_checkpoint(checkpoint_file, model, optimizer, lr):\n",
    "    print(\"=> Loading checkpoint\")\n",
    "    checkpoint = torch.load(checkpoint_file, map_location=\"cuda\")\n",
    "    model.load_state_dict(checkpoint[\"state_dict\"])\n",
    "    optimizer.load_state_dict(checkpoint[\"optimizer\"])\n",
    "\n",
    "    # If we don't do this then it will just have learning rate of old checkpoint\n",
    "    # and it will lead to many hours of debugging \\:\n",
    "    for param_group in optimizer.param_groups:\n",
    "        param_group[\"lr\"] = lr\n",
    "\n",
    "def seed_everything(seed=42):\n",
    "    os.environ['PYTHONHASHSEED'] = str(seed)\n",
    "    random.seed(seed)\n",
    "    np.random.seed(seed)\n",
    "    torch.manual_seed(seed)\n",
    "    torch.cuda.manual_seed(seed)\n",
    "    torch.cuda.manual_seed_all(seed)\n",
    "    torch.backends.cudnn.deterministic = True\n",
    "    torch.backends.cudnn.benchmark = False\n",
    "\n",
    "def generate_examples(gen, steps, truncation=0.7, n=100):\n",
    "    \"\"\"\n",
    "    Tried using truncation trick here but not sure it actually helped anything, you can\n",
    "    remove it if you like and just sample from torch.randn\n",
    "    \"\"\"\n",
    "    gen.eval()\n",
    "    alpha = 1.0\n",
    "    for i in range(n):\n",
    "        with torch.no_grad():\n",
    "            noise = torch.tensor(truncnorm.rvs(-truncation, truncation, size=(1, Z_DIM, 1, 1)), device=DEVICE, dtype=torch.float32)\n",
    "            img = gen(noise, alpha, steps)\n",
    "            save_image(img*0.5+0.5, f\"saved_examples/img_{i}.png\")\n",
    "    gen.train()\n",
    "    \n",
    "    \n",
    "resize_transform = transforms.Compose(\n",
    "        [\n",
    "            transforms.ToPILImage(),\n",
    "            transforms.Resize((64, 64)),\n",
    "            transforms.ToTensor(),\n",
    "        ]\n",
    ")"
   ]
  },
  {
   "cell_type": "markdown",
   "id": "f2c182a8",
   "metadata": {},
   "source": [
    "## Model"
   ]
  },
  {
   "cell_type": "code",
   "execution_count": 39,
   "id": "afbf3271",
   "metadata": {},
   "outputs": [],
   "source": [
    "\"\"\"\n",
    "Implementation of ProGAN generator and discriminator with the key\n",
    "attributions from the paper. We have tried to make the implementation\n",
    "compact but a goal is also to keep it readable and understandable.\n",
    "Specifically the key points implemented are:\n",
    "\n",
    "1) Progressive growing (of model and layers)\n",
    "2) Minibatch std on Discriminator\n",
    "3) Normalization with PixelNorm\n",
    "4) Equalized Learning Rate (here I cheated and only did it on Conv layers)\n",
    "\"\"\"\n",
    "\n",
    "\"\"\"\n",
    "Factors is used in Discrmininator and Generator for how much\n",
    "the channels should be multiplied and expanded for each layer,\n",
    "so specifically the first 5 layers the channels stay the same,\n",
    "whereas when we increase the img_size (towards the later layers)\n",
    "we decrease the number of chanels by 1/2, 1/4, etc.\n",
    "\"\"\"\n",
    "factors = [1, 1, 1, 1, 1 / 2, 1 / 4, 1 / 8, 1 / 16, 1 / 32]\n",
    "\n",
    "\n",
    "class WSConv2d(nn.Module):\n",
    "    \"\"\"\n",
    "    Weight scaled Conv2d (Equalized Learning Rate)\n",
    "    Note that input is multiplied rather than changing weights\n",
    "    this will have the same result.\n",
    "\n",
    "    Inspired and looked at:\n",
    "    https://github.com/nvnbny/progressive_growing_of_gans/blob/master/modelUtils.py\n",
    "    \"\"\"\n",
    "\n",
    "    def __init__(\n",
    "        self, in_channels, out_channels, kernel_size=3, stride=1, padding=1, gain=2\n",
    "    ):\n",
    "        super(WSConv2d, self).__init__()\n",
    "        self.conv = nn.Conv2d(in_channels, out_channels, kernel_size, stride, padding)\n",
    "        self.scale = (gain / (in_channels * (kernel_size ** 2))) ** 0.5\n",
    "        self.bias = self.conv.bias\n",
    "        self.conv.bias = None\n",
    "\n",
    "        # initialize conv layer\n",
    "        nn.init.normal_(self.conv.weight)\n",
    "        nn.init.zeros_(self.bias)\n",
    "\n",
    "    def forward(self, x):\n",
    "        return self.conv(x * self.scale) + self.bias.view(1, self.bias.shape[0], 1, 1)\n",
    "\n",
    "\n",
    "class PixelNorm(nn.Module):\n",
    "    def __init__(self):\n",
    "        super(PixelNorm, self).__init__()\n",
    "        self.epsilon = 1e-8\n",
    "\n",
    "    def forward(self, x):\n",
    "        return x / torch.sqrt(torch.mean(x ** 2, dim=1, keepdim=True) + self.epsilon)\n",
    "\n",
    "\n",
    "class ConvBlock(nn.Module):\n",
    "    def __init__(self, in_channels, out_channels, use_pixelnorm=True):\n",
    "        super(ConvBlock, self).__init__()\n",
    "        self.use_pn = use_pixelnorm\n",
    "        self.conv1 = WSConv2d(in_channels, out_channels)\n",
    "        self.conv2 = WSConv2d(out_channels, out_channels)\n",
    "        self.leaky = nn.LeakyReLU(0.2)\n",
    "        self.pn = PixelNorm()\n",
    "\n",
    "    def forward(self, x):\n",
    "        x = self.leaky(self.conv1(x))\n",
    "        x = self.pn(x) if self.use_pn else x\n",
    "        x = self.leaky(self.conv2(x))\n",
    "        x = self.pn(x) if self.use_pn else x\n",
    "        return x\n",
    "\n",
    "\n",
    "class Generator(nn.Module):\n",
    "    def __init__(self, z_dim, in_channels, img_channels=3):\n",
    "        super(Generator, self).__init__()\n",
    "\n",
    "        # initial takes 1x1 -> 4x4\n",
    "        self.initial = nn.Sequential(\n",
    "            PixelNorm(),\n",
    "            nn.ConvTranspose2d(z_dim, in_channels, 4, 1, 0),\n",
    "            nn.LeakyReLU(0.2),\n",
    "            WSConv2d(in_channels, in_channels, kernel_size=3, stride=1, padding=1),\n",
    "            nn.LeakyReLU(0.2),\n",
    "            PixelNorm(),\n",
    "        )\n",
    "\n",
    "        self.initial_rgb = WSConv2d(\n",
    "            in_channels, img_channels, kernel_size=1, stride=1, padding=0\n",
    "        )\n",
    "        self.prog_blocks, self.rgb_layers = (\n",
    "            nn.ModuleList([]),\n",
    "            nn.ModuleList([self.initial_rgb]),\n",
    "        )\n",
    "\n",
    "        for i in range(\n",
    "            len(factors) - 1\n",
    "        ):  # -1 to prevent index error because of factors[i+1]\n",
    "            conv_in_c = int(in_channels * factors[i])\n",
    "            conv_out_c = int(in_channels * factors[i + 1])\n",
    "            self.prog_blocks.append(ConvBlock(conv_in_c, conv_out_c))\n",
    "            self.rgb_layers.append(\n",
    "                WSConv2d(conv_out_c, img_channels, kernel_size=1, stride=1, padding=0)\n",
    "            )\n",
    "\n",
    "    def fade_in(self, alpha, upscaled, generated):\n",
    "        # alpha should be scalar within [0, 1], and upscale.shape == generated.shape\n",
    "        return torch.tanh(alpha * generated + (1 - alpha) * upscaled)\n",
    "\n",
    "    def forward(self, x, alpha, steps):\n",
    "        out = self.initial(x)\n",
    "\n",
    "        if steps == 0:\n",
    "            return self.initial_rgb(out)\n",
    "\n",
    "        for step in range(steps):\n",
    "            upscaled = F.interpolate(out, scale_factor=2, mode=\"nearest\")\n",
    "            out = self.prog_blocks[step](upscaled)\n",
    "\n",
    "        # The number of channels in upscale will stay the same, while\n",
    "        # out which has moved through prog_blocks might change. To ensure\n",
    "        # we can convert both to rgb we use different rgb_layers\n",
    "        # (steps-1) and steps for upscaled, out respectively\n",
    "        final_upscaled = self.rgb_layers[steps - 1](upscaled)\n",
    "        final_out = self.rgb_layers[steps](out)\n",
    "        return self.fade_in(alpha, final_upscaled, final_out)\n",
    "\n",
    "\n",
    "class Discriminator(nn.Module):\n",
    "    def __init__(self, z_dim, in_channels, img_channels=3):\n",
    "        super(Discriminator, self).__init__()\n",
    "        self.prog_blocks, self.rgb_layers = nn.ModuleList([]), nn.ModuleList([])\n",
    "        self.leaky = nn.LeakyReLU(0.2)\n",
    "\n",
    "        # here we work back ways from factors because the discriminator\n",
    "        # should be mirrored from the generator. So the first prog_block and\n",
    "        # rgb layer we append will work for input size 1024x1024, then 512->256-> etc\n",
    "        for i in range(len(factors) - 1, 0, -1):\n",
    "            conv_in = int(in_channels * factors[i])\n",
    "            conv_out = int(in_channels * factors[i - 1])\n",
    "            self.prog_blocks.append(ConvBlock(conv_in, conv_out, use_pixelnorm=False))\n",
    "            self.rgb_layers.append(\n",
    "                WSConv2d(img_channels, conv_in, kernel_size=1, stride=1, padding=0)\n",
    "            )\n",
    "\n",
    "        # perhaps confusing name \"initial_rgb\" this is just the RGB layer for 4x4 input size\n",
    "        # did this to \"mirror\" the generator initial_rgb\n",
    "        self.initial_rgb = WSConv2d(\n",
    "            img_channels, in_channels, kernel_size=1, stride=1, padding=0\n",
    "        )\n",
    "        self.rgb_layers.append(self.initial_rgb)\n",
    "        self.avg_pool = nn.AvgPool2d(\n",
    "            kernel_size=2, stride=2\n",
    "        )  # down sampling using avg pool\n",
    "\n",
    "        # this is the block for 4x4 input size\n",
    "        self.final_block = nn.Sequential(\n",
    "            # +1 to in_channels because we concatenate from MiniBatch std\n",
    "            WSConv2d(in_channels + 1, in_channels, kernel_size=3, padding=1),\n",
    "            nn.LeakyReLU(0.2),\n",
    "            WSConv2d(in_channels, in_channels, kernel_size=4, padding=0, stride=1),\n",
    "            nn.LeakyReLU(0.2),\n",
    "            WSConv2d(\n",
    "                in_channels, 1, kernel_size=1, padding=0, stride=1\n",
    "            ),  # we use this instead of linear layer\n",
    "        )\n",
    "\n",
    "    def fade_in(self, alpha, downscaled, out):\n",
    "        \"\"\"Used to fade in downscaled using avg pooling and output from CNN\"\"\"\n",
    "        # alpha should be scalar within [0, 1], and upscale.shape == generated.shape\n",
    "        return alpha * out + (1 - alpha) * downscaled\n",
    "\n",
    "    def minibatch_std(self, x):\n",
    "        batch_statistics = (\n",
    "            torch.std(x, dim=0).mean().repeat(x.shape[0], 1, x.shape[2], x.shape[3])\n",
    "        )\n",
    "        # we take the std for each example (across all channels, and pixels) then we repeat it\n",
    "        # for a single channel and concatenate it with the image. In this way the discriminator\n",
    "        # will get information about the variation in the batch/image\n",
    "        return torch.cat([x, batch_statistics], dim=1)\n",
    "\n",
    "    def forward(self, x, alpha, steps):\n",
    "        # where we should start in the list of prog_blocks, maybe a bit confusing but\n",
    "        # the last is for the 4x4. So example let's say steps=1, then we should start\n",
    "        # at the second to last because input_size will be 8x8. If steps==0 we just\n",
    "        # use the final block\n",
    "        cur_step = len(self.prog_blocks) - steps\n",
    "\n",
    "        # convert from rgb as initial step, this will depend on\n",
    "        # the image size (each will have it's on rgb layer)\n",
    "        out = self.leaky(self.rgb_layers[cur_step](x))\n",
    "\n",
    "        if steps == 0:  # i.e, image is 4x4\n",
    "            out = self.minibatch_std(out)\n",
    "            return self.final_block(out).view(out.shape[0], -1)\n",
    "\n",
    "        # because prog_blocks might change the channels, for down scale we use rgb_layer\n",
    "        # from previous/smaller size which in our case correlates to +1 in the indexing\n",
    "        downscaled = self.leaky(self.rgb_layers[cur_step + 1](self.avg_pool(x)))\n",
    "        out = self.avg_pool(self.prog_blocks[cur_step](out))\n",
    "\n",
    "        # the fade_in is done first between the downscaled and the input\n",
    "        # this is opposite from the generator\n",
    "        out = self.fade_in(alpha, downscaled, out)\n",
    "\n",
    "        for step in range(cur_step + 1, len(self.prog_blocks)):\n",
    "            out = self.prog_blocks[step](out)\n",
    "            out = self.avg_pool(out)\n",
    "\n",
    "        out = self.minibatch_std(out)\n",
    "        return self.final_block(out).view(out.shape[0], -1)\n",
    "\n",
    "\n",
    "# if __name__ == \"__main__\":\n",
    "#     Z_DIM = 100\n",
    "#     IN_CHANNELS = 256\n",
    "#     gen = Generator(Z_DIM, IN_CHANNELS, img_channels=3)\n",
    "#     critic = Discriminator(Z_DIM, IN_CHANNELS, img_channels=3)\n",
    "\n",
    "#     for img_size in [4, 8, 16, 32, 64, 128, 256, 512, 1024]:\n",
    "#         num_steps = int(log2(img_size / 4))\n",
    "#         x = torch.randn((1, Z_DIM, 1, 1))\n",
    "#         z = gen(x, 0.5, steps=num_steps)\n",
    "#         assert z.shape == (1, 3, img_size, img_size)\n",
    "#         out = critic(z, alpha=0.5, steps=num_steps)\n",
    "#         assert out.shape == (1, 1)\n",
    "#         print(f\"Success! At img size: {img_size}\")"
   ]
  },
  {
   "cell_type": "markdown",
   "id": "d4f1856e",
   "metadata": {},
   "source": [
    "## Hyperparameters"
   ]
  },
  {
   "cell_type": "code",
   "execution_count": 40,
   "id": "7fa3fbb8",
   "metadata": {},
   "outputs": [],
   "source": [
    "LUNG_CANCER_TYPE = 'adeno'\n",
    "EPOCHS = [50]\n",
    "LEARNING_RATE = 1e-3\n",
    "# MODEL_NAME = f'pggan_roi_{LUNG_CANCER_TYPE}_epochs_{EPOCHS[0]}_lr_{LEARNING_RATE}'\n",
    "MODEL_NAME = f'pggan_roi_{LUNG_CANCER_TYPE}_prog_epochs_alpha_0.75'\n",
    "CHECKPOINT_GEN = f\"models/gan/generator_{MODEL_NAME}.pth.tar\"\n",
    "CHECKPOINT_CRITIC = f\"models/gan/critic_{MODEL_NAME}.pth.tar\"\n",
    "DEVICE = \"cuda\" if torch.cuda.is_available() else \"cpu\"\n",
    "SAVE_MODEL = True\n",
    "LOAD_MODEL = False\n",
    "LEARNING_RATE_DECAY = None\n",
    "BATCH_SIZES = [32, 32, 32, 32, 32] # 4, 8, 16, 32, 64, 128, 256, 512 # [32, 32, 32, 24, 12]\n",
    "START_TRAIN_AT_IMG_SIZE = 4\n",
    "MAX_RES = 64\n",
    "CHANNELS_IMG = 1\n",
    "Z_DIM = 512  # should be 512 in original paper\n",
    "IN_CHANNELS = 512  # should be 512 in original paper\n",
    "CRITIC_ITERATIONS = 1\n",
    "LAMBDA_GP = 10\n",
    "PROGRESSIVE_EPOCHS = EPOCHS * len(BATCH_SIZES)\n",
    "# PROGRESSIVE_EPOCHS = [30,30,30,50,75]\n",
    "FIXED_NOISE = torch.randn(16, Z_DIM, 1, 1).to(DEVICE)\n",
    "NUM_WORKERS = 4\n",
    "TRAIN_DIR = f\"/Storage/PauloOctavioDir/nodule_rois/gan/{LUNG_CANCER_TYPE}/images\"\n",
    "MIN_HU_VALUE = -1024\n",
    "MAX_HU_VALUE = 1000\n",
    "ALPHA_MUL = 0.75"
   ]
  },
  {
   "cell_type": "markdown",
   "id": "79bf1f3b",
   "metadata": {},
   "source": [
    "## Dataset and Loader"
   ]
  },
  {
   "cell_type": "code",
   "execution_count": 41,
   "id": "4a706a15",
   "metadata": {},
   "outputs": [],
   "source": [
    "def normalize(image):\n",
    "    min_val = MIN_HU_VALUE\n",
    "    max_val = MAX_HU_VALUE\n",
    "    image[image < min_val] = min_val\n",
    "    image[image > max_val] = max_val\n",
    "    image = (image - min_val) / (max_val - min_val)\n",
    "    return image\n",
    "\n",
    "def denormalize(image):\n",
    "    min_val = MIN_HU_VALUE\n",
    "    max_val = MAX_HU_VALUE\n",
    "    return image * (max_val - min_val) + min_val"
   ]
  },
  {
   "cell_type": "code",
   "execution_count": 42,
   "id": "3d1a3b57",
   "metadata": {},
   "outputs": [],
   "source": [
    "class LungNoduleDataset(Dataset):\n",
    "    def __init__(self, image_dir, transform=None):\n",
    "        self.image_dir = image_dir\n",
    "        self.transform = transform\n",
    "        images = os.listdir(image_dir)\n",
    "        if 'rtss.dcm' in images: images.remove('rtss.dcm')\n",
    "        self.images = images\n",
    "\n",
    "\n",
    "    def __len__(self):\n",
    "         return len(self.images)\n",
    "\n",
    "\n",
    "    def __getitem__(self, index):\n",
    "        img_path = os.path.join(self.image_dir, self.images[index])\n",
    "        data = dcmread(img_path)\n",
    "        image = np.array(data.pixel_array).astype('float32')\n",
    "        # Conversio to HU\n",
    "        intercept = int(data.RescaleIntercept)\n",
    "        slope = int(data.RescaleSlope)\n",
    "        image = (slope * image) + intercept\n",
    "        image = normalize(image)\n",
    "        return self.transform(image)"
   ]
  },
  {
   "cell_type": "code",
   "execution_count": 43,
   "id": "3f6c1db3",
   "metadata": {},
   "outputs": [],
   "source": [
    "\"\"\" Training of ProGAN using WGAN-GP loss\"\"\"\n",
    "\n",
    "torch.backends.cudnn.benchmarks = True\n",
    "\n",
    "class RandomRotationTransform:\n",
    "    \"\"\"Rotate by one of the given angles.\"\"\"\n",
    "\n",
    "    def __init__(self, angles):\n",
    "        self.angles = angles\n",
    "\n",
    "    def __call__(self, x):\n",
    "        angle = random.choice(self.angles)\n",
    "        return transforms.functional.rotate(x, angle)\n",
    "\n",
    "def get_loader(image_size):\n",
    "    transform = transforms.Compose(\n",
    "        [\n",
    "            transforms.ToPILImage(),\n",
    "            transforms.Resize((image_size, image_size)),\n",
    "            transforms.ToTensor(),\n",
    "            transforms.RandomHorizontalFlip(p=.5),\n",
    "#             transforms.RandomApply([transforms.CenterCrop(int(image_size * .9))], p=.3),\n",
    "#             transforms.RandomApply([transforms.GaussianBlur(kernel_size=3, sigma=(1,2))], p=.3),\n",
    "#             transforms.Resize((image_size, image_size)),\n",
    "            RandomRotationTransform(angles=[90,270, 0, 0, 0]),\n",
    "            transforms.Normalize(\n",
    "                [0.5 for _ in range(CHANNELS_IMG)],\n",
    "                [0.5 for _ in range(CHANNELS_IMG)],\n",
    "            ),\n",
    "        ]\n",
    "    )\n",
    "\n",
    "    batch_size = BATCH_SIZES[int(log2(image_size / 4))]\n",
    "    dataset = LungNoduleDataset(image_dir=TRAIN_DIR, transform=transform)\n",
    "    loader = DataLoader(\n",
    "        dataset,\n",
    "        batch_size=batch_size,\n",
    "        shuffle=True,\n",
    "        num_workers=NUM_WORKERS,\n",
    "        pin_memory=True,\n",
    "    )\n",
    "    return loader, dataset"
   ]
  },
  {
   "cell_type": "code",
   "execution_count": 44,
   "id": "284e1b4a",
   "metadata": {},
   "outputs": [
    {
     "name": "stdout",
     "output_type": "stream",
     "text": [
      "Dataset Size: 3263\n",
      "Number of batches: 102\n"
     ]
    },
    {
     "data": {
      "image/png": "[encoded data removed]",
      "text/plain": [
       "<Figure size 1152x432 with 7 Axes>"
      ]
     },
     "metadata": {
      "needs_background": "light"
     },
     "output_type": "display_data"
    }
   ],
   "source": [
    "loader, dataset = get_loader(64)\n",
    "indexes = random.sample(range(0, len(dataset)), 7)\n",
    "\n",
    "# print(f'Index: {idx}')\n",
    "# print(f\"Shape: {image.shape} \\nMin: {image.min()} \\nMax: {image.max()}\")\n",
    "print(f\"Dataset Size: {len(dataset)}\")\n",
    "print(f\"Number of batches: {len(loader)}\")\n",
    "fig, ax = plt.subplots(1,7, figsize=(16,6))\n",
    "for i in range(7):\n",
    "    image = dataset[indexes[i]][0].cpu().detach().numpy()\n",
    "    ax[i].imshow(image)\n",
    "plt.show()"
   ]
  },
  {
   "cell_type": "markdown",
   "id": "01d869df",
   "metadata": {},
   "source": [
    "## Training"
   ]
  },
  {
   "cell_type": "code",
   "execution_count": 45,
   "id": "0b1e699a",
   "metadata": {
    "scrolled": true
   },
   "outputs": [],
   "source": [
    "def train_fn(\n",
    "    critic,\n",
    "    gen,\n",
    "    loader,\n",
    "    dataset,\n",
    "    step,\n",
    "    alpha,\n",
    "    opt_critic,\n",
    "    opt_gen,\n",
    "    tensorboard_step,\n",
    "    writer,\n",
    "    scaler_gen,\n",
    "    scaler_critic,\n",
    "    lr,\n",
    "    global_epoch,\n",
    "):\n",
    "    loop = tqdm(loader, leave=True)\n",
    "    for batch_idx, real in enumerate(loop):\n",
    "        real = real.to(DEVICE)\n",
    "        cur_batch_size = real.shape[0]\n",
    "        cur_res = real.shape[2]\n",
    "\n",
    "        # Train Critic: max E[critic(real)] - E[critic(fake)] <-> min -E[critic(real)] + E[critic(fake)]\n",
    "        # which is equivalent to minimizing the negative of the expression\n",
    "        noise = torch.randn(cur_batch_size, Z_DIM, 1, 1).to(DEVICE)\n",
    "\n",
    "        with torch.cuda.amp.autocast():\n",
    "            fake = gen(noise, alpha, step)\n",
    "            critic_real = critic(real, alpha, step)\n",
    "            critic_fake = critic(fake.detach(), alpha, step)\n",
    "            gp = gradient_penalty(critic, real, fake, alpha, step, device=DEVICE)\n",
    "            loss_critic = (\n",
    "                -(torch.mean(critic_real) - torch.mean(critic_fake))\n",
    "                + LAMBDA_GP * gp\n",
    "                + (0.001 * torch.mean(critic_real ** 2))\n",
    "            )\n",
    "\n",
    "        opt_critic.zero_grad()\n",
    "        scaler_critic.scale(loss_critic).backward()\n",
    "        scaler_critic.step(opt_critic)\n",
    "        scaler_critic.update()\n",
    "\n",
    "        # Train Generator: max E[critic(gen_fake)] <-> min -E[critic(gen_fake)]\n",
    "        with torch.cuda.amp.autocast():\n",
    "            gen_fake = critic(fake, alpha, step)\n",
    "            loss_gen = -torch.mean(gen_fake)\n",
    "\n",
    "        opt_gen.zero_grad()\n",
    "        scaler_gen.scale(loss_gen).backward()\n",
    "        scaler_gen.step(opt_gen)\n",
    "        scaler_gen.update()\n",
    "\n",
    "        # Update alpha and ensure less than 1\n",
    "        alpha += cur_batch_size / (\n",
    "            (PROGRESSIVE_EPOCHS[step] * ALPHA_MUL) * len(dataset)\n",
    "        )\n",
    "        alpha = min(alpha, 1)\n",
    "\n",
    "        if batch_idx % 500 == 0:\n",
    "            with torch.no_grad():\n",
    "                fixed_fakes = gen(FIXED_NOISE, alpha, step) * 0.5 + 0.5\n",
    "\n",
    "            plot_to_tensorboard(\n",
    "                writer,\n",
    "                loss_critic.item(),\n",
    "                loss_gen.item(),\n",
    "                real.detach(),\n",
    "                fixed_fakes.detach(),\n",
    "                cur_res,\n",
    "                lr,\n",
    "                tensorboard_step,\n",
    "            )\n",
    "            tensorboard_step += 1\n",
    "        if global_epoch in [1, 29, 59, 109, 159, 224]:  \n",
    "            resized_imgs = [cv2.resize(img[0].cpu().numpy(), (64,64), interpolation=cv2.INTER_NEAREST) for img in fixed_fakes.detach()[:9]]\n",
    "            resized_imgs_tensors = [torch.from_numpy(i).float().expand(1,64,64) for i in resized_imgs]\n",
    "            imgs_stack = torch.stack(resized_imgs_tensors)\n",
    "            img_grid_fake = torchvision.utils.make_grid(imgs_stack, normalize=True, padding=1, nrow=3)\n",
    "            save_image(img_grid_fake.float(), f'gan_fakes/{MODEL_NAME}/grid_{cur_res}x{cur_res}_{global_epoch}.png')\n",
    "\n",
    "        loop.set_postfix(\n",
    "            gp=gp.item(),\n",
    "            loss_critic=loss_critic.item(),\n",
    "        )\n",
    "\n",
    "    return tensorboard_step, alpha\n",
    "\n",
    "\n",
    "def main():\n",
    "    gen = Generator(\n",
    "        Z_DIM, IN_CHANNELS, img_channels=CHANNELS_IMG\n",
    "    ).to(DEVICE)\n",
    "    critic = Discriminator(\n",
    "        Z_DIM, IN_CHANNELS, img_channels=CHANNELS_IMG\n",
    "    ).to(DEVICE)\n",
    "    \n",
    "    # initialize optimizers and scalers for FP16 training\n",
    "    lr=LEARNING_RATE\n",
    "    opt_gen = optim.Adam(gen.parameters(), lr=lr, betas=(0.0, 0.99))\n",
    "    opt_critic = optim.Adam(critic.parameters(), lr=lr, betas=(0.0, 0.99))\n",
    "    scaler_critic = torch.cuda.amp.GradScaler()\n",
    "    scaler_gen = torch.cuda.amp.GradScaler()\n",
    "    os.makedirs(os.path.dirname(f\"gan_fakes/{MODEL_NAME}/\"), exist_ok=True)\n",
    "\n",
    "    # for tensorboard plotting\n",
    "    writer = SummaryWriter(f\"logs/{MODEL_NAME}\")\n",
    "    print(f\"Model name: {MODEL_NAME}\")\n",
    "\n",
    "    if LOAD_MODEL:\n",
    "        load_checkpoint(\n",
    "            CHECKPOINT_GEN, gen, opt_gen, lr,\n",
    "        )\n",
    "        load_checkpoint(\n",
    "            CHECKPOINT_CRITIC, critic, opt_critic, lr,\n",
    "        )\n",
    "\n",
    "    gen.train()\n",
    "    critic.train()\n",
    "\n",
    "    tensorboard_step = 0\n",
    "    # start at step that corresponds to img size that we set in config\n",
    "    step = int(log2(START_TRAIN_AT_IMG_SIZE / 4))\n",
    "    start = time.time()\n",
    "    global_epoch = 0\n",
    "    print('Started training...')\n",
    "    for num_epochs in PROGRESSIVE_EPOCHS[step:int(log2(MAX_RES / 2))]:\n",
    "        alpha = 1e-5  # start with very low alpha\n",
    "        loader, dataset = get_loader(4 * 2 ** step)  # 4->0, 8->1, 16->2, 32->3, 64->4, ...\n",
    "\n",
    "        for epoch in range(num_epochs):\n",
    "            epoch_start = time.time()\n",
    "            tensorboard_step, alpha = train_fn(\n",
    "                critic,\n",
    "                gen,\n",
    "                loader,\n",
    "                dataset,\n",
    "                step,\n",
    "                alpha,\n",
    "                opt_critic,\n",
    "                opt_gen,\n",
    "                tensorboard_step,\n",
    "                writer,\n",
    "                scaler_gen,\n",
    "                scaler_critic,\n",
    "                lr,\n",
    "                global_epoch,\n",
    "            )\n",
    "            global_epoch += 1\n",
    "            epoch_end = time.time()\n",
    "            training_time = str(datetime.timedelta(seconds= epoch_end - epoch_start))\n",
    "            print(f\"Epoch [{epoch+1}/{num_epochs}] Global Epoch:{global_epoch} - Epoch training time: {training_time} - Current image size: {4 * 2 ** step} \")\n",
    "        step += 1  # progress to the next img size\n",
    "        # Update learning rate\n",
    "        if LEARNING_RATE_DECAY:\n",
    "            lr *= float(LEARNING_RATE_DECAY)\n",
    "            opt_gen = optim.Adam(gen.parameters(), lr=lr, betas=(0.0, 0.99))\n",
    "            opt_critic = optim.Adam(critic.parameters(), lr=lr, betas=(0.0, 0.99))\n",
    "        if SAVE_MODEL:\n",
    "            save_checkpoint(gen, opt_gen, filename=CHECKPOINT_GEN)\n",
    "            save_checkpoint(critic, opt_critic, filename=CHECKPOINT_CRITIC)\n",
    "    end = time.time()\n",
    "    training_time = str(datetime.timedelta(seconds= end - start))\n",
    "    print(f\"Trainig duration: {training_time}\")\n",
    "    return training_time"
   ]
  },
  {
   "cell_type": "code",
   "execution_count": 46,
   "id": "b904572a",
   "metadata": {
    "scrolled": true
   },
   "outputs": [
    {
     "name": "stdout",
     "output_type": "stream",
     "text": [
      "Training for adeno\n",
      "Model name: pggan_roi_adeno_epochs_30_30_50_50_75_alpha_0.75_bs_64_64_64_32_32_affn_trns_only\n",
      "Started training...\n"
     ]
    },
    {
     "name": "stderr",
     "output_type": "stream",
     "text": [
      "100%|██████████| 51/51 [00:01<00:00, 27.95it/s, gp=0.0532, loss_critic=-1.89]\n"
     ]
    },
    {
     "name": "stdout",
     "output_type": "stream",
     "text": [
      "Epoch [1/30] Global Epoch:1 - Epoch training time: 0:00:01.826463 - Current image size: 4 \n"
     ]
    },
    {
     "name": "stderr",
     "output_type": "stream",
     "text": [
      "100%|██████████| 51/51 [00:01<00:00, 25.87it/s, gp=0.0316, loss_critic=-.868]\n"
     ]
    },
    {
     "name": "stdout",
     "output_type": "stream",
     "text": [
      "Epoch [2/30] Global Epoch:2 - Epoch training time: 0:00:01.973056 - Current image size: 4 \n"
     ]
    },
    {
     "name": "stderr",
     "output_type": "stream",
     "text": [
      "100%|██████████| 51/51 [00:01<00:00, 27.64it/s, gp=0.0146, loss_critic=-.493]\n"
     ]
    },
    {
     "name": "stdout",
     "output_type": "stream",
     "text": [
      "Epoch [3/30] Global Epoch:3 - Epoch training time: 0:00:01.847267 - Current image size: 4 \n"
     ]
    },
    {
     "name": "stderr",
     "output_type": "stream",
     "text": [
      "100%|██████████| 51/51 [00:01<00:00, 29.30it/s, gp=0.0185, loss_critic=-.184]\n"
     ]
    },
    {
     "name": "stdout",
     "output_type": "stream",
     "text": [
      "Epoch [4/30] Global Epoch:4 - Epoch training time: 0:00:01.742731 - Current image size: 4 \n"
     ]
    },
    {
     "name": "stderr",
     "output_type": "stream",
     "text": [
      "100%|██████████| 51/51 [00:01<00:00, 29.60it/s, gp=0.0224, loss_critic=-.0746] \n"
     ]
    },
    {
     "name": "stdout",
     "output_type": "stream",
     "text": [
      "Epoch [5/30] Global Epoch:5 - Epoch training time: 0:00:01.725060 - Current image size: 4 \n"
     ]
    },
    {
     "name": "stderr",
     "output_type": "stream",
     "text": [
      "100%|██████████| 51/51 [00:01<00:00, 29.97it/s, gp=0.0166, loss_critic=-.0346]  \n"
     ]
    },
    {
     "name": "stdout",
     "output_type": "stream",
     "text": [
      "Epoch [6/30] Global Epoch:6 - Epoch training time: 0:00:01.704007 - Current image size: 4 \n"
     ]
    },
    {
     "name": "stderr",
     "output_type": "stream",
     "text": [
      "100%|██████████| 51/51 [00:01<00:00, 29.38it/s, gp=0.017, loss_critic=0.0141]  \n"
     ]
    },
    {
     "name": "stdout",
     "output_type": "stream",
     "text": [
      "Epoch [7/30] Global Epoch:7 - Epoch training time: 0:00:01.737731 - Current image size: 4 \n"
     ]
    },
    {
     "name": "stderr",
     "output_type": "stream",
     "text": [
      "100%|██████████| 51/51 [00:01<00:00, 29.00it/s, gp=0.0227, loss_critic=0.122]  \n"
     ]
    },
    {
     "name": "stdout",
     "output_type": "stream",
     "text": [
      "Epoch [8/30] Global Epoch:8 - Epoch training time: 0:00:01.760561 - Current image size: 4 \n"
     ]
    },
    {
     "name": "stderr",
     "output_type": "stream",
     "text": [
      "100%|██████████| 51/51 [00:01<00:00, 27.91it/s, gp=0.0242, loss_critic=0.0945]\n"
     ]
    },
    {
     "name": "stdout",
     "output_type": "stream",
     "text": [
      "Epoch [9/30] Global Epoch:9 - Epoch training time: 0:00:01.829259 - Current image size: 4 \n"
     ]
    },
    {
     "name": "stderr",
     "output_type": "stream",
     "text": [
      "100%|██████████| 51/51 [00:01<00:00, 27.97it/s, gp=0.0239, loss_critic=0.168] \n"
     ]
    },
    {
     "name": "stdout",
     "output_type": "stream",
     "text": [
      "Epoch [10/30] Global Epoch:10 - Epoch training time: 0:00:01.825079 - Current image size: 4 \n"
     ]
    },
    {
     "name": "stderr",
     "output_type": "stream",
     "text": [
      "100%|██████████| 51/51 [00:01<00:00, 28.28it/s, gp=0.0253, loss_critic=0.0853]\n"
     ]
    },
    {
     "name": "stdout",
     "output_type": "stream",
     "text": [
      "Epoch [11/30] Global Epoch:11 - Epoch training time: 0:00:01.805195 - Current image size: 4 \n"
     ]
    },
    {
     "name": "stderr",
     "output_type": "stream",
     "text": [
      "100%|██████████| 51/51 [00:01<00:00, 28.63it/s, gp=0.104, loss_critic=0.966]  \n"
     ]
    },
    {
     "name": "stdout",
     "output_type": "stream",
     "text": [
      "Epoch [12/30] Global Epoch:12 - Epoch training time: 0:00:01.783350 - Current image size: 4 \n"
     ]
    },
    {
     "name": "stderr",
     "output_type": "stream",
     "text": [
      "100%|██████████| 51/51 [00:01<00:00, 28.82it/s, gp=0.0182, loss_critic=0.0484] \n"
     ]
    },
    {
     "name": "stdout",
     "output_type": "stream",
     "text": [
      "Epoch [13/30] Global Epoch:13 - Epoch training time: 0:00:01.771273 - Current image size: 4 \n"
     ]
    },
    {
     "name": "stderr",
     "output_type": "stream",
     "text": [
      "100%|██████████| 51/51 [00:01<00:00, 28.78it/s, gp=0.0246, loss_critic=0.0313] \n"
     ]
    },
    {
     "name": "stdout",
     "output_type": "stream",
     "text": [
      "Epoch [14/30] Global Epoch:14 - Epoch training time: 0:00:01.774625 - Current image size: 4 \n"
     ]
    },
    {
     "name": "stderr",
     "output_type": "stream",
     "text": [
      "100%|██████████| 51/51 [00:01<00:00, 29.06it/s, gp=0.0208, loss_critic=0.068]  \n"
     ]
    },
    {
     "name": "stdout",
     "output_type": "stream",
     "text": [
      "Epoch [15/30] Global Epoch:15 - Epoch training time: 0:00:01.757130 - Current image size: 4 \n"
     ]
    },
    {
     "name": "stderr",
     "output_type": "stream",
     "text": [
      "100%|██████████| 51/51 [00:01<00:00, 29.18it/s, gp=0.0214, loss_critic=0.0551] \n"
     ]
    },
    {
     "name": "stdout",
     "output_type": "stream",
     "text": [
      "Epoch [16/30] Global Epoch:16 - Epoch training time: 0:00:01.749882 - Current image size: 4 \n"
     ]
    },
    {
     "name": "stderr",
     "output_type": "stream",
     "text": [
      "100%|██████████| 51/51 [00:01<00:00, 28.61it/s, gp=0.0343, loss_critic=0.096]  \n"
     ]
    },
    {
     "name": "stdout",
     "output_type": "stream",
     "text": [
      "Epoch [17/30] Global Epoch:17 - Epoch training time: 0:00:01.784075 - Current image size: 4 \n"
     ]
    },
    {
     "name": "stderr",
     "output_type": "stream",
     "text": [
      "100%|██████████| 51/51 [00:01<00:00, 28.27it/s, gp=0.0227, loss_critic=-.0176] \n"
     ]
    },
    {
     "name": "stdout",
     "output_type": "stream",
     "text": [
      "Epoch [18/30] Global Epoch:18 - Epoch training time: 0:00:01.805789 - Current image size: 4 \n"
     ]
    },
    {
     "name": "stderr",
     "output_type": "stream",
     "text": [
      "100%|██████████| 51/51 [00:01<00:00, 28.60it/s, gp=0.0181, loss_critic=-.0568] \n"
     ]
    },
    {
     "name": "stdout",
     "output_type": "stream",
     "text": [
      "Epoch [19/30] Global Epoch:19 - Epoch training time: 0:00:01.785199 - Current image size: 4 \n"
     ]
    },
    {
     "name": "stderr",
     "output_type": "stream",
     "text": [
      "100%|██████████| 51/51 [00:01<00:00, 28.03it/s, gp=0.0185, loss_critic=0.0352] \n"
     ]
    },
    {
     "name": "stdout",
     "output_type": "stream",
     "text": [
      "Epoch [20/30] Global Epoch:20 - Epoch training time: 0:00:01.821273 - Current image size: 4 \n"
     ]
    },
    {
     "name": "stderr",
     "output_type": "stream",
     "text": [
      "100%|██████████| 51/51 [00:01<00:00, 27.32it/s, gp=0.0147, loss_critic=-.116]  \n"
     ]
    },
    {
     "name": "stdout",
     "output_type": "stream",
     "text": [
      "Epoch [21/30] Global Epoch:21 - Epoch training time: 0:00:01.868771 - Current image size: 4 \n"
     ]
    },
    {
     "name": "stderr",
     "output_type": "stream",
     "text": [
      "100%|██████████| 51/51 [00:01<00:00, 28.08it/s, gp=0.0202, loss_critic=0.0179] \n"
     ]
    },
    {
     "name": "stdout",
     "output_type": "stream",
     "text": [
      "Epoch [22/30] Global Epoch:22 - Epoch training time: 0:00:01.817927 - Current image size: 4 \n"
     ]
    },
    {
     "name": "stderr",
     "output_type": "stream",
     "text": [
      "100%|██████████| 51/51 [00:01<00:00, 29.18it/s, gp=0.0229, loss_critic=0.0159] \n"
     ]
    },
    {
     "name": "stdout",
     "output_type": "stream",
     "text": [
      "Epoch [23/30] Global Epoch:23 - Epoch training time: 0:00:01.749780 - Current image size: 4 \n"
     ]
    },
    {
     "name": "stderr",
     "output_type": "stream",
     "text": [
      "100%|██████████| 51/51 [00:01<00:00, 27.08it/s, gp=0.00938, loss_critic=-.11]  \n"
     ]
    },
    {
     "name": "stdout",
     "output_type": "stream",
     "text": [
      "Epoch [24/30] Global Epoch:24 - Epoch training time: 0:00:01.885492 - Current image size: 4 \n"
     ]
    },
    {
     "name": "stderr",
     "output_type": "stream",
     "text": [
      "100%|██████████| 51/51 [00:01<00:00, 28.48it/s, gp=0.0134, loss_critic=-.0715] \n"
     ]
    },
    {
     "name": "stdout",
     "output_type": "stream",
     "text": [
      "Epoch [25/30] Global Epoch:25 - Epoch training time: 0:00:01.792751 - Current image size: 4 \n"
     ]
    },
    {
     "name": "stderr",
     "output_type": "stream",
     "text": [
      "100%|██████████| 51/51 [00:01<00:00, 29.68it/s, gp=0.0101, loss_critic=-.0355] \n"
     ]
    },
    {
     "name": "stdout",
     "output_type": "stream",
     "text": [
      "Epoch [26/30] Global Epoch:26 - Epoch training time: 0:00:01.720434 - Current image size: 4 \n"
     ]
    },
    {
     "name": "stderr",
     "output_type": "stream",
     "text": [
      "100%|██████████| 51/51 [00:01<00:00, 29.47it/s, gp=0.0141, loss_critic=-.0229]  \n"
     ]
    },
    {
     "name": "stdout",
     "output_type": "stream",
     "text": [
      "Epoch [27/30] Global Epoch:27 - Epoch training time: 0:00:01.732643 - Current image size: 4 \n"
     ]
    },
    {
     "name": "stderr",
     "output_type": "stream",
     "text": [
      "100%|██████████| 51/51 [00:01<00:00, 27.03it/s, gp=0.0138, loss_critic=0.0217] \n"
     ]
    },
    {
     "name": "stdout",
     "output_type": "stream",
     "text": [
      "Epoch [28/30] Global Epoch:28 - Epoch training time: 0:00:01.888987 - Current image size: 4 \n"
     ]
    },
    {
     "name": "stderr",
     "output_type": "stream",
     "text": [
      "100%|██████████| 51/51 [00:01<00:00, 28.22it/s, gp=0.0137, loss_critic=0.0339]  \n"
     ]
    },
    {
     "name": "stdout",
     "output_type": "stream",
     "text": [
      "Epoch [29/30] Global Epoch:29 - Epoch training time: 0:00:01.808973 - Current image size: 4 \n"
     ]
    },
    {
     "name": "stderr",
     "output_type": "stream",
     "text": [
      "100%|██████████| 51/51 [00:02<00:00, 18.66it/s, gp=0.0107, loss_critic=0.125]  \n"
     ]
    },
    {
     "name": "stdout",
     "output_type": "stream",
     "text": [
      "Epoch [30/30] Global Epoch:30 - Epoch training time: 0:00:02.735390 - Current image size: 4 \n",
      "=> Saving checkpoint\n",
      "=> Saving checkpoint\n"
     ]
    },
    {
     "name": "stderr",
     "output_type": "stream",
     "text": [
      "100%|██████████| 51/51 [00:04<00:00, 11.18it/s, gp=0.0133, loss_critic=0.332] \n"
     ]
    },
    {
     "name": "stdout",
     "output_type": "stream",
     "text": [
      "Epoch [1/30] Global Epoch:31 - Epoch training time: 0:00:04.565207 - Current image size: 8 \n"
     ]
    },
    {
     "name": "stderr",
     "output_type": "stream",
     "text": [
      "100%|██████████| 51/51 [00:04<00:00, 11.20it/s, gp=0.00485, loss_critic=-.083] \n"
     ]
    },
    {
     "name": "stdout",
     "output_type": "stream",
     "text": [
      "Epoch [2/30] Global Epoch:32 - Epoch training time: 0:00:04.556846 - Current image size: 8 \n"
     ]
    },
    {
     "name": "stderr",
     "output_type": "stream",
     "text": [
      "100%|██████████| 51/51 [00:04<00:00, 11.19it/s, gp=0.00502, loss_critic=-.138]  \n"
     ]
    },
    {
     "name": "stdout",
     "output_type": "stream",
     "text": [
      "Epoch [3/30] Global Epoch:33 - Epoch training time: 0:00:04.560790 - Current image size: 8 \n"
     ]
    },
    {
     "name": "stderr",
     "output_type": "stream",
     "text": [
      "100%|██████████| 51/51 [00:04<00:00, 11.14it/s, gp=0.00825, loss_critic=-.22]    \n"
     ]
    },
    {
     "name": "stdout",
     "output_type": "stream",
     "text": [
      "Epoch [4/30] Global Epoch:34 - Epoch training time: 0:00:04.580987 - Current image size: 8 \n"
     ]
    },
    {
     "name": "stderr",
     "output_type": "stream",
     "text": [
      "100%|██████████| 51/51 [00:04<00:00, 11.12it/s, gp=0.0167, loss_critic=-.156]  \n"
     ]
    },
    {
     "name": "stdout",
     "output_type": "stream",
     "text": [
      "Epoch [5/30] Global Epoch:35 - Epoch training time: 0:00:04.588993 - Current image size: 8 \n"
     ]
    },
    {
     "name": "stderr",
     "output_type": "stream",
     "text": [
      "100%|██████████| 51/51 [00:04<00:00, 11.17it/s, gp=0.00502, loss_critic=-.19]  \n"
     ]
    },
    {
     "name": "stdout",
     "output_type": "stream",
     "text": [
      "Epoch [6/30] Global Epoch:36 - Epoch training time: 0:00:04.566863 - Current image size: 8 \n"
     ]
    },
    {
     "name": "stderr",
     "output_type": "stream",
     "text": [
      "100%|██████████| 51/51 [00:04<00:00, 11.18it/s, gp=0.00712, loss_critic=-.0943]\n"
     ]
    },
    {
     "name": "stdout",
     "output_type": "stream",
     "text": [
      "Epoch [7/30] Global Epoch:37 - Epoch training time: 0:00:04.564214 - Current image size: 8 \n"
     ]
    },
    {
     "name": "stderr",
     "output_type": "stream",
     "text": [
      "100%|██████████| 51/51 [00:04<00:00, 11.10it/s, gp=0.019, loss_critic=0.0957]    \n"
     ]
    },
    {
     "name": "stdout",
     "output_type": "stream",
     "text": [
      "Epoch [8/30] Global Epoch:38 - Epoch training time: 0:00:04.597953 - Current image size: 8 \n"
     ]
    },
    {
     "name": "stderr",
     "output_type": "stream",
     "text": [
      "100%|██████████| 51/51 [00:04<00:00, 11.09it/s, gp=0.00891, loss_critic=-.0748] \n"
     ]
    },
    {
     "name": "stdout",
     "output_type": "stream",
     "text": [
      "Epoch [9/30] Global Epoch:39 - Epoch training time: 0:00:04.599366 - Current image size: 8 \n"
     ]
    },
    {
     "name": "stderr",
     "output_type": "stream",
     "text": [
      "100%|██████████| 51/51 [00:04<00:00, 11.13it/s, gp=0.0339, loss_critic=0.125]  \n"
     ]
    },
    {
     "name": "stdout",
     "output_type": "stream",
     "text": [
      "Epoch [10/30] Global Epoch:40 - Epoch training time: 0:00:04.585632 - Current image size: 8 \n"
     ]
    },
    {
     "name": "stderr",
     "output_type": "stream",
     "text": [
      "100%|██████████| 51/51 [00:04<00:00, 11.10it/s, gp=0.01, loss_critic=-.148]     \n"
     ]
    },
    {
     "name": "stdout",
     "output_type": "stream",
     "text": [
      "Epoch [11/30] Global Epoch:41 - Epoch training time: 0:00:04.595916 - Current image size: 8 \n"
     ]
    },
    {
     "name": "stderr",
     "output_type": "stream",
     "text": [
      "100%|██████████| 51/51 [00:04<00:00, 11.15it/s, gp=0.00641, loss_critic=-.375] \n"
     ]
    },
    {
     "name": "stdout",
     "output_type": "stream",
     "text": [
      "Epoch [12/30] Global Epoch:42 - Epoch training time: 0:00:04.574760 - Current image size: 8 \n"
     ]
    },
    {
     "name": "stderr",
     "output_type": "stream",
     "text": [
      "100%|██████████| 51/51 [00:04<00:00, 11.16it/s, gp=0.00691, loss_critic=-.142] \n"
     ]
    },
    {
     "name": "stdout",
     "output_type": "stream",
     "text": [
      "Epoch [13/30] Global Epoch:43 - Epoch training time: 0:00:04.570397 - Current image size: 8 \n"
     ]
    },
    {
     "name": "stderr",
     "output_type": "stream",
     "text": [
      "100%|██████████| 51/51 [00:04<00:00, 11.14it/s, gp=0.0112, loss_critic=-.0696] \n"
     ]
    },
    {
     "name": "stdout",
     "output_type": "stream",
     "text": [
      "Epoch [14/30] Global Epoch:44 - Epoch training time: 0:00:04.582155 - Current image size: 8 \n"
     ]
    },
    {
     "name": "stderr",
     "output_type": "stream",
     "text": [
      "100%|██████████| 51/51 [00:04<00:00, 11.20it/s, gp=0.00928, loss_critic=-.0482]\n"
     ]
    },
    {
     "name": "stdout",
     "output_type": "stream",
     "text": [
      "Epoch [15/30] Global Epoch:45 - Epoch training time: 0:00:04.555088 - Current image size: 8 \n"
     ]
    },
    {
     "name": "stderr",
     "output_type": "stream",
     "text": [
      "100%|██████████| 51/51 [00:04<00:00, 11.17it/s, gp=0.0143, loss_critic=0.00858]\n"
     ]
    },
    {
     "name": "stdout",
     "output_type": "stream",
     "text": [
      "Epoch [16/30] Global Epoch:46 - Epoch training time: 0:00:04.566111 - Current image size: 8 \n"
     ]
    },
    {
     "name": "stderr",
     "output_type": "stream",
     "text": [
      "100%|██████████| 51/51 [00:04<00:00, 11.16it/s, gp=0.00785, loss_critic=-.111]  \n"
     ]
    },
    {
     "name": "stdout",
     "output_type": "stream",
     "text": [
      "Epoch [17/30] Global Epoch:47 - Epoch training time: 0:00:04.571584 - Current image size: 8 \n"
     ]
    },
    {
     "name": "stderr",
     "output_type": "stream",
     "text": [
      "100%|██████████| 51/51 [00:04<00:00, 11.15it/s, gp=0.0171, loss_critic=0.00468]\n"
     ]
    },
    {
     "name": "stdout",
     "output_type": "stream",
     "text": [
      "Epoch [18/30] Global Epoch:48 - Epoch training time: 0:00:04.575239 - Current image size: 8 \n"
     ]
    },
    {
     "name": "stderr",
     "output_type": "stream",
     "text": [
      "100%|██████████| 51/51 [00:04<00:00, 11.22it/s, gp=0.0403, loss_critic=0.45]    \n"
     ]
    },
    {
     "name": "stdout",
     "output_type": "stream",
     "text": [
      "Epoch [19/30] Global Epoch:49 - Epoch training time: 0:00:04.545930 - Current image size: 8 \n"
     ]
    },
    {
     "name": "stderr",
     "output_type": "stream",
     "text": [
      "100%|██████████| 51/51 [00:04<00:00, 11.18it/s, gp=0.0104, loss_critic=0.0469]   \n"
     ]
    },
    {
     "name": "stdout",
     "output_type": "stream",
     "text": [
      "Epoch [20/30] Global Epoch:50 - Epoch training time: 0:00:04.564783 - Current image size: 8 \n"
     ]
    },
    {
     "name": "stderr",
     "output_type": "stream",
     "text": [
      "100%|██████████| 51/51 [00:04<00:00, 11.23it/s, gp=0.0234, loss_critic=0.1]     \n"
     ]
    },
    {
     "name": "stdout",
     "output_type": "stream",
     "text": [
      "Epoch [21/30] Global Epoch:51 - Epoch training time: 0:00:04.543895 - Current image size: 8 \n"
     ]
    },
    {
     "name": "stderr",
     "output_type": "stream",
     "text": [
      "100%|██████████| 51/51 [00:04<00:00, 11.26it/s, gp=0.00504, loss_critic=-.0381]  \n"
     ]
    },
    {
     "name": "stdout",
     "output_type": "stream",
     "text": [
      "Epoch [22/30] Global Epoch:52 - Epoch training time: 0:00:04.532279 - Current image size: 8 \n"
     ]
    },
    {
     "name": "stderr",
     "output_type": "stream",
     "text": [
      "100%|██████████| 51/51 [00:04<00:00, 11.31it/s, gp=0.0202, loss_critic=0.107]   \n"
     ]
    },
    {
     "name": "stdout",
     "output_type": "stream",
     "text": [
      "Epoch [23/30] Global Epoch:53 - Epoch training time: 0:00:04.510418 - Current image size: 8 \n"
     ]
    },
    {
     "name": "stderr",
     "output_type": "stream",
     "text": [
      "100%|██████████| 51/51 [00:04<00:00, 11.31it/s, gp=0.0287, loss_critic=0.315]   \n"
     ]
    },
    {
     "name": "stdout",
     "output_type": "stream",
     "text": [
      "Epoch [24/30] Global Epoch:54 - Epoch training time: 0:00:04.509484 - Current image size: 8 \n"
     ]
    },
    {
     "name": "stderr",
     "output_type": "stream",
     "text": [
      "100%|██████████| 51/51 [00:04<00:00, 11.31it/s, gp=0.00602, loss_critic=-.0483] \n"
     ]
    },
    {
     "name": "stdout",
     "output_type": "stream",
     "text": [
      "Epoch [25/30] Global Epoch:55 - Epoch training time: 0:00:04.510474 - Current image size: 8 \n"
     ]
    },
    {
     "name": "stderr",
     "output_type": "stream",
     "text": [
      "100%|██████████| 51/51 [00:04<00:00, 11.30it/s, gp=0.0087, loss_critic=0.0909]  \n"
     ]
    },
    {
     "name": "stdout",
     "output_type": "stream",
     "text": [
      "Epoch [26/30] Global Epoch:56 - Epoch training time: 0:00:04.514747 - Current image size: 8 \n"
     ]
    },
    {
     "name": "stderr",
     "output_type": "stream",
     "text": [
      "100%|██████████| 51/51 [00:04<00:00, 11.28it/s, gp=0.0166, loss_critic=0.0625]  \n"
     ]
    },
    {
     "name": "stdout",
     "output_type": "stream",
     "text": [
      "Epoch [27/30] Global Epoch:57 - Epoch training time: 0:00:04.525177 - Current image size: 8 \n"
     ]
    },
    {
     "name": "stderr",
     "output_type": "stream",
     "text": [
      "100%|██████████| 51/51 [00:04<00:00, 11.42it/s, gp=0.00706, loss_critic=0.0509]\n"
     ]
    },
    {
     "name": "stdout",
     "output_type": "stream",
     "text": [
      "Epoch [28/30] Global Epoch:58 - Epoch training time: 0:00:04.468279 - Current image size: 8 \n"
     ]
    },
    {
     "name": "stderr",
     "output_type": "stream",
     "text": [
      "100%|██████████| 51/51 [00:04<00:00, 11.37it/s, gp=0.00985, loss_critic=0.126]  \n"
     ]
    },
    {
     "name": "stdout",
     "output_type": "stream",
     "text": [
      "Epoch [29/30] Global Epoch:59 - Epoch training time: 0:00:04.489058 - Current image size: 8 \n"
     ]
    },
    {
     "name": "stderr",
     "output_type": "stream",
     "text": [
      "100%|██████████| 51/51 [00:04<00:00, 11.09it/s, gp=0.0207, loss_critic=0.292]   \n"
     ]
    },
    {
     "name": "stdout",
     "output_type": "stream",
     "text": [
      "Epoch [30/30] Global Epoch:60 - Epoch training time: 0:00:04.602364 - Current image size: 8 \n",
      "=> Saving checkpoint\n",
      "=> Saving checkpoint\n"
     ]
    },
    {
     "name": "stderr",
     "output_type": "stream",
     "text": [
      "100%|██████████| 51/51 [00:14<00:00,  3.53it/s, gp=0.0131, loss_critic=0.118]   \n"
     ]
    },
    {
     "name": "stdout",
     "output_type": "stream",
     "text": [
      "Epoch [1/50] Global Epoch:61 - Epoch training time: 0:00:14.446226 - Current image size: 16 \n"
     ]
    },
    {
     "name": "stderr",
     "output_type": "stream",
     "text": [
      "100%|██████████| 51/51 [00:14<00:00,  3.54it/s, gp=0.0114, loss_critic=-.0304]  \n"
     ]
    },
    {
     "name": "stdout",
     "output_type": "stream",
     "text": [
      "Epoch [2/50] Global Epoch:62 - Epoch training time: 0:00:14.425027 - Current image size: 16 \n"
     ]
    },
    {
     "name": "stderr",
     "output_type": "stream",
     "text": [
      "100%|██████████| 51/51 [00:14<00:00,  3.53it/s, gp=0.015, loss_critic=-.226]   \n"
     ]
    },
    {
     "name": "stdout",
     "output_type": "stream",
     "text": [
      "Epoch [3/50] Global Epoch:63 - Epoch training time: 0:00:14.436058 - Current image size: 16 \n"
     ]
    },
    {
     "name": "stderr",
     "output_type": "stream",
     "text": [
      "100%|██████████| 51/51 [00:14<00:00,  3.54it/s, gp=0.0131, loss_critic=-.472]   \n"
     ]
    },
    {
     "name": "stdout",
     "output_type": "stream",
     "text": [
      "Epoch [4/50] Global Epoch:64 - Epoch training time: 0:00:14.425503 - Current image size: 16 \n"
     ]
    },
    {
     "name": "stderr",
     "output_type": "stream",
     "text": [
      "100%|██████████| 51/51 [00:14<00:00,  3.55it/s, gp=0.0057, loss_critic=-.169]   \n"
     ]
    },
    {
     "name": "stdout",
     "output_type": "stream",
     "text": [
      "Epoch [5/50] Global Epoch:65 - Epoch training time: 0:00:14.353521 - Current image size: 16 \n"
     ]
    },
    {
     "name": "stderr",
     "output_type": "stream",
     "text": [
      "100%|██████████| 51/51 [00:14<00:00,  3.55it/s, gp=0.00797, loss_critic=-.145]   \n"
     ]
    },
    {
     "name": "stdout",
     "output_type": "stream",
     "text": [
      "Epoch [6/50] Global Epoch:66 - Epoch training time: 0:00:14.358633 - Current image size: 16 \n"
     ]
    },
    {
     "name": "stderr",
     "output_type": "stream",
     "text": [
      "100%|██████████| 51/51 [00:14<00:00,  3.57it/s, gp=0.0103, loss_critic=-.272]  \n"
     ]
    },
    {
     "name": "stdout",
     "output_type": "stream",
     "text": [
      "Epoch [7/50] Global Epoch:67 - Epoch training time: 0:00:14.305811 - Current image size: 16 \n"
     ]
    },
    {
     "name": "stderr",
     "output_type": "stream",
     "text": [
      "100%|██████████| 51/51 [00:14<00:00,  3.57it/s, gp=0.00775, loss_critic=-.224] \n"
     ]
    },
    {
     "name": "stdout",
     "output_type": "stream",
     "text": [
      "Epoch [8/50] Global Epoch:68 - Epoch training time: 0:00:14.274492 - Current image size: 16 \n"
     ]
    },
    {
     "name": "stderr",
     "output_type": "stream",
     "text": [
      "100%|██████████| 51/51 [00:14<00:00,  3.58it/s, gp=0.00836, loss_critic=-.165] \n"
     ]
    },
    {
     "name": "stdout",
     "output_type": "stream",
     "text": [
      "Epoch [9/50] Global Epoch:69 - Epoch training time: 0:00:14.264934 - Current image size: 16 \n"
     ]
    },
    {
     "name": "stderr",
     "output_type": "stream",
     "text": [
      "100%|██████████| 51/51 [00:14<00:00,  3.58it/s, gp=0.00647, loss_critic=-.204] \n"
     ]
    },
    {
     "name": "stdout",
     "output_type": "stream",
     "text": [
      "Epoch [10/50] Global Epoch:70 - Epoch training time: 0:00:14.263723 - Current image size: 16 \n"
     ]
    },
    {
     "name": "stderr",
     "output_type": "stream",
     "text": [
      "100%|██████████| 51/51 [00:14<00:00,  3.57it/s, gp=0.0171, loss_critic=0.0328]  \n"
     ]
    },
    {
     "name": "stdout",
     "output_type": "stream",
     "text": [
      "Epoch [11/50] Global Epoch:71 - Epoch training time: 0:00:14.297366 - Current image size: 16 \n"
     ]
    },
    {
     "name": "stderr",
     "output_type": "stream",
     "text": [
      "100%|██████████| 51/51 [00:14<00:00,  3.59it/s, gp=0.00495, loss_critic=-.132]  \n"
     ]
    },
    {
     "name": "stdout",
     "output_type": "stream",
     "text": [
      "Epoch [12/50] Global Epoch:72 - Epoch training time: 0:00:14.226437 - Current image size: 16 \n"
     ]
    },
    {
     "name": "stderr",
     "output_type": "stream",
     "text": [
      "100%|██████████| 51/51 [00:14<00:00,  3.59it/s, gp=0.00994, loss_critic=0.128]  \n"
     ]
    },
    {
     "name": "stdout",
     "output_type": "stream",
     "text": [
      "Epoch [13/50] Global Epoch:73 - Epoch training time: 0:00:14.227572 - Current image size: 16 \n"
     ]
    },
    {
     "name": "stderr",
     "output_type": "stream",
     "text": [
      "100%|██████████| 51/51 [00:14<00:00,  3.58it/s, gp=0.00831, loss_critic=-.116] \n"
     ]
    },
    {
     "name": "stdout",
     "output_type": "stream",
     "text": [
      "Epoch [14/50] Global Epoch:74 - Epoch training time: 0:00:14.229316 - Current image size: 16 \n"
     ]
    },
    {
     "name": "stderr",
     "output_type": "stream",
     "text": [
      "100%|██████████| 51/51 [00:14<00:00,  3.59it/s, gp=0.00799, loss_critic=-.15]  \n"
     ]
    },
    {
     "name": "stdout",
     "output_type": "stream",
     "text": [
      "Epoch [15/50] Global Epoch:75 - Epoch training time: 0:00:14.210454 - Current image size: 16 \n"
     ]
    },
    {
     "name": "stderr",
     "output_type": "stream",
     "text": [
      "100%|██████████| 51/51 [00:14<00:00,  3.59it/s, gp=0.0109, loss_critic=-.0735] \n"
     ]
    },
    {
     "name": "stdout",
     "output_type": "stream",
     "text": [
      "Epoch [16/50] Global Epoch:76 - Epoch training time: 0:00:14.198463 - Current image size: 16 \n"
     ]
    },
    {
     "name": "stderr",
     "output_type": "stream",
     "text": [
      "100%|██████████| 51/51 [00:14<00:00,  3.59it/s, gp=0.00968, loss_critic=0.165] \n"
     ]
    },
    {
     "name": "stdout",
     "output_type": "stream",
     "text": [
      "Epoch [17/50] Global Epoch:77 - Epoch training time: 0:00:14.193439 - Current image size: 16 \n"
     ]
    },
    {
     "name": "stderr",
     "output_type": "stream",
     "text": [
      "100%|██████████| 51/51 [00:14<00:00,  3.59it/s, gp=0.0132, loss_critic=0.0217]  \n"
     ]
    },
    {
     "name": "stdout",
     "output_type": "stream",
     "text": [
      "Epoch [18/50] Global Epoch:78 - Epoch training time: 0:00:14.202879 - Current image size: 16 \n"
     ]
    },
    {
     "name": "stderr",
     "output_type": "stream",
     "text": [
      "100%|██████████| 51/51 [00:14<00:00,  3.60it/s, gp=0.00737, loss_critic=0.0318] \n"
     ]
    },
    {
     "name": "stdout",
     "output_type": "stream",
     "text": [
      "Epoch [19/50] Global Epoch:79 - Epoch training time: 0:00:14.182090 - Current image size: 16 \n"
     ]
    },
    {
     "name": "stderr",
     "output_type": "stream",
     "text": [
      "100%|██████████| 51/51 [00:14<00:00,  3.59it/s, gp=0.00688, loss_critic=-.219]  \n"
     ]
    },
    {
     "name": "stdout",
     "output_type": "stream",
     "text": [
      "Epoch [20/50] Global Epoch:80 - Epoch training time: 0:00:14.217054 - Current image size: 16 \n"
     ]
    },
    {
     "name": "stderr",
     "output_type": "stream",
     "text": [
      "100%|██████████| 51/51 [00:14<00:00,  3.59it/s, gp=0.00393, loss_critic=-.00894] \n"
     ]
    },
    {
     "name": "stdout",
     "output_type": "stream",
     "text": [
      "Epoch [21/50] Global Epoch:81 - Epoch training time: 0:00:14.206640 - Current image size: 16 \n"
     ]
    },
    {
     "name": "stderr",
     "output_type": "stream",
     "text": [
      "100%|██████████| 51/51 [00:14<00:00,  3.58it/s, gp=0.0115, loss_critic=0.0824] \n"
     ]
    },
    {
     "name": "stdout",
     "output_type": "stream",
     "text": [
      "Epoch [22/50] Global Epoch:82 - Epoch training time: 0:00:14.251236 - Current image size: 16 \n"
     ]
    },
    {
     "name": "stderr",
     "output_type": "stream",
     "text": [
      "100%|██████████| 51/51 [00:14<00:00,  3.59it/s, gp=0.0125, loss_critic=-.0271]  \n"
     ]
    },
    {
     "name": "stdout",
     "output_type": "stream",
     "text": [
      "Epoch [23/50] Global Epoch:83 - Epoch training time: 0:00:14.197564 - Current image size: 16 \n"
     ]
    },
    {
     "name": "stderr",
     "output_type": "stream",
     "text": [
      "100%|██████████| 51/51 [00:14<00:00,  3.59it/s, gp=0.0204, loss_critic=0.0677]  \n"
     ]
    },
    {
     "name": "stdout",
     "output_type": "stream",
     "text": [
      "Epoch [24/50] Global Epoch:84 - Epoch training time: 0:00:14.221164 - Current image size: 16 \n"
     ]
    },
    {
     "name": "stderr",
     "output_type": "stream",
     "text": [
      "100%|██████████| 51/51 [00:14<00:00,  3.60it/s, gp=0.00884, loss_critic=0.093]  \n"
     ]
    },
    {
     "name": "stdout",
     "output_type": "stream",
     "text": [
      "Epoch [25/50] Global Epoch:85 - Epoch training time: 0:00:14.185095 - Current image size: 16 \n"
     ]
    },
    {
     "name": "stderr",
     "output_type": "stream",
     "text": [
      "100%|██████████| 51/51 [00:14<00:00,  3.59it/s, gp=0.0108, loss_critic=-.165]   \n"
     ]
    },
    {
     "name": "stdout",
     "output_type": "stream",
     "text": [
      "Epoch [26/50] Global Epoch:86 - Epoch training time: 0:00:14.208388 - Current image size: 16 \n"
     ]
    },
    {
     "name": "stderr",
     "output_type": "stream",
     "text": [
      "100%|██████████| 51/51 [00:14<00:00,  3.59it/s, gp=0.00809, loss_critic=-.0281]\n"
     ]
    },
    {
     "name": "stdout",
     "output_type": "stream",
     "text": [
      "Epoch [27/50] Global Epoch:87 - Epoch training time: 0:00:14.222005 - Current image size: 16 \n"
     ]
    },
    {
     "name": "stderr",
     "output_type": "stream",
     "text": [
      "100%|██████████| 51/51 [00:14<00:00,  3.58it/s, gp=0.0359, loss_critic=0.346]   \n"
     ]
    },
    {
     "name": "stdout",
     "output_type": "stream",
     "text": [
      "Epoch [28/50] Global Epoch:88 - Epoch training time: 0:00:14.244921 - Current image size: 16 \n"
     ]
    },
    {
     "name": "stderr",
     "output_type": "stream",
     "text": [
      "100%|██████████| 51/51 [00:14<00:00,  3.59it/s, gp=0.00555, loss_critic=0.149] \n"
     ]
    },
    {
     "name": "stdout",
     "output_type": "stream",
     "text": [
      "Epoch [29/50] Global Epoch:89 - Epoch training time: 0:00:14.197674 - Current image size: 16 \n"
     ]
    },
    {
     "name": "stderr",
     "output_type": "stream",
     "text": [
      "100%|██████████| 51/51 [00:14<00:00,  3.59it/s, gp=0.00763, loss_critic=-.084]  \n"
     ]
    },
    {
     "name": "stdout",
     "output_type": "stream",
     "text": [
      "Epoch [30/50] Global Epoch:90 - Epoch training time: 0:00:14.208689 - Current image size: 16 \n"
     ]
    },
    {
     "name": "stderr",
     "output_type": "stream",
     "text": [
      "100%|██████████| 51/51 [00:14<00:00,  3.59it/s, gp=0.0156, loss_critic=-.00661] \n"
     ]
    },
    {
     "name": "stdout",
     "output_type": "stream",
     "text": [
      "Epoch [31/50] Global Epoch:91 - Epoch training time: 0:00:14.212803 - Current image size: 16 \n"
     ]
    },
    {
     "name": "stderr",
     "output_type": "stream",
     "text": [
      "100%|██████████| 51/51 [00:14<00:00,  3.59it/s, gp=0.00784, loss_critic=-.00913]\n"
     ]
    },
    {
     "name": "stdout",
     "output_type": "stream",
     "text": [
      "Epoch [32/50] Global Epoch:92 - Epoch training time: 0:00:14.198444 - Current image size: 16 \n"
     ]
    },
    {
     "name": "stderr",
     "output_type": "stream",
     "text": [
      "100%|██████████| 51/51 [00:14<00:00,  3.59it/s, gp=0.00871, loss_critic=0.0167]  \n"
     ]
    },
    {
     "name": "stdout",
     "output_type": "stream",
     "text": [
      "Epoch [33/50] Global Epoch:93 - Epoch training time: 0:00:14.203592 - Current image size: 16 \n"
     ]
    },
    {
     "name": "stderr",
     "output_type": "stream",
     "text": [
      "100%|██████████| 51/51 [00:14<00:00,  3.59it/s, gp=0.00565, loss_critic=-.106]   \n"
     ]
    },
    {
     "name": "stdout",
     "output_type": "stream",
     "text": [
      "Epoch [34/50] Global Epoch:94 - Epoch training time: 0:00:14.205127 - Current image size: 16 \n"
     ]
    },
    {
     "name": "stderr",
     "output_type": "stream",
     "text": [
      "100%|██████████| 51/51 [00:14<00:00,  3.59it/s, gp=0.0139, loss_critic=0.154]  \n"
     ]
    },
    {
     "name": "stdout",
     "output_type": "stream",
     "text": [
      "Epoch [35/50] Global Epoch:95 - Epoch training time: 0:00:14.203356 - Current image size: 16 \n"
     ]
    },
    {
     "name": "stderr",
     "output_type": "stream",
     "text": [
      "100%|██████████| 51/51 [00:14<00:00,  3.59it/s, gp=0.00404, loss_critic=0.0185] \n"
     ]
    },
    {
     "name": "stdout",
     "output_type": "stream",
     "text": [
      "Epoch [36/50] Global Epoch:96 - Epoch training time: 0:00:14.217001 - Current image size: 16 \n"
     ]
    },
    {
     "name": "stderr",
     "output_type": "stream",
     "text": [
      "100%|██████████| 51/51 [00:14<00:00,  3.59it/s, gp=0.0105, loss_critic=-.059]   \n"
     ]
    },
    {
     "name": "stdout",
     "output_type": "stream",
     "text": [
      "Epoch [37/50] Global Epoch:97 - Epoch training time: 0:00:14.188803 - Current image size: 16 \n"
     ]
    },
    {
     "name": "stderr",
     "output_type": "stream",
     "text": [
      "100%|██████████| 51/51 [00:14<00:00,  3.59it/s, gp=0.00564, loss_critic=-.0907]\n"
     ]
    },
    {
     "name": "stdout",
     "output_type": "stream",
     "text": [
      "Epoch [38/50] Global Epoch:98 - Epoch training time: 0:00:14.190705 - Current image size: 16 \n"
     ]
    },
    {
     "name": "stderr",
     "output_type": "stream",
     "text": [
      "100%|██████████| 51/51 [00:14<00:00,  3.59it/s, gp=0.0074, loss_critic=-.0391]  \n"
     ]
    },
    {
     "name": "stdout",
     "output_type": "stream",
     "text": [
      "Epoch [39/50] Global Epoch:99 - Epoch training time: 0:00:14.193365 - Current image size: 16 \n"
     ]
    },
    {
     "name": "stderr",
     "output_type": "stream",
     "text": [
      "100%|██████████| 51/51 [00:14<00:00,  3.60it/s, gp=0.00812, loss_critic=0.0488]  \n"
     ]
    },
    {
     "name": "stdout",
     "output_type": "stream",
     "text": [
      "Epoch [40/50] Global Epoch:100 - Epoch training time: 0:00:14.168595 - Current image size: 16 \n"
     ]
    },
    {
     "name": "stderr",
     "output_type": "stream",
     "text": [
      "100%|██████████| 51/51 [00:14<00:00,  3.60it/s, gp=0.0051, loss_critic=-.111]    \n"
     ]
    },
    {
     "name": "stdout",
     "output_type": "stream",
     "text": [
      "Epoch [41/50] Global Epoch:101 - Epoch training time: 0:00:14.176476 - Current image size: 16 \n"
     ]
    },
    {
     "name": "stderr",
     "output_type": "stream",
     "text": [
      "100%|██████████| 51/51 [00:14<00:00,  3.59it/s, gp=0.0059, loss_critic=-.0825]  \n"
     ]
    },
    {
     "name": "stdout",
     "output_type": "stream",
     "text": [
      "Epoch [42/50] Global Epoch:102 - Epoch training time: 0:00:14.193491 - Current image size: 16 \n"
     ]
    },
    {
     "name": "stderr",
     "output_type": "stream",
     "text": [
      "100%|██████████| 51/51 [00:14<00:00,  3.59it/s, gp=0.00564, loss_critic=-.0818] \n"
     ]
    },
    {
     "name": "stdout",
     "output_type": "stream",
     "text": [
      "Epoch [43/50] Global Epoch:103 - Epoch training time: 0:00:14.192775 - Current image size: 16 \n"
     ]
    },
    {
     "name": "stderr",
     "output_type": "stream",
     "text": [
      "100%|██████████| 51/51 [00:14<00:00,  3.60it/s, gp=0.00538, loss_critic=0.000681]\n"
     ]
    },
    {
     "name": "stdout",
     "output_type": "stream",
     "text": [
      "Epoch [44/50] Global Epoch:104 - Epoch training time: 0:00:14.169050 - Current image size: 16 \n"
     ]
    },
    {
     "name": "stderr",
     "output_type": "stream",
     "text": [
      "100%|██████████| 51/51 [00:14<00:00,  3.60it/s, gp=0.00586, loss_critic=0.104]   \n"
     ]
    },
    {
     "name": "stdout",
     "output_type": "stream",
     "text": [
      "Epoch [45/50] Global Epoch:105 - Epoch training time: 0:00:14.163676 - Current image size: 16 \n"
     ]
    },
    {
     "name": "stderr",
     "output_type": "stream",
     "text": [
      "100%|██████████| 51/51 [00:14<00:00,  3.60it/s, gp=0.00478, loss_critic=-.115]  \n"
     ]
    },
    {
     "name": "stdout",
     "output_type": "stream",
     "text": [
      "Epoch [46/50] Global Epoch:106 - Epoch training time: 0:00:14.165326 - Current image size: 16 \n"
     ]
    },
    {
     "name": "stderr",
     "output_type": "stream",
     "text": [
      "100%|██████████| 51/51 [00:14<00:00,  3.60it/s, gp=0.00572, loss_critic=0.00505] \n"
     ]
    },
    {
     "name": "stdout",
     "output_type": "stream",
     "text": [
      "Epoch [47/50] Global Epoch:107 - Epoch training time: 0:00:14.153993 - Current image size: 16 \n"
     ]
    },
    {
     "name": "stderr",
     "output_type": "stream",
     "text": [
      "100%|██████████| 51/51 [00:14<00:00,  3.60it/s, gp=0.00796, loss_critic=0.0291] \n"
     ]
    },
    {
     "name": "stdout",
     "output_type": "stream",
     "text": [
      "Epoch [48/50] Global Epoch:108 - Epoch training time: 0:00:14.157351 - Current image size: 16 \n"
     ]
    },
    {
     "name": "stderr",
     "output_type": "stream",
     "text": [
      "100%|██████████| 51/51 [00:14<00:00,  3.60it/s, gp=0.00705, loss_critic=-.311]  \n"
     ]
    },
    {
     "name": "stdout",
     "output_type": "stream",
     "text": [
      "Epoch [49/50] Global Epoch:109 - Epoch training time: 0:00:14.161838 - Current image size: 16 \n"
     ]
    },
    {
     "name": "stderr",
     "output_type": "stream",
     "text": [
      "100%|██████████| 51/51 [00:14<00:00,  3.57it/s, gp=0.0119, loss_critic=-.0522]  \n"
     ]
    },
    {
     "name": "stdout",
     "output_type": "stream",
     "text": [
      "Epoch [50/50] Global Epoch:110 - Epoch training time: 0:00:14.299848 - Current image size: 16 \n",
      "=> Saving checkpoint\n",
      "=> Saving checkpoint\n"
     ]
    },
    {
     "name": "stderr",
     "output_type": "stream",
     "text": [
      "100%|██████████| 102/102 [00:53<00:00,  1.91it/s, gp=0.0191, loss_critic=0.0764] \n"
     ]
    },
    {
     "name": "stdout",
     "output_type": "stream",
     "text": [
      "Epoch [1/50] Global Epoch:111 - Epoch training time: 0:00:53.380511 - Current image size: 32 \n"
     ]
    },
    {
     "name": "stderr",
     "output_type": "stream",
     "text": [
      "100%|██████████| 102/102 [00:53<00:00,  1.90it/s, gp=0.0153, loss_critic=-.212] \n"
     ]
    },
    {
     "name": "stdout",
     "output_type": "stream",
     "text": [
      "Epoch [2/50] Global Epoch:112 - Epoch training time: 0:00:53.546642 - Current image size: 32 \n"
     ]
    },
    {
     "name": "stderr",
     "output_type": "stream",
     "text": [
      "100%|██████████| 102/102 [00:53<00:00,  1.90it/s, gp=0.00679, loss_critic=-.381]\n"
     ]
    },
    {
     "name": "stdout",
     "output_type": "stream",
     "text": [
      "Epoch [3/50] Global Epoch:113 - Epoch training time: 0:00:53.693494 - Current image size: 32 \n"
     ]
    },
    {
     "name": "stderr",
     "output_type": "stream",
     "text": [
      "100%|██████████| 102/102 [00:53<00:00,  1.90it/s, gp=0.0158, loss_critic=-.409]  \n"
     ]
    },
    {
     "name": "stdout",
     "output_type": "stream",
     "text": [
      "Epoch [4/50] Global Epoch:114 - Epoch training time: 0:00:53.741477 - Current image size: 32 \n"
     ]
    },
    {
     "name": "stderr",
     "output_type": "stream",
     "text": [
      "100%|██████████| 102/102 [00:53<00:00,  1.90it/s, gp=0.0146, loss_critic=0.00855]\n"
     ]
    },
    {
     "name": "stdout",
     "output_type": "stream",
     "text": [
      "Epoch [5/50] Global Epoch:115 - Epoch training time: 0:00:53.793056 - Current image size: 32 \n"
     ]
    },
    {
     "name": "stderr",
     "output_type": "stream",
     "text": [
      "100%|██████████| 102/102 [00:53<00:00,  1.90it/s, gp=0.0115, loss_critic=-.432] \n"
     ]
    },
    {
     "name": "stdout",
     "output_type": "stream",
     "text": [
      "Epoch [6/50] Global Epoch:116 - Epoch training time: 0:00:53.777221 - Current image size: 32 \n"
     ]
    },
    {
     "name": "stderr",
     "output_type": "stream",
     "text": [
      "100%|██████████| 102/102 [00:53<00:00,  1.90it/s, gp=0.0211, loss_critic=-.293] \n"
     ]
    },
    {
     "name": "stdout",
     "output_type": "stream",
     "text": [
      "Epoch [7/50] Global Epoch:117 - Epoch training time: 0:00:53.810903 - Current image size: 32 \n"
     ]
    },
    {
     "name": "stderr",
     "output_type": "stream",
     "text": [
      "100%|██████████| 102/102 [00:53<00:00,  1.90it/s, gp=0.00541, loss_critic=-.504] \n"
     ]
    },
    {
     "name": "stdout",
     "output_type": "stream",
     "text": [
      "Epoch [8/50] Global Epoch:118 - Epoch training time: 0:00:53.754804 - Current image size: 32 \n"
     ]
    },
    {
     "name": "stderr",
     "output_type": "stream",
     "text": [
      "100%|██████████| 102/102 [00:53<00:00,  1.90it/s, gp=0.0125, loss_critic=-.18]   \n"
     ]
    },
    {
     "name": "stdout",
     "output_type": "stream",
     "text": [
      "Epoch [9/50] Global Epoch:119 - Epoch training time: 0:00:53.823671 - Current image size: 32 \n"
     ]
    },
    {
     "name": "stderr",
     "output_type": "stream",
     "text": [
      "100%|██████████| 102/102 [00:53<00:00,  1.90it/s, gp=0.00826, loss_critic=-.626] \n"
     ]
    },
    {
     "name": "stdout",
     "output_type": "stream",
     "text": [
      "Epoch [10/50] Global Epoch:120 - Epoch training time: 0:00:53.779616 - Current image size: 32 \n"
     ]
    },
    {
     "name": "stderr",
     "output_type": "stream",
     "text": [
      "100%|██████████| 102/102 [00:53<00:00,  1.90it/s, gp=0.00621, loss_critic=-.371]\n"
     ]
    },
    {
     "name": "stdout",
     "output_type": "stream",
     "text": [
      "Epoch [11/50] Global Epoch:121 - Epoch training time: 0:00:53.810772 - Current image size: 32 \n"
     ]
    },
    {
     "name": "stderr",
     "output_type": "stream",
     "text": [
      "100%|██████████| 102/102 [00:53<00:00,  1.90it/s, gp=0.00664, loss_critic=0.00892]\n"
     ]
    },
    {
     "name": "stdout",
     "output_type": "stream",
     "text": [
      "Epoch [12/50] Global Epoch:122 - Epoch training time: 0:00:53.779485 - Current image size: 32 \n"
     ]
    },
    {
     "name": "stderr",
     "output_type": "stream",
     "text": [
      "100%|██████████| 102/102 [00:53<00:00,  1.90it/s, gp=0.00372, loss_critic=-.463]\n"
     ]
    },
    {
     "name": "stdout",
     "output_type": "stream",
     "text": [
      "Epoch [13/50] Global Epoch:123 - Epoch training time: 0:00:53.819942 - Current image size: 32 \n"
     ]
    },
    {
     "name": "stderr",
     "output_type": "stream",
     "text": [
      "100%|██████████| 102/102 [00:53<00:00,  1.90it/s, gp=0.00536, loss_critic=-.783] \n"
     ]
    },
    {
     "name": "stdout",
     "output_type": "stream",
     "text": [
      "Epoch [14/50] Global Epoch:124 - Epoch training time: 0:00:53.820245 - Current image size: 32 \n"
     ]
    },
    {
     "name": "stderr",
     "output_type": "stream",
     "text": [
      "100%|██████████| 102/102 [00:53<00:00,  1.89it/s, gp=0.00557, loss_critic=-.0724] \n"
     ]
    },
    {
     "name": "stdout",
     "output_type": "stream",
     "text": [
      "Epoch [15/50] Global Epoch:125 - Epoch training time: 0:00:53.891524 - Current image size: 32 \n"
     ]
    },
    {
     "name": "stderr",
     "output_type": "stream",
     "text": [
      "100%|██████████| 102/102 [00:53<00:00,  1.89it/s, gp=0.00683, loss_critic=-.0442]\n"
     ]
    },
    {
     "name": "stdout",
     "output_type": "stream",
     "text": [
      "Epoch [16/50] Global Epoch:126 - Epoch training time: 0:00:53.863383 - Current image size: 32 \n"
     ]
    },
    {
     "name": "stderr",
     "output_type": "stream",
     "text": [
      "100%|██████████| 102/102 [00:53<00:00,  1.89it/s, gp=0.0101, loss_critic=-.436] \n"
     ]
    },
    {
     "name": "stdout",
     "output_type": "stream",
     "text": [
      "Epoch [17/50] Global Epoch:127 - Epoch training time: 0:00:53.923167 - Current image size: 32 \n"
     ]
    },
    {
     "name": "stderr",
     "output_type": "stream",
     "text": [
      "100%|██████████| 102/102 [00:53<00:00,  1.89it/s, gp=0.00854, loss_critic=-.146]\n"
     ]
    },
    {
     "name": "stdout",
     "output_type": "stream",
     "text": [
      "Epoch [18/50] Global Epoch:128 - Epoch training time: 0:00:53.883709 - Current image size: 32 \n"
     ]
    },
    {
     "name": "stderr",
     "output_type": "stream",
     "text": [
      "100%|██████████| 102/102 [00:53<00:00,  1.89it/s, gp=0.00758, loss_critic=-.579]\n"
     ]
    },
    {
     "name": "stdout",
     "output_type": "stream",
     "text": [
      "Epoch [19/50] Global Epoch:129 - Epoch training time: 0:00:53.897186 - Current image size: 32 \n"
     ]
    },
    {
     "name": "stderr",
     "output_type": "stream",
     "text": [
      "100%|██████████| 102/102 [00:53<00:00,  1.89it/s, gp=0.00689, loss_critic=-.584]\n"
     ]
    },
    {
     "name": "stdout",
     "output_type": "stream",
     "text": [
      "Epoch [20/50] Global Epoch:130 - Epoch training time: 0:00:53.866538 - Current image size: 32 \n"
     ]
    },
    {
     "name": "stderr",
     "output_type": "stream",
     "text": [
      "100%|██████████| 102/102 [00:53<00:00,  1.89it/s, gp=0.0079, loss_critic=-.0934] \n"
     ]
    },
    {
     "name": "stdout",
     "output_type": "stream",
     "text": [
      "Epoch [21/50] Global Epoch:131 - Epoch training time: 0:00:53.894177 - Current image size: 32 \n"
     ]
    },
    {
     "name": "stderr",
     "output_type": "stream",
     "text": [
      "100%|██████████| 102/102 [00:53<00:00,  1.89it/s, gp=0.00379, loss_critic=-.376] \n"
     ]
    },
    {
     "name": "stdout",
     "output_type": "stream",
     "text": [
      "Epoch [22/50] Global Epoch:132 - Epoch training time: 0:00:53.912790 - Current image size: 32 \n"
     ]
    },
    {
     "name": "stderr",
     "output_type": "stream",
     "text": [
      "100%|██████████| 102/102 [00:53<00:00,  1.89it/s, gp=0.00662, loss_critic=-.414]\n"
     ]
    },
    {
     "name": "stdout",
     "output_type": "stream",
     "text": [
      "Epoch [23/50] Global Epoch:133 - Epoch training time: 0:00:53.834465 - Current image size: 32 \n"
     ]
    },
    {
     "name": "stderr",
     "output_type": "stream",
     "text": [
      "100%|██████████| 102/102 [00:53<00:00,  1.89it/s, gp=0.0756, loss_critic=0.464]  \n"
     ]
    },
    {
     "name": "stdout",
     "output_type": "stream",
     "text": [
      "Epoch [24/50] Global Epoch:134 - Epoch training time: 0:00:53.876406 - Current image size: 32 \n"
     ]
    },
    {
     "name": "stderr",
     "output_type": "stream",
     "text": [
      "100%|██████████| 102/102 [00:53<00:00,  1.89it/s, gp=0.0136, loss_critic=-.138]  \n"
     ]
    },
    {
     "name": "stdout",
     "output_type": "stream",
     "text": [
      "Epoch [25/50] Global Epoch:135 - Epoch training time: 0:00:53.874311 - Current image size: 32 \n"
     ]
    },
    {
     "name": "stderr",
     "output_type": "stream",
     "text": [
      "100%|██████████| 102/102 [00:53<00:00,  1.90it/s, gp=0.00319, loss_critic=-.491]  \n"
     ]
    },
    {
     "name": "stdout",
     "output_type": "stream",
     "text": [
      "Epoch [26/50] Global Epoch:136 - Epoch training time: 0:00:53.815035 - Current image size: 32 \n"
     ]
    },
    {
     "name": "stderr",
     "output_type": "stream",
     "text": [
      "100%|██████████| 102/102 [00:53<00:00,  1.90it/s, gp=0.00604, loss_critic=-.471] \n"
     ]
    },
    {
     "name": "stdout",
     "output_type": "stream",
     "text": [
      "Epoch [27/50] Global Epoch:137 - Epoch training time: 0:00:53.821496 - Current image size: 32 \n"
     ]
    },
    {
     "name": "stderr",
     "output_type": "stream",
     "text": [
      "100%|██████████| 102/102 [00:53<00:00,  1.89it/s, gp=0.00616, loss_critic=-.107] \n"
     ]
    },
    {
     "name": "stdout",
     "output_type": "stream",
     "text": [
      "Epoch [28/50] Global Epoch:138 - Epoch training time: 0:00:53.829446 - Current image size: 32 \n"
     ]
    },
    {
     "name": "stderr",
     "output_type": "stream",
     "text": [
      "100%|██████████| 102/102 [00:53<00:00,  1.90it/s, gp=0.00571, loss_critic=-.207] \n"
     ]
    },
    {
     "name": "stdout",
     "output_type": "stream",
     "text": [
      "Epoch [29/50] Global Epoch:139 - Epoch training time: 0:00:53.824214 - Current image size: 32 \n"
     ]
    },
    {
     "name": "stderr",
     "output_type": "stream",
     "text": [
      "100%|██████████| 102/102 [00:53<00:00,  1.90it/s, gp=0.00507, loss_critic=0.0875]\n"
     ]
    },
    {
     "name": "stdout",
     "output_type": "stream",
     "text": [
      "Epoch [30/50] Global Epoch:140 - Epoch training time: 0:00:53.787294 - Current image size: 32 \n"
     ]
    },
    {
     "name": "stderr",
     "output_type": "stream",
     "text": [
      "100%|██████████| 102/102 [00:53<00:00,  1.89it/s, gp=0.00405, loss_critic=-.252] \n"
     ]
    },
    {
     "name": "stdout",
     "output_type": "stream",
     "text": [
      "Epoch [31/50] Global Epoch:141 - Epoch training time: 0:00:53.840766 - Current image size: 32 \n"
     ]
    },
    {
     "name": "stderr",
     "output_type": "stream",
     "text": [
      "100%|██████████| 102/102 [00:53<00:00,  1.89it/s, gp=0.00516, loss_critic=-.162] \n"
     ]
    },
    {
     "name": "stdout",
     "output_type": "stream",
     "text": [
      "Epoch [32/50] Global Epoch:142 - Epoch training time: 0:00:53.872248 - Current image size: 32 \n"
     ]
    },
    {
     "name": "stderr",
     "output_type": "stream",
     "text": [
      "100%|██████████| 102/102 [00:53<00:00,  1.90it/s, gp=0.0106, loss_critic=-.165]  \n"
     ]
    },
    {
     "name": "stdout",
     "output_type": "stream",
     "text": [
      "Epoch [33/50] Global Epoch:143 - Epoch training time: 0:00:53.794221 - Current image size: 32 \n"
     ]
    },
    {
     "name": "stderr",
     "output_type": "stream",
     "text": [
      "100%|██████████| 102/102 [00:53<00:00,  1.89it/s, gp=0.00899, loss_critic=-.1]   \n"
     ]
    },
    {
     "name": "stdout",
     "output_type": "stream",
     "text": [
      "Epoch [34/50] Global Epoch:144 - Epoch training time: 0:00:53.830352 - Current image size: 32 \n"
     ]
    },
    {
     "name": "stderr",
     "output_type": "stream",
     "text": [
      "100%|██████████| 102/102 [00:53<00:00,  1.89it/s, gp=0.00854, loss_critic=-.0295]\n"
     ]
    },
    {
     "name": "stdout",
     "output_type": "stream",
     "text": [
      "Epoch [35/50] Global Epoch:145 - Epoch training time: 0:00:53.857364 - Current image size: 32 \n"
     ]
    },
    {
     "name": "stderr",
     "output_type": "stream",
     "text": [
      "100%|██████████| 102/102 [00:53<00:00,  1.90it/s, gp=0.00692, loss_critic=0.0899]\n"
     ]
    },
    {
     "name": "stdout",
     "output_type": "stream",
     "text": [
      "Epoch [36/50] Global Epoch:146 - Epoch training time: 0:00:53.813617 - Current image size: 32 \n"
     ]
    },
    {
     "name": "stderr",
     "output_type": "stream",
     "text": [
      "100%|██████████| 102/102 [00:53<00:00,  1.89it/s, gp=0.00655, loss_critic=-.403] \n"
     ]
    },
    {
     "name": "stdout",
     "output_type": "stream",
     "text": [
      "Epoch [37/50] Global Epoch:147 - Epoch training time: 0:00:53.846285 - Current image size: 32 \n"
     ]
    },
    {
     "name": "stderr",
     "output_type": "stream",
     "text": [
      "100%|██████████| 102/102 [00:53<00:00,  1.90it/s, gp=0.00887, loss_critic=-.371] \n"
     ]
    },
    {
     "name": "stdout",
     "output_type": "stream",
     "text": [
      "Epoch [38/50] Global Epoch:148 - Epoch training time: 0:00:53.717925 - Current image size: 32 \n"
     ]
    },
    {
     "name": "stderr",
     "output_type": "stream",
     "text": [
      "100%|██████████| 102/102 [00:53<00:00,  1.90it/s, gp=0.00451, loss_critic=0.153] \n"
     ]
    },
    {
     "name": "stdout",
     "output_type": "stream",
     "text": [
      "Epoch [39/50] Global Epoch:149 - Epoch training time: 0:00:53.785369 - Current image size: 32 \n"
     ]
    },
    {
     "name": "stderr",
     "output_type": "stream",
     "text": [
      "100%|██████████| 102/102 [00:53<00:00,  1.90it/s, gp=0.00984, loss_critic=-.151]  \n"
     ]
    },
    {
     "name": "stdout",
     "output_type": "stream",
     "text": [
      "Epoch [40/50] Global Epoch:150 - Epoch training time: 0:00:53.739168 - Current image size: 32 \n"
     ]
    },
    {
     "name": "stderr",
     "output_type": "stream",
     "text": [
      "100%|██████████| 102/102 [00:53<00:00,  1.90it/s, gp=0.00534, loss_critic=-.232] \n"
     ]
    },
    {
     "name": "stdout",
     "output_type": "stream",
     "text": [
      "Epoch [41/50] Global Epoch:151 - Epoch training time: 0:00:53.731953 - Current image size: 32 \n"
     ]
    },
    {
     "name": "stderr",
     "output_type": "stream",
     "text": [
      "100%|██████████| 102/102 [00:53<00:00,  1.90it/s, gp=0.00432, loss_critic=-.314] \n"
     ]
    },
    {
     "name": "stdout",
     "output_type": "stream",
     "text": [
      "Epoch [42/50] Global Epoch:152 - Epoch training time: 0:00:53.729823 - Current image size: 32 \n"
     ]
    },
    {
     "name": "stderr",
     "output_type": "stream",
     "text": [
      "100%|██████████| 102/102 [00:53<00:00,  1.90it/s, gp=0.00648, loss_critic=-.142]  \n"
     ]
    },
    {
     "name": "stdout",
     "output_type": "stream",
     "text": [
      "Epoch [43/50] Global Epoch:153 - Epoch training time: 0:00:53.719694 - Current image size: 32 \n"
     ]
    },
    {
     "name": "stderr",
     "output_type": "stream",
     "text": [
      "100%|██████████| 102/102 [00:53<00:00,  1.90it/s, gp=0.00487, loss_critic=0.255] \n"
     ]
    },
    {
     "name": "stdout",
     "output_type": "stream",
     "text": [
      "Epoch [44/50] Global Epoch:154 - Epoch training time: 0:00:53.676058 - Current image size: 32 \n"
     ]
    },
    {
     "name": "stderr",
     "output_type": "stream",
     "text": [
      "100%|██████████| 102/102 [00:53<00:00,  1.90it/s, gp=0.00692, loss_critic=-.462] \n"
     ]
    },
    {
     "name": "stdout",
     "output_type": "stream",
     "text": [
      "Epoch [45/50] Global Epoch:155 - Epoch training time: 0:00:53.713339 - Current image size: 32 \n"
     ]
    },
    {
     "name": "stderr",
     "output_type": "stream",
     "text": [
      "100%|██████████| 102/102 [00:53<00:00,  1.90it/s, gp=0.00689, loss_critic=0.144] \n"
     ]
    },
    {
     "name": "stdout",
     "output_type": "stream",
     "text": [
      "Epoch [46/50] Global Epoch:156 - Epoch training time: 0:00:53.746595 - Current image size: 32 \n"
     ]
    },
    {
     "name": "stderr",
     "output_type": "stream",
     "text": [
      "100%|██████████| 102/102 [00:53<00:00,  1.90it/s, gp=0.0173, loss_critic=-.125]  \n"
     ]
    },
    {
     "name": "stdout",
     "output_type": "stream",
     "text": [
      "Epoch [47/50] Global Epoch:157 - Epoch training time: 0:00:53.725001 - Current image size: 32 \n"
     ]
    },
    {
     "name": "stderr",
     "output_type": "stream",
     "text": [
      "100%|██████████| 102/102 [00:53<00:00,  1.90it/s, gp=0.00715, loss_critic=-.202]\n"
     ]
    },
    {
     "name": "stdout",
     "output_type": "stream",
     "text": [
      "Epoch [48/50] Global Epoch:158 - Epoch training time: 0:00:53.704637 - Current image size: 32 \n"
     ]
    },
    {
     "name": "stderr",
     "output_type": "stream",
     "text": [
      "100%|██████████| 102/102 [00:53<00:00,  1.90it/s, gp=0.00965, loss_critic=-.316] \n"
     ]
    },
    {
     "name": "stdout",
     "output_type": "stream",
     "text": [
      "Epoch [49/50] Global Epoch:159 - Epoch training time: 0:00:53.678047 - Current image size: 32 \n"
     ]
    },
    {
     "name": "stderr",
     "output_type": "stream",
     "text": [
      "100%|██████████| 102/102 [00:54<00:00,  1.88it/s, gp=0.0137, loss_critic=-.161] \n"
     ]
    },
    {
     "name": "stdout",
     "output_type": "stream",
     "text": [
      "Epoch [50/50] Global Epoch:160 - Epoch training time: 0:00:54.233759 - Current image size: 32 \n",
      "=> Saving checkpoint\n",
      "=> Saving checkpoint\n"
     ]
    },
    {
     "name": "stderr",
     "output_type": "stream",
     "text": [
      "100%|██████████| 102/102 [03:00<00:00,  1.77s/it, gp=0.0077, loss_critic=-.0624] \n"
     ]
    },
    {
     "name": "stdout",
     "output_type": "stream",
     "text": [
      "Epoch [1/75] Global Epoch:161 - Epoch training time: 0:03:00.385616 - Current image size: 64 \n"
     ]
    },
    {
     "name": "stderr",
     "output_type": "stream",
     "text": [
      "100%|██████████| 102/102 [03:00<00:00,  1.77s/it, gp=0.0206, loss_critic=-.555] \n"
     ]
    },
    {
     "name": "stdout",
     "output_type": "stream",
     "text": [
      "Epoch [2/75] Global Epoch:162 - Epoch training time: 0:03:00.840133 - Current image size: 64 \n"
     ]
    },
    {
     "name": "stderr",
     "output_type": "stream",
     "text": [
      "100%|██████████| 102/102 [03:01<00:00,  1.78s/it, gp=0.0155, loss_critic=-1.13] \n"
     ]
    },
    {
     "name": "stdout",
     "output_type": "stream",
     "text": [
      "Epoch [3/75] Global Epoch:163 - Epoch training time: 0:03:01.161732 - Current image size: 64 \n"
     ]
    },
    {
     "name": "stderr",
     "output_type": "stream",
     "text": [
      "100%|██████████| 102/102 [03:01<00:00,  1.78s/it, gp=0.00607, loss_critic=-.133]\n"
     ]
    },
    {
     "name": "stdout",
     "output_type": "stream",
     "text": [
      "Epoch [4/75] Global Epoch:164 - Epoch training time: 0:03:01.187113 - Current image size: 64 \n"
     ]
    },
    {
     "name": "stderr",
     "output_type": "stream",
     "text": [
      "100%|██████████| 102/102 [03:01<00:00,  1.78s/it, gp=0.00499, loss_critic=-.819]\n"
     ]
    },
    {
     "name": "stdout",
     "output_type": "stream",
     "text": [
      "Epoch [5/75] Global Epoch:165 - Epoch training time: 0:03:01.257580 - Current image size: 64 \n"
     ]
    },
    {
     "name": "stderr",
     "output_type": "stream",
     "text": [
      "100%|██████████| 102/102 [03:01<00:00,  1.78s/it, gp=0.0117, loss_critic=0.00599]\n"
     ]
    },
    {
     "name": "stdout",
     "output_type": "stream",
     "text": [
      "Epoch [6/75] Global Epoch:166 - Epoch training time: 0:03:01.266759 - Current image size: 64 \n"
     ]
    },
    {
     "name": "stderr",
     "output_type": "stream",
     "text": [
      "100%|██████████| 102/102 [03:01<00:00,  1.78s/it, gp=0.0053, loss_critic=-1.12] \n"
     ]
    },
    {
     "name": "stdout",
     "output_type": "stream",
     "text": [
      "Epoch [7/75] Global Epoch:167 - Epoch training time: 0:03:01.364682 - Current image size: 64 \n"
     ]
    },
    {
     "name": "stderr",
     "output_type": "stream",
     "text": [
      "100%|██████████| 102/102 [03:01<00:00,  1.78s/it, gp=0.0619, loss_critic=-.923] \n"
     ]
    },
    {
     "name": "stdout",
     "output_type": "stream",
     "text": [
      "Epoch [8/75] Global Epoch:168 - Epoch training time: 0:03:01.396243 - Current image size: 64 \n"
     ]
    },
    {
     "name": "stderr",
     "output_type": "stream",
     "text": [
      "100%|██████████| 102/102 [03:01<00:00,  1.78s/it, gp=0.0102, loss_critic=-.601] \n"
     ]
    },
    {
     "name": "stdout",
     "output_type": "stream",
     "text": [
      "Epoch [9/75] Global Epoch:169 - Epoch training time: 0:03:01.395689 - Current image size: 64 \n"
     ]
    },
    {
     "name": "stderr",
     "output_type": "stream",
     "text": [
      "100%|██████████| 102/102 [03:01<00:00,  1.78s/it, gp=0.00988, loss_critic=-.853] \n"
     ]
    },
    {
     "name": "stdout",
     "output_type": "stream",
     "text": [
      "Epoch [10/75] Global Epoch:170 - Epoch training time: 0:03:01.421476 - Current image size: 64 \n"
     ]
    },
    {
     "name": "stderr",
     "output_type": "stream",
     "text": [
      "100%|██████████| 102/102 [03:01<00:00,  1.78s/it, gp=0.0221, loss_critic=-.725] \n"
     ]
    },
    {
     "name": "stdout",
     "output_type": "stream",
     "text": [
      "Epoch [11/75] Global Epoch:171 - Epoch training time: 0:03:01.342554 - Current image size: 64 \n"
     ]
    },
    {
     "name": "stderr",
     "output_type": "stream",
     "text": [
      "100%|██████████| 102/102 [03:01<00:00,  1.78s/it, gp=0.00961, loss_critic=-1.22]\n"
     ]
    },
    {
     "name": "stdout",
     "output_type": "stream",
     "text": [
      "Epoch [12/75] Global Epoch:172 - Epoch training time: 0:03:01.428030 - Current image size: 64 \n"
     ]
    },
    {
     "name": "stderr",
     "output_type": "stream",
     "text": [
      "100%|██████████| 102/102 [03:01<00:00,  1.78s/it, gp=0.0108, loss_critic=-.613] \n"
     ]
    },
    {
     "name": "stdout",
     "output_type": "stream",
     "text": [
      "Epoch [13/75] Global Epoch:173 - Epoch training time: 0:03:01.485337 - Current image size: 64 \n"
     ]
    },
    {
     "name": "stderr",
     "output_type": "stream",
     "text": [
      "100%|██████████| 102/102 [03:01<00:00,  1.78s/it, gp=0.0197, loss_critic=-.136] \n"
     ]
    },
    {
     "name": "stdout",
     "output_type": "stream",
     "text": [
      "Epoch [14/75] Global Epoch:174 - Epoch training time: 0:03:01.434514 - Current image size: 64 \n"
     ]
    },
    {
     "name": "stderr",
     "output_type": "stream",
     "text": [
      "100%|██████████| 102/102 [03:01<00:00,  1.78s/it, gp=0.00716, loss_critic=-.841]\n"
     ]
    },
    {
     "name": "stdout",
     "output_type": "stream",
     "text": [
      "Epoch [15/75] Global Epoch:175 - Epoch training time: 0:03:01.423193 - Current image size: 64 \n"
     ]
    },
    {
     "name": "stderr",
     "output_type": "stream",
     "text": [
      "100%|██████████| 102/102 [03:01<00:00,  1.78s/it, gp=0.0173, loss_critic=-.26]  \n"
     ]
    },
    {
     "name": "stdout",
     "output_type": "stream",
     "text": [
      "Epoch [16/75] Global Epoch:176 - Epoch training time: 0:03:01.475771 - Current image size: 64 \n"
     ]
    },
    {
     "name": "stderr",
     "output_type": "stream",
     "text": [
      "100%|██████████| 102/102 [03:01<00:00,  1.78s/it, gp=0.0155, loss_critic=-1.12]  \n"
     ]
    },
    {
     "name": "stdout",
     "output_type": "stream",
     "text": [
      "Epoch [17/75] Global Epoch:177 - Epoch training time: 0:03:01.462315 - Current image size: 64 \n"
     ]
    },
    {
     "name": "stderr",
     "output_type": "stream",
     "text": [
      "100%|██████████| 102/102 [03:01<00:00,  1.78s/it, gp=0.0153, loss_critic=-.702] \n"
     ]
    },
    {
     "name": "stdout",
     "output_type": "stream",
     "text": [
      "Epoch [18/75] Global Epoch:178 - Epoch training time: 0:03:01.433698 - Current image size: 64 \n"
     ]
    },
    {
     "name": "stderr",
     "output_type": "stream",
     "text": [
      "100%|██████████| 102/102 [03:01<00:00,  1.78s/it, gp=0.0143, loss_critic=-.938]  \n"
     ]
    },
    {
     "name": "stdout",
     "output_type": "stream",
     "text": [
      "Epoch [19/75] Global Epoch:179 - Epoch training time: 0:03:01.346507 - Current image size: 64 \n"
     ]
    },
    {
     "name": "stderr",
     "output_type": "stream",
     "text": [
      "100%|██████████| 102/102 [03:01<00:00,  1.78s/it, gp=0.0113, loss_critic=-.636]  \n"
     ]
    },
    {
     "name": "stdout",
     "output_type": "stream",
     "text": [
      "Epoch [20/75] Global Epoch:180 - Epoch training time: 0:03:01.315421 - Current image size: 64 \n"
     ]
    },
    {
     "name": "stderr",
     "output_type": "stream",
     "text": [
      "100%|██████████| 102/102 [03:01<00:00,  1.78s/it, gp=0.0117, loss_critic=0.0296] \n"
     ]
    },
    {
     "name": "stdout",
     "output_type": "stream",
     "text": [
      "Epoch [21/75] Global Epoch:181 - Epoch training time: 0:03:01.417220 - Current image size: 64 \n"
     ]
    },
    {
     "name": "stderr",
     "output_type": "stream",
     "text": [
      "100%|██████████| 102/102 [03:01<00:00,  1.78s/it, gp=0.00876, loss_critic=-.816]\n"
     ]
    },
    {
     "name": "stdout",
     "output_type": "stream",
     "text": [
      "Epoch [22/75] Global Epoch:182 - Epoch training time: 0:03:01.426278 - Current image size: 64 \n"
     ]
    },
    {
     "name": "stderr",
     "output_type": "stream",
     "text": [
      "100%|██████████| 102/102 [03:01<00:00,  1.78s/it, gp=0.00625, loss_critic=-1.6]  \n"
     ]
    },
    {
     "name": "stdout",
     "output_type": "stream",
     "text": [
      "Epoch [23/75] Global Epoch:183 - Epoch training time: 0:03:01.396060 - Current image size: 64 \n"
     ]
    },
    {
     "name": "stderr",
     "output_type": "stream",
     "text": [
      "100%|██████████| 102/102 [03:01<00:00,  1.78s/it, gp=0.0109, loss_critic=-.234] \n"
     ]
    },
    {
     "name": "stdout",
     "output_type": "stream",
     "text": [
      "Epoch [24/75] Global Epoch:184 - Epoch training time: 0:03:01.573204 - Current image size: 64 \n"
     ]
    },
    {
     "name": "stderr",
     "output_type": "stream",
     "text": [
      "100%|██████████| 102/102 [03:01<00:00,  1.78s/it, gp=0.00679, loss_critic=-.0343]\n"
     ]
    },
    {
     "name": "stdout",
     "output_type": "stream",
     "text": [
      "Epoch [25/75] Global Epoch:185 - Epoch training time: 0:03:01.506119 - Current image size: 64 \n"
     ]
    },
    {
     "name": "stderr",
     "output_type": "stream",
     "text": [
      "100%|██████████| 102/102 [03:01<00:00,  1.78s/it, gp=0.00707, loss_critic=-1.09] \n"
     ]
    },
    {
     "name": "stdout",
     "output_type": "stream",
     "text": [
      "Epoch [26/75] Global Epoch:186 - Epoch training time: 0:03:01.471054 - Current image size: 64 \n"
     ]
    },
    {
     "name": "stderr",
     "output_type": "stream",
     "text": [
      "100%|██████████| 102/102 [03:01<00:00,  1.78s/it, gp=0.0075, loss_critic=-.834]   \n"
     ]
    },
    {
     "name": "stdout",
     "output_type": "stream",
     "text": [
      "Epoch [27/75] Global Epoch:187 - Epoch training time: 0:03:01.313700 - Current image size: 64 \n"
     ]
    },
    {
     "name": "stderr",
     "output_type": "stream",
     "text": [
      "100%|██████████| 102/102 [03:01<00:00,  1.78s/it, gp=0.0114, loss_critic=0.574] \n"
     ]
    },
    {
     "name": "stdout",
     "output_type": "stream",
     "text": [
      "Epoch [28/75] Global Epoch:188 - Epoch training time: 0:03:01.355893 - Current image size: 64 \n"
     ]
    },
    {
     "name": "stderr",
     "output_type": "stream",
     "text": [
      "100%|██████████| 102/102 [03:01<00:00,  1.78s/it, gp=0.00814, loss_critic=-.241]\n"
     ]
    },
    {
     "name": "stdout",
     "output_type": "stream",
     "text": [
      "Epoch [29/75] Global Epoch:189 - Epoch training time: 0:03:01.368438 - Current image size: 64 \n"
     ]
    },
    {
     "name": "stderr",
     "output_type": "stream",
     "text": [
      "100%|██████████| 102/102 [03:01<00:00,  1.78s/it, gp=0.00657, loss_critic=-.668]\n"
     ]
    },
    {
     "name": "stdout",
     "output_type": "stream",
     "text": [
      "Epoch [30/75] Global Epoch:190 - Epoch training time: 0:03:01.369480 - Current image size: 64 \n"
     ]
    },
    {
     "name": "stderr",
     "output_type": "stream",
     "text": [
      "100%|██████████| 102/102 [03:01<00:00,  1.78s/it, gp=0.0129, loss_critic=0.128] \n"
     ]
    },
    {
     "name": "stdout",
     "output_type": "stream",
     "text": [
      "Epoch [31/75] Global Epoch:191 - Epoch training time: 0:03:01.464402 - Current image size: 64 \n"
     ]
    },
    {
     "name": "stderr",
     "output_type": "stream",
     "text": [
      "100%|██████████| 102/102 [03:01<00:00,  1.78s/it, gp=0.0102, loss_critic=-.452]  \n"
     ]
    },
    {
     "name": "stdout",
     "output_type": "stream",
     "text": [
      "Epoch [32/75] Global Epoch:192 - Epoch training time: 0:03:01.510174 - Current image size: 64 \n"
     ]
    },
    {
     "name": "stderr",
     "output_type": "stream",
     "text": [
      "100%|██████████| 102/102 [03:01<00:00,  1.78s/it, gp=0.0116, loss_critic=-.637] \n"
     ]
    },
    {
     "name": "stdout",
     "output_type": "stream",
     "text": [
      "Epoch [33/75] Global Epoch:193 - Epoch training time: 0:03:01.449315 - Current image size: 64 \n"
     ]
    },
    {
     "name": "stderr",
     "output_type": "stream",
     "text": [
      "100%|██████████| 102/102 [03:01<00:00,  1.78s/it, gp=0.00759, loss_critic=-1.06]\n"
     ]
    },
    {
     "name": "stdout",
     "output_type": "stream",
     "text": [
      "Epoch [34/75] Global Epoch:194 - Epoch training time: 0:03:01.313650 - Current image size: 64 \n"
     ]
    },
    {
     "name": "stderr",
     "output_type": "stream",
     "text": [
      "100%|██████████| 102/102 [03:01<00:00,  1.78s/it, gp=0.0104, loss_critic=-.587]  \n"
     ]
    },
    {
     "name": "stdout",
     "output_type": "stream",
     "text": [
      "Epoch [35/75] Global Epoch:195 - Epoch training time: 0:03:01.354244 - Current image size: 64 \n"
     ]
    },
    {
     "name": "stderr",
     "output_type": "stream",
     "text": [
      "100%|██████████| 102/102 [03:01<00:00,  1.78s/it, gp=0.0108, loss_critic=0.0835]\n"
     ]
    },
    {
     "name": "stdout",
     "output_type": "stream",
     "text": [
      "Epoch [36/75] Global Epoch:196 - Epoch training time: 0:03:01.376663 - Current image size: 64 \n"
     ]
    },
    {
     "name": "stderr",
     "output_type": "stream",
     "text": [
      "100%|██████████| 102/102 [03:01<00:00,  1.78s/it, gp=0.00694, loss_critic=-1.1]  \n"
     ]
    },
    {
     "name": "stdout",
     "output_type": "stream",
     "text": [
      "Epoch [37/75] Global Epoch:197 - Epoch training time: 0:03:01.365904 - Current image size: 64 \n"
     ]
    },
    {
     "name": "stderr",
     "output_type": "stream",
     "text": [
      "100%|██████████| 102/102 [03:01<00:00,  1.78s/it, gp=0.0152, loss_critic=-.866] \n"
     ]
    },
    {
     "name": "stdout",
     "output_type": "stream",
     "text": [
      "Epoch [38/75] Global Epoch:198 - Epoch training time: 0:03:01.202600 - Current image size: 64 \n"
     ]
    },
    {
     "name": "stderr",
     "output_type": "stream",
     "text": [
      "100%|██████████| 102/102 [03:01<00:00,  1.78s/it, gp=0.0105, loss_critic=-.221] \n"
     ]
    },
    {
     "name": "stdout",
     "output_type": "stream",
     "text": [
      "Epoch [39/75] Global Epoch:199 - Epoch training time: 0:03:01.246650 - Current image size: 64 \n"
     ]
    },
    {
     "name": "stderr",
     "output_type": "stream",
     "text": [
      "100%|██████████| 102/102 [03:01<00:00,  1.78s/it, gp=0.00927, loss_critic=-.392]\n"
     ]
    },
    {
     "name": "stdout",
     "output_type": "stream",
     "text": [
      "Epoch [40/75] Global Epoch:200 - Epoch training time: 0:03:01.310886 - Current image size: 64 \n"
     ]
    },
    {
     "name": "stderr",
     "output_type": "stream",
     "text": [
      "100%|██████████| 102/102 [03:01<00:00,  1.78s/it, gp=0.00985, loss_critic=-.669]\n"
     ]
    },
    {
     "name": "stdout",
     "output_type": "stream",
     "text": [
      "Epoch [41/75] Global Epoch:201 - Epoch training time: 0:03:01.267530 - Current image size: 64 \n"
     ]
    },
    {
     "name": "stderr",
     "output_type": "stream",
     "text": [
      "100%|██████████| 102/102 [03:01<00:00,  1.78s/it, gp=0.0154, loss_critic=-.774]  \n"
     ]
    },
    {
     "name": "stdout",
     "output_type": "stream",
     "text": [
      "Epoch [42/75] Global Epoch:202 - Epoch training time: 0:03:01.293787 - Current image size: 64 \n"
     ]
    },
    {
     "name": "stderr",
     "output_type": "stream",
     "text": [
      "100%|██████████| 102/102 [03:01<00:00,  1.78s/it, gp=0.00565, loss_critic=-.578]\n"
     ]
    },
    {
     "name": "stdout",
     "output_type": "stream",
     "text": [
      "Epoch [43/75] Global Epoch:203 - Epoch training time: 0:03:01.194049 - Current image size: 64 \n"
     ]
    },
    {
     "name": "stderr",
     "output_type": "stream",
     "text": [
      "100%|██████████| 102/102 [03:01<00:00,  1.78s/it, gp=0.00521, loss_critic=-1.09]\n"
     ]
    },
    {
     "name": "stdout",
     "output_type": "stream",
     "text": [
      "Epoch [44/75] Global Epoch:204 - Epoch training time: 0:03:01.239767 - Current image size: 64 \n"
     ]
    },
    {
     "name": "stderr",
     "output_type": "stream",
     "text": [
      "100%|██████████| 102/102 [03:01<00:00,  1.78s/it, gp=0.0161, loss_critic=0.161] \n"
     ]
    },
    {
     "name": "stdout",
     "output_type": "stream",
     "text": [
      "Epoch [45/75] Global Epoch:205 - Epoch training time: 0:03:01.062351 - Current image size: 64 \n"
     ]
    },
    {
     "name": "stderr",
     "output_type": "stream",
     "text": [
      "100%|██████████| 102/102 [03:01<00:00,  1.77s/it, gp=0.0119, loss_critic=-.303] \n"
     ]
    },
    {
     "name": "stdout",
     "output_type": "stream",
     "text": [
      "Epoch [46/75] Global Epoch:206 - Epoch training time: 0:03:01.006141 - Current image size: 64 \n"
     ]
    },
    {
     "name": "stderr",
     "output_type": "stream",
     "text": [
      "100%|██████████| 102/102 [03:01<00:00,  1.77s/it, gp=0.0102, loss_critic=-.785] \n"
     ]
    },
    {
     "name": "stdout",
     "output_type": "stream",
     "text": [
      "Epoch [47/75] Global Epoch:207 - Epoch training time: 0:03:01.037956 - Current image size: 64 \n"
     ]
    },
    {
     "name": "stderr",
     "output_type": "stream",
     "text": [
      "100%|██████████| 102/102 [03:01<00:00,  1.78s/it, gp=0.019, loss_critic=-.143]  \n"
     ]
    },
    {
     "name": "stdout",
     "output_type": "stream",
     "text": [
      "Epoch [48/75] Global Epoch:208 - Epoch training time: 0:03:01.095819 - Current image size: 64 \n"
     ]
    },
    {
     "name": "stderr",
     "output_type": "stream",
     "text": [
      "100%|██████████| 102/102 [03:01<00:00,  1.78s/it, gp=0.0207, loss_critic=-.419] \n"
     ]
    },
    {
     "name": "stdout",
     "output_type": "stream",
     "text": [
      "Epoch [49/75] Global Epoch:209 - Epoch training time: 0:03:01.138044 - Current image size: 64 \n"
     ]
    },
    {
     "name": "stderr",
     "output_type": "stream",
     "text": [
      "100%|██████████| 102/102 [03:01<00:00,  1.78s/it, gp=0.019, loss_critic=-1.94]  \n"
     ]
    },
    {
     "name": "stdout",
     "output_type": "stream",
     "text": [
      "Epoch [50/75] Global Epoch:210 - Epoch training time: 0:03:01.190866 - Current image size: 64 \n"
     ]
    },
    {
     "name": "stderr",
     "output_type": "stream",
     "text": [
      "100%|██████████| 102/102 [03:01<00:00,  1.78s/it, gp=0.0274, loss_critic=0.55]  \n"
     ]
    },
    {
     "name": "stdout",
     "output_type": "stream",
     "text": [
      "Epoch [51/75] Global Epoch:211 - Epoch training time: 0:03:01.170135 - Current image size: 64 \n"
     ]
    },
    {
     "name": "stderr",
     "output_type": "stream",
     "text": [
      "100%|██████████| 102/102 [03:02<00:00,  1.78s/it, gp=0.00723, loss_critic=-1.46]\n"
     ]
    },
    {
     "name": "stdout",
     "output_type": "stream",
     "text": [
      "Epoch [52/75] Global Epoch:212 - Epoch training time: 0:03:02.010978 - Current image size: 64 \n"
     ]
    },
    {
     "name": "stderr",
     "output_type": "stream",
     "text": [
      "100%|██████████| 102/102 [03:01<00:00,  1.78s/it, gp=0.00779, loss_critic=-.559]\n"
     ]
    },
    {
     "name": "stdout",
     "output_type": "stream",
     "text": [
      "Epoch [53/75] Global Epoch:213 - Epoch training time: 0:03:01.365277 - Current image size: 64 \n"
     ]
    },
    {
     "name": "stderr",
     "output_type": "stream",
     "text": [
      "100%|██████████| 102/102 [03:01<00:00,  1.78s/it, gp=0.00909, loss_critic=-.804]\n"
     ]
    },
    {
     "name": "stdout",
     "output_type": "stream",
     "text": [
      "Epoch [54/75] Global Epoch:214 - Epoch training time: 0:03:01.121001 - Current image size: 64 \n"
     ]
    },
    {
     "name": "stderr",
     "output_type": "stream",
     "text": [
      "100%|██████████| 102/102 [03:01<00:00,  1.78s/it, gp=0.0121, loss_critic=-.415] \n"
     ]
    },
    {
     "name": "stdout",
     "output_type": "stream",
     "text": [
      "Epoch [55/75] Global Epoch:215 - Epoch training time: 0:03:01.150345 - Current image size: 64 \n"
     ]
    },
    {
     "name": "stderr",
     "output_type": "stream",
     "text": [
      "100%|██████████| 102/102 [03:01<00:00,  1.78s/it, gp=0.0163, loss_critic=-.911] \n"
     ]
    },
    {
     "name": "stdout",
     "output_type": "stream",
     "text": [
      "Epoch [56/75] Global Epoch:216 - Epoch training time: 0:03:01.171463 - Current image size: 64 \n"
     ]
    },
    {
     "name": "stderr",
     "output_type": "stream",
     "text": [
      "100%|██████████| 102/102 [03:01<00:00,  1.78s/it, gp=0.0132, loss_critic=-1.11] \n"
     ]
    },
    {
     "name": "stdout",
     "output_type": "stream",
     "text": [
      "Epoch [57/75] Global Epoch:217 - Epoch training time: 0:03:01.225574 - Current image size: 64 \n"
     ]
    },
    {
     "name": "stderr",
     "output_type": "stream",
     "text": [
      "100%|██████████| 102/102 [03:01<00:00,  1.78s/it, gp=0.00938, loss_critic=-1.32]\n"
     ]
    },
    {
     "name": "stdout",
     "output_type": "stream",
     "text": [
      "Epoch [58/75] Global Epoch:218 - Epoch training time: 0:03:01.351494 - Current image size: 64 \n"
     ]
    },
    {
     "name": "stderr",
     "output_type": "stream",
     "text": [
      "100%|██████████| 102/102 [03:01<00:00,  1.78s/it, gp=0.0151, loss_critic=-.31]  \n"
     ]
    },
    {
     "name": "stdout",
     "output_type": "stream",
     "text": [
      "Epoch [59/75] Global Epoch:219 - Epoch training time: 0:03:01.445386 - Current image size: 64 \n"
     ]
    },
    {
     "name": "stderr",
     "output_type": "stream",
     "text": [
      "100%|██████████| 102/102 [03:01<00:00,  1.78s/it, gp=0.0238, loss_critic=-1.88] \n"
     ]
    },
    {
     "name": "stdout",
     "output_type": "stream",
     "text": [
      "Epoch [60/75] Global Epoch:220 - Epoch training time: 0:03:01.369471 - Current image size: 64 \n"
     ]
    },
    {
     "name": "stderr",
     "output_type": "stream",
     "text": [
      "100%|██████████| 102/102 [03:01<00:00,  1.78s/it, gp=0.0138, loss_critic=-.647]\n"
     ]
    },
    {
     "name": "stdout",
     "output_type": "stream",
     "text": [
      "Epoch [61/75] Global Epoch:221 - Epoch training time: 0:03:01.322291 - Current image size: 64 \n"
     ]
    },
    {
     "name": "stderr",
     "output_type": "stream",
     "text": [
      "100%|██████████| 102/102 [03:01<00:00,  1.78s/it, gp=0.0175, loss_critic=-1.37] \n"
     ]
    },
    {
     "name": "stdout",
     "output_type": "stream",
     "text": [
      "Epoch [62/75] Global Epoch:222 - Epoch training time: 0:03:01.113523 - Current image size: 64 \n"
     ]
    },
    {
     "name": "stderr",
     "output_type": "stream",
     "text": [
      "100%|██████████| 102/102 [03:01<00:00,  1.78s/it, gp=0.0197, loss_critic=-.788] \n"
     ]
    },
    {
     "name": "stdout",
     "output_type": "stream",
     "text": [
      "Epoch [63/75] Global Epoch:223 - Epoch training time: 0:03:01.090104 - Current image size: 64 \n"
     ]
    },
    {
     "name": "stderr",
     "output_type": "stream",
     "text": [
      "100%|██████████| 102/102 [03:01<00:00,  1.78s/it, gp=0.00957, loss_critic=-.818]\n"
     ]
    },
    {
     "name": "stdout",
     "output_type": "stream",
     "text": [
      "Epoch [64/75] Global Epoch:224 - Epoch training time: 0:03:01.080611 - Current image size: 64 \n"
     ]
    },
    {
     "name": "stderr",
     "output_type": "stream",
     "text": [
      "100%|██████████| 102/102 [03:01<00:00,  1.78s/it, gp=0.0082, loss_critic=-.777] \n"
     ]
    },
    {
     "name": "stdout",
     "output_type": "stream",
     "text": [
      "Epoch [65/75] Global Epoch:225 - Epoch training time: 0:03:01.994145 - Current image size: 64 \n"
     ]
    },
    {
     "name": "stderr",
     "output_type": "stream",
     "text": [
      "100%|██████████| 102/102 [03:01<00:00,  1.78s/it, gp=0.013, loss_critic=-1.08]   \n"
     ]
    },
    {
     "name": "stdout",
     "output_type": "stream",
     "text": [
      "Epoch [66/75] Global Epoch:226 - Epoch training time: 0:03:01.082428 - Current image size: 64 \n"
     ]
    },
    {
     "name": "stderr",
     "output_type": "stream",
     "text": [
      "100%|██████████| 102/102 [03:00<00:00,  1.77s/it, gp=0.0103, loss_critic=-1.67] \n"
     ]
    },
    {
     "name": "stdout",
     "output_type": "stream",
     "text": [
      "Epoch [67/75] Global Epoch:227 - Epoch training time: 0:03:00.970506 - Current image size: 64 \n"
     ]
    },
    {
     "name": "stderr",
     "output_type": "stream",
     "text": [
      "100%|██████████| 102/102 [03:00<00:00,  1.77s/it, gp=0.0139, loss_critic=-.933]\n"
     ]
    },
    {
     "name": "stdout",
     "output_type": "stream",
     "text": [
      "Epoch [68/75] Global Epoch:228 - Epoch training time: 0:03:00.945792 - Current image size: 64 \n"
     ]
    },
    {
     "name": "stderr",
     "output_type": "stream",
     "text": [
      "100%|██████████| 102/102 [03:01<00:00,  1.78s/it, gp=0.0237, loss_critic=-1.42]  \n"
     ]
    },
    {
     "name": "stdout",
     "output_type": "stream",
     "text": [
      "Epoch [69/75] Global Epoch:229 - Epoch training time: 0:03:01.063691 - Current image size: 64 \n"
     ]
    },
    {
     "name": "stderr",
     "output_type": "stream",
     "text": [
      "100%|██████████| 102/102 [03:01<00:00,  1.78s/it, gp=0.0107, loss_critic=-.619] \n"
     ]
    },
    {
     "name": "stdout",
     "output_type": "stream",
     "text": [
      "Epoch [70/75] Global Epoch:230 - Epoch training time: 0:03:01.233381 - Current image size: 64 \n"
     ]
    },
    {
     "name": "stderr",
     "output_type": "stream",
     "text": [
      "100%|██████████| 102/102 [03:01<00:00,  1.78s/it, gp=0.0473, loss_critic=-1.07]  \n"
     ]
    },
    {
     "name": "stdout",
     "output_type": "stream",
     "text": [
      "Epoch [71/75] Global Epoch:231 - Epoch training time: 0:03:01.151292 - Current image size: 64 \n"
     ]
    },
    {
     "name": "stderr",
     "output_type": "stream",
     "text": [
      "100%|██████████| 102/102 [03:01<00:00,  1.78s/it, gp=0.0218, loss_critic=-1.23]  \n"
     ]
    },
    {
     "name": "stdout",
     "output_type": "stream",
     "text": [
      "Epoch [72/75] Global Epoch:232 - Epoch training time: 0:03:01.146984 - Current image size: 64 \n"
     ]
    },
    {
     "name": "stderr",
     "output_type": "stream",
     "text": [
      "100%|██████████| 102/102 [03:01<00:00,  1.78s/it, gp=0.00965, loss_critic=-1.19]\n"
     ]
    },
    {
     "name": "stdout",
     "output_type": "stream",
     "text": [
      "Epoch [73/75] Global Epoch:233 - Epoch training time: 0:03:01.118332 - Current image size: 64 \n"
     ]
    },
    {
     "name": "stderr",
     "output_type": "stream",
     "text": [
      "100%|██████████| 102/102 [03:01<00:00,  1.78s/it, gp=0.0134, loss_critic=-.888] \n"
     ]
    },
    {
     "name": "stdout",
     "output_type": "stream",
     "text": [
      "Epoch [74/75] Global Epoch:234 - Epoch training time: 0:03:01.108843 - Current image size: 64 \n"
     ]
    },
    {
     "name": "stderr",
     "output_type": "stream",
     "text": [
      "100%|██████████| 102/102 [03:01<00:00,  1.77s/it, gp=0.00891, loss_critic=-.839] \n"
     ]
    },
    {
     "name": "stdout",
     "output_type": "stream",
     "text": [
      "Epoch [75/75] Global Epoch:235 - Epoch training time: 0:03:01.014631 - Current image size: 64 \n",
      "=> Saving checkpoint\n",
      "=> Saving checkpoint\n",
      "Trainig duration: 4:46:32.336699\n",
      "model: pggan_roi_adeno_epochs_30_30_50_50_75_alpha_0.75_bs_64_64_64_32_32_affn_trns_only\n",
      "alpha_mul: 0.75\n",
      "seed: 42\n",
      "epochs: 30_30_50_50_75\n",
      "hist_type: adeno\n",
      "lr: 0.001\n",
      "aug: only_affine\n",
      "bs: [64, 64, 64, 32, 32]\n",
      "training_time: 4:46:32.336699\n"
     ]
    }
   ],
   "source": [
    "## df = pd.DataFrame(columns=['model', 'alpha_mul', 'seed', 'epochs', 'hist_type', 'lr','aug', 'bs'])\n",
    "# df.to_csv('gan_logging.csv', index=False)\n",
    "\n",
    "# Treinamento do modelo com bons resultados para tipo escamoso\n",
    "columns=['model', 'alpha_mul', 'seed', 'epochs', 'hist_type', 'lr','aug', 'bs', 'training_time']\n",
    "\n",
    "ALPHA_MUL = 1\n",
    "SEED = 42\n",
    "\n",
    "seed_everything(seed=SEED)\n",
    "for LUNG_CANCER_TYPE in ['adeno', 'squamous']:\n",
    "    for BATCH_SIZES in [[64, 64, 64, 32, 32]]:\n",
    "        for PROGRESSIVE_EPOCHS in [[30, 30, 50, 50, 75]]:\n",
    "            print(f'Training for {LUNG_CANCER_TYPE}')\n",
    "            bs_str = '_'.join(map(str, BATCH_SIZES))\n",
    "            pg_epochs = '_'.join(map(str, PROGRESSIVE_EPOCHS))\n",
    "            MODEL_NAME = f'pggan_roi_{LUNG_CANCER_TYPE}_epochs_{pg_epochs}_alpha_{ALPHA_MUL}_bs_{bs_str}_affn_trns_only'\n",
    "            CHECKPOINT_GEN = f\"generator_{MODEL_NAME}.pth.tar\"\n",
    "            CHECKPOINT_CRITIC = f\"critic_{MODEL_NAME}.pth.tar\"\n",
    "            TRAIN_DIR = f\"/Storage/PauloOctavioDir/nodule_rois/gan/{LUNG_CANCER_TYPE}/images\"\n",
    "            START_TRAIN_AT_IMG_SIZE = 4\n",
    "            training_time = main()\n",
    "            df_data = [\n",
    "                MODEL_NAME, str(ALPHA_MUL), str(SEED), str(pg_epochs),\n",
    "                LUNG_CANCER_TYPE, str(LEARNING_RATE), 'only_affine',\n",
    "                BATCH_SIZES, training_time\n",
    "            ]\n",
    "            for col, val in zip(columns, df_data):\n",
    "                print(f\"{col}: {val}\")\n",
    "            df = pd.read_csv('gan_logging.csv')\n",
    "            df.loc[len(df)] = df_data\n",
    "            df.to_csv('gan_logging.csv', index=False)"
   ]
  },
  {
   "cell_type": "code",
   "execution_count": null,
   "id": "367722b2",
   "metadata": {},
   "outputs": [
    {
     "name": "stdout",
     "output_type": "stream",
     "text": [
      "Training for squamous\n",
      "Model name: pggan_roi_squamous_epochs_30_alpha_0.75_bs_64_64_64_32_32_affn_trns_only\n",
      "Started training...\n"
     ]
    },
    {
     "name": "stderr",
     "output_type": "stream",
     "text": [
      "100%|██████████| 67/67 [00:04<00:00, 14.29it/s, gp=0.08, loss_critic=-.991]  \n"
     ]
    },
    {
     "name": "stdout",
     "output_type": "stream",
     "text": [
      "Epoch [1/30] Global Epoch:1 - Epoch training time: 0:00:04.690767 - Current image size: 4 \n"
     ]
    },
    {
     "name": "stderr",
     "output_type": "stream",
     "text": [
      "100%|██████████| 67/67 [00:03<00:00, 19.79it/s, gp=0.0292, loss_critic=-.467]\n"
     ]
    },
    {
     "name": "stdout",
     "output_type": "stream",
     "text": [
      "Epoch [2/30] Global Epoch:2 - Epoch training time: 0:00:03.387557 - Current image size: 4 \n"
     ]
    },
    {
     "name": "stderr",
     "output_type": "stream",
     "text": [
      "100%|██████████| 67/67 [00:04<00:00, 15.53it/s, gp=0.0171, loss_critic=-.355]\n"
     ]
    },
    {
     "name": "stdout",
     "output_type": "stream",
     "text": [
      "Epoch [3/30] Global Epoch:3 - Epoch training time: 0:00:04.316999 - Current image size: 4 \n"
     ]
    },
    {
     "name": "stderr",
     "output_type": "stream",
     "text": [
      "100%|██████████| 67/67 [00:04<00:00, 15.50it/s, gp=0.0176, loss_critic=-.112] \n"
     ]
    },
    {
     "name": "stdout",
     "output_type": "stream",
     "text": [
      "Epoch [4/30] Global Epoch:4 - Epoch training time: 0:00:04.323938 - Current image size: 4 \n"
     ]
    },
    {
     "name": "stderr",
     "output_type": "stream",
     "text": [
      "100%|██████████| 67/67 [00:04<00:00, 15.48it/s, gp=0.0273, loss_critic=0.111]  \n"
     ]
    },
    {
     "name": "stdout",
     "output_type": "stream",
     "text": [
      "Epoch [5/30] Global Epoch:5 - Epoch training time: 0:00:04.330001 - Current image size: 4 \n"
     ]
    },
    {
     "name": "stderr",
     "output_type": "stream",
     "text": [
      "100%|██████████| 67/67 [00:04<00:00, 15.55it/s, gp=0.0185, loss_critic=0.0106] \n"
     ]
    },
    {
     "name": "stdout",
     "output_type": "stream",
     "text": [
      "Epoch [6/30] Global Epoch:6 - Epoch training time: 0:00:04.310096 - Current image size: 4 \n"
     ]
    },
    {
     "name": "stderr",
     "output_type": "stream",
     "text": [
      "100%|██████████| 67/67 [00:04<00:00, 15.43it/s, gp=0.0212, loss_critic=0.094]  \n"
     ]
    },
    {
     "name": "stdout",
     "output_type": "stream",
     "text": [
      "Epoch [7/30] Global Epoch:7 - Epoch training time: 0:00:04.344780 - Current image size: 4 \n"
     ]
    },
    {
     "name": "stderr",
     "output_type": "stream",
     "text": [
      "100%|██████████| 67/67 [00:04<00:00, 15.37it/s, gp=0.0172, loss_critic=0.0246]  \n"
     ]
    },
    {
     "name": "stdout",
     "output_type": "stream",
     "text": [
      "Epoch [8/30] Global Epoch:8 - Epoch training time: 0:00:04.361831 - Current image size: 4 \n"
     ]
    },
    {
     "name": "stderr",
     "output_type": "stream",
     "text": [
      "100%|██████████| 67/67 [00:04<00:00, 15.60it/s, gp=0.0192, loss_critic=0.00404]\n"
     ]
    },
    {
     "name": "stdout",
     "output_type": "stream",
     "text": [
      "Epoch [9/30] Global Epoch:9 - Epoch training time: 0:00:04.297482 - Current image size: 4 \n"
     ]
    },
    {
     "name": "stderr",
     "output_type": "stream",
     "text": [
      "100%|██████████| 67/67 [00:04<00:00, 15.62it/s, gp=0.0148, loss_critic=0.00628]\n"
     ]
    },
    {
     "name": "stdout",
     "output_type": "stream",
     "text": [
      "Epoch [10/30] Global Epoch:10 - Epoch training time: 0:00:04.292688 - Current image size: 4 \n"
     ]
    },
    {
     "name": "stderr",
     "output_type": "stream",
     "text": [
      "100%|██████████| 67/67 [00:04<00:00, 15.51it/s, gp=0.0333, loss_critic=0.12]   \n"
     ]
    },
    {
     "name": "stdout",
     "output_type": "stream",
     "text": [
      "Epoch [11/30] Global Epoch:11 - Epoch training time: 0:00:04.321202 - Current image size: 4 \n"
     ]
    },
    {
     "name": "stderr",
     "output_type": "stream",
     "text": [
      "100%|██████████| 67/67 [00:03<00:00, 19.25it/s, gp=0.0188, loss_critic=-.071]  \n"
     ]
    },
    {
     "name": "stdout",
     "output_type": "stream",
     "text": [
      "Epoch [12/30] Global Epoch:12 - Epoch training time: 0:00:03.482785 - Current image size: 4 \n"
     ]
    },
    {
     "name": "stderr",
     "output_type": "stream",
     "text": [
      "100%|██████████| 67/67 [00:04<00:00, 15.73it/s, gp=0.0153, loss_critic=-.00666] \n"
     ]
    },
    {
     "name": "stdout",
     "output_type": "stream",
     "text": [
      "Epoch [13/30] Global Epoch:13 - Epoch training time: 0:00:04.261635 - Current image size: 4 \n"
     ]
    },
    {
     "name": "stderr",
     "output_type": "stream",
     "text": [
      "100%|██████████| 67/67 [00:04<00:00, 15.54it/s, gp=0.0127, loss_critic=0.0111] \n"
     ]
    },
    {
     "name": "stdout",
     "output_type": "stream",
     "text": [
      "Epoch [14/30] Global Epoch:14 - Epoch training time: 0:00:04.314554 - Current image size: 4 \n"
     ]
    },
    {
     "name": "stderr",
     "output_type": "stream",
     "text": [
      "100%|██████████| 67/67 [00:04<00:00, 14.40it/s, gp=0.0104, loss_critic=-.0872]  \n"
     ]
    },
    {
     "name": "stdout",
     "output_type": "stream",
     "text": [
      "Epoch [15/30] Global Epoch:15 - Epoch training time: 0:00:04.654080 - Current image size: 4 \n"
     ]
    },
    {
     "name": "stderr",
     "output_type": "stream",
     "text": [
      "100%|██████████| 67/67 [00:04<00:00, 15.49it/s, gp=0.0164, loss_critic=-.0494] \n"
     ]
    },
    {
     "name": "stdout",
     "output_type": "stream",
     "text": [
      "Epoch [16/30] Global Epoch:16 - Epoch training time: 0:00:04.328820 - Current image size: 4 \n"
     ]
    },
    {
     "name": "stderr",
     "output_type": "stream",
     "text": [
      "100%|██████████| 67/67 [00:04<00:00, 15.56it/s, gp=0.0182, loss_critic=-.0438] \n"
     ]
    },
    {
     "name": "stdout",
     "output_type": "stream",
     "text": [
      "Epoch [17/30] Global Epoch:17 - Epoch training time: 0:00:04.307445 - Current image size: 4 \n"
     ]
    },
    {
     "name": "stderr",
     "output_type": "stream",
     "text": [
      "100%|██████████| 67/67 [00:04<00:00, 15.51it/s, gp=0.0155, loss_critic=-.0196] \n"
     ]
    },
    {
     "name": "stdout",
     "output_type": "stream",
     "text": [
      "Epoch [18/30] Global Epoch:18 - Epoch training time: 0:00:04.322345 - Current image size: 4 \n"
     ]
    },
    {
     "name": "stderr",
     "output_type": "stream",
     "text": [
      "100%|██████████| 67/67 [00:04<00:00, 15.45it/s, gp=0.0168, loss_critic=0.00638]\n"
     ]
    },
    {
     "name": "stdout",
     "output_type": "stream",
     "text": [
      "Epoch [19/30] Global Epoch:19 - Epoch training time: 0:00:04.338331 - Current image size: 4 \n"
     ]
    },
    {
     "name": "stderr",
     "output_type": "stream",
     "text": [
      "100%|██████████| 67/67 [00:04<00:00, 15.34it/s, gp=0.0393, loss_critic=0.297]  \n"
     ]
    },
    {
     "name": "stdout",
     "output_type": "stream",
     "text": [
      "Epoch [20/30] Global Epoch:20 - Epoch training time: 0:00:04.369384 - Current image size: 4 \n"
     ]
    },
    {
     "name": "stderr",
     "output_type": "stream",
     "text": [
      "100%|██████████| 67/67 [00:04<00:00, 15.52it/s, gp=0.00829, loss_critic=-.0066]\n"
     ]
    },
    {
     "name": "stdout",
     "output_type": "stream",
     "text": [
      "Epoch [21/30] Global Epoch:21 - Epoch training time: 0:00:04.318102 - Current image size: 4 \n"
     ]
    },
    {
     "name": "stderr",
     "output_type": "stream",
     "text": [
      "100%|██████████| 67/67 [00:04<00:00, 16.03it/s, gp=0.00498, loss_critic=-.0315]  \n"
     ]
    },
    {
     "name": "stdout",
     "output_type": "stream",
     "text": [
      "Epoch [22/30] Global Epoch:22 - Epoch training time: 0:00:04.181723 - Current image size: 4 \n"
     ]
    },
    {
     "name": "stderr",
     "output_type": "stream",
     "text": [
      "100%|██████████| 67/67 [00:03<00:00, 18.49it/s, gp=0.0107, loss_critic=0.034]   \n"
     ]
    },
    {
     "name": "stdout",
     "output_type": "stream",
     "text": [
      "Epoch [23/30] Global Epoch:23 - Epoch training time: 0:00:03.625774 - Current image size: 4 \n"
     ]
    },
    {
     "name": "stderr",
     "output_type": "stream",
     "text": [
      "100%|██████████| 67/67 [00:04<00:00, 15.47it/s, gp=0.0101, loss_critic=0.0467]  \n"
     ]
    },
    {
     "name": "stdout",
     "output_type": "stream",
     "text": [
      "Epoch [24/30] Global Epoch:24 - Epoch training time: 0:00:04.333825 - Current image size: 4 \n"
     ]
    },
    {
     "name": "stderr",
     "output_type": "stream",
     "text": [
      "100%|██████████| 67/67 [00:04<00:00, 15.59it/s, gp=0.00629, loss_critic=0.0178] \n"
     ]
    },
    {
     "name": "stdout",
     "output_type": "stream",
     "text": [
      "Epoch [25/30] Global Epoch:25 - Epoch training time: 0:00:04.298753 - Current image size: 4 \n"
     ]
    },
    {
     "name": "stderr",
     "output_type": "stream",
     "text": [
      "100%|██████████| 67/67 [00:04<00:00, 15.55it/s, gp=0.018, loss_critic=0.157]     \n"
     ]
    },
    {
     "name": "stdout",
     "output_type": "stream",
     "text": [
      "Epoch [26/30] Global Epoch:26 - Epoch training time: 0:00:04.310608 - Current image size: 4 \n"
     ]
    },
    {
     "name": "stderr",
     "output_type": "stream",
     "text": [
      "100%|██████████| 67/67 [00:04<00:00, 15.48it/s, gp=0.0128, loss_critic=0.173]  \n"
     ]
    },
    {
     "name": "stdout",
     "output_type": "stream",
     "text": [
      "Epoch [27/30] Global Epoch:27 - Epoch training time: 0:00:04.331431 - Current image size: 4 \n"
     ]
    },
    {
     "name": "stderr",
     "output_type": "stream",
     "text": [
      "100%|██████████| 67/67 [00:04<00:00, 15.27it/s, gp=0.0144, loss_critic=0.103]   \n"
     ]
    },
    {
     "name": "stdout",
     "output_type": "stream",
     "text": [
      "Epoch [28/30] Global Epoch:28 - Epoch training time: 0:00:04.390625 - Current image size: 4 \n"
     ]
    },
    {
     "name": "stderr",
     "output_type": "stream",
     "text": [
      "100%|██████████| 67/67 [00:04<00:00, 15.54it/s, gp=0.0191, loss_critic=0.232]  \n"
     ]
    },
    {
     "name": "stdout",
     "output_type": "stream",
     "text": [
      "Epoch [29/30] Global Epoch:29 - Epoch training time: 0:00:04.312547 - Current image size: 4 \n"
     ]
    },
    {
     "name": "stderr",
     "output_type": "stream",
     "text": [
      "100%|██████████| 67/67 [00:04<00:00, 14.35it/s, gp=0.0143, loss_critic=0.111]  \n"
     ]
    },
    {
     "name": "stdout",
     "output_type": "stream",
     "text": [
      "Epoch [30/30] Global Epoch:30 - Epoch training time: 0:00:04.671016 - Current image size: 4 \n",
      "=> Saving checkpoint\n",
      "=> Saving checkpoint\n"
     ]
    },
    {
     "name": "stderr",
     "output_type": "stream",
     "text": [
      "100%|██████████| 67/67 [00:11<00:00,  5.82it/s, gp=0.00616, loss_critic=-.158] \n"
     ]
    },
    {
     "name": "stdout",
     "output_type": "stream",
     "text": [
      "Epoch [1/30] Global Epoch:31 - Epoch training time: 0:00:11.510073 - Current image size: 8 \n"
     ]
    },
    {
     "name": "stderr",
     "output_type": "stream",
     "text": [
      "100%|██████████| 67/67 [00:11<00:00,  6.03it/s, gp=0.00597, loss_critic=-.253] \n"
     ]
    },
    {
     "name": "stdout",
     "output_type": "stream",
     "text": [
      "Epoch [2/30] Global Epoch:32 - Epoch training time: 0:00:11.106422 - Current image size: 8 \n"
     ]
    },
    {
     "name": "stderr",
     "output_type": "stream",
     "text": [
      "100%|██████████| 67/67 [00:11<00:00,  5.71it/s, gp=0.0228, loss_critic=-.0106] \n"
     ]
    },
    {
     "name": "stdout",
     "output_type": "stream",
     "text": [
      "Epoch [3/30] Global Epoch:33 - Epoch training time: 0:00:11.739034 - Current image size: 8 \n"
     ]
    },
    {
     "name": "stderr",
     "output_type": "stream",
     "text": [
      "100%|██████████| 67/67 [00:11<00:00,  5.70it/s, gp=0.00649, loss_critic=-.318] \n"
     ]
    },
    {
     "name": "stdout",
     "output_type": "stream",
     "text": [
      "Epoch [4/30] Global Epoch:34 - Epoch training time: 0:00:11.766323 - Current image size: 8 \n"
     ]
    },
    {
     "name": "stderr",
     "output_type": "stream",
     "text": [
      "100%|██████████| 67/67 [00:11<00:00,  5.71it/s, gp=0.00554, loss_critic=-.147] \n"
     ]
    },
    {
     "name": "stdout",
     "output_type": "stream",
     "text": [
      "Epoch [5/30] Global Epoch:35 - Epoch training time: 0:00:11.735833 - Current image size: 8 \n"
     ]
    },
    {
     "name": "stderr",
     "output_type": "stream",
     "text": [
      "100%|██████████| 67/67 [00:10<00:00,  6.61it/s, gp=0.0105, loss_critic=-.0853]  \n"
     ]
    },
    {
     "name": "stdout",
     "output_type": "stream",
     "text": [
      "Epoch [6/30] Global Epoch:36 - Epoch training time: 0:00:10.131346 - Current image size: 8 \n"
     ]
    },
    {
     "name": "stderr",
     "output_type": "stream",
     "text": [
      "100%|██████████| 67/67 [00:11<00:00,  5.69it/s, gp=0.0217, loss_critic=0.0443]  \n"
     ]
    },
    {
     "name": "stdout",
     "output_type": "stream",
     "text": [
      "Epoch [7/30] Global Epoch:37 - Epoch training time: 0:00:11.777383 - Current image size: 8 \n"
     ]
    },
    {
     "name": "stderr",
     "output_type": "stream",
     "text": [
      "100%|██████████| 67/67 [00:11<00:00,  5.71it/s, gp=0.00908, loss_critic=0.017]   \n"
     ]
    },
    {
     "name": "stdout",
     "output_type": "stream",
     "text": [
      "Epoch [8/30] Global Epoch:38 - Epoch training time: 0:00:11.737226 - Current image size: 8 \n"
     ]
    },
    {
     "name": "stderr",
     "output_type": "stream",
     "text": [
      "100%|██████████| 67/67 [00:11<00:00,  5.69it/s, gp=0.0197, loss_critic=0.0221]  \n"
     ]
    },
    {
     "name": "stdout",
     "output_type": "stream",
     "text": [
      "Epoch [9/30] Global Epoch:39 - Epoch training time: 0:00:11.784131 - Current image size: 8 \n"
     ]
    },
    {
     "name": "stderr",
     "output_type": "stream",
     "text": [
      "100%|██████████| 67/67 [00:11<00:00,  5.70it/s, gp=0.0123, loss_critic=-.0897]  \n"
     ]
    },
    {
     "name": "stdout",
     "output_type": "stream",
     "text": [
      "Epoch [10/30] Global Epoch:40 - Epoch training time: 0:00:11.760548 - Current image size: 8 \n"
     ]
    },
    {
     "name": "stderr",
     "output_type": "stream",
     "text": [
      "100%|██████████| 67/67 [00:10<00:00,  6.43it/s, gp=0.00696, loss_critic=0.0721]\n"
     ]
    },
    {
     "name": "stdout",
     "output_type": "stream",
     "text": [
      "Epoch [11/30] Global Epoch:41 - Epoch training time: 0:00:10.420593 - Current image size: 8 \n"
     ]
    },
    {
     "name": "stderr",
     "output_type": "stream",
     "text": [
      "100%|██████████| 67/67 [00:11<00:00,  5.69it/s, gp=0.0246, loss_critic=0.365]   \n"
     ]
    },
    {
     "name": "stdout",
     "output_type": "stream",
     "text": [
      "Epoch [12/30] Global Epoch:42 - Epoch training time: 0:00:11.775165 - Current image size: 8 \n"
     ]
    },
    {
     "name": "stderr",
     "output_type": "stream",
     "text": [
      "100%|██████████| 67/67 [00:11<00:00,  5.67it/s, gp=0.0053, loss_critic=-.0539]  \n"
     ]
    },
    {
     "name": "stdout",
     "output_type": "stream",
     "text": [
      "Epoch [13/30] Global Epoch:43 - Epoch training time: 0:00:11.811864 - Current image size: 8 \n"
     ]
    },
    {
     "name": "stderr",
     "output_type": "stream",
     "text": [
      "100%|██████████| 67/67 [00:11<00:00,  5.70it/s, gp=0.00773, loss_critic=0.133]  \n"
     ]
    },
    {
     "name": "stdout",
     "output_type": "stream",
     "text": [
      "Epoch [14/30] Global Epoch:44 - Epoch training time: 0:00:11.764439 - Current image size: 8 \n"
     ]
    },
    {
     "name": "stderr",
     "output_type": "stream",
     "text": [
      "100%|██████████| 67/67 [00:11<00:00,  6.09it/s, gp=0.0124, loss_critic=0.0304]  \n"
     ]
    },
    {
     "name": "stdout",
     "output_type": "stream",
     "text": [
      "Epoch [15/30] Global Epoch:45 - Epoch training time: 0:00:11.011500 - Current image size: 8 \n"
     ]
    },
    {
     "name": "stderr",
     "output_type": "stream",
     "text": [
      "100%|██████████| 67/67 [00:11<00:00,  5.70it/s, gp=0.00808, loss_critic=-.00133]\n"
     ]
    },
    {
     "name": "stdout",
     "output_type": "stream",
     "text": [
      "Epoch [16/30] Global Epoch:46 - Epoch training time: 0:00:11.763194 - Current image size: 8 \n"
     ]
    },
    {
     "name": "stderr",
     "output_type": "stream",
     "text": [
      "100%|██████████| 67/67 [00:11<00:00,  5.69it/s, gp=0.0124, loss_critic=0.0412]   \n"
     ]
    },
    {
     "name": "stdout",
     "output_type": "stream",
     "text": [
      "Epoch [17/30] Global Epoch:47 - Epoch training time: 0:00:11.784265 - Current image size: 8 \n"
     ]
    },
    {
     "name": "stderr",
     "output_type": "stream",
     "text": [
      "100%|██████████| 67/67 [00:11<00:00,  5.68it/s, gp=0.00683, loss_critic=-.0498]  \n"
     ]
    },
    {
     "name": "stdout",
     "output_type": "stream",
     "text": [
      "Epoch [18/30] Global Epoch:48 - Epoch training time: 0:00:11.808203 - Current image size: 8 \n"
     ]
    },
    {
     "name": "stderr",
     "output_type": "stream",
     "text": [
      "100%|██████████| 67/67 [00:11<00:00,  5.68it/s, gp=0.00721, loss_critic=0.008]   \n"
     ]
    },
    {
     "name": "stdout",
     "output_type": "stream",
     "text": [
      "Epoch [19/30] Global Epoch:49 - Epoch training time: 0:00:11.790997 - Current image size: 8 \n"
     ]
    },
    {
     "name": "stderr",
     "output_type": "stream",
     "text": [
      "100%|██████████| 67/67 [00:10<00:00,  6.37it/s, gp=0.00595, loss_critic=-.0428] \n"
     ]
    },
    {
     "name": "stdout",
     "output_type": "stream",
     "text": [
      "Epoch [20/30] Global Epoch:50 - Epoch training time: 0:00:10.516674 - Current image size: 8 \n"
     ]
    },
    {
     "name": "stderr",
     "output_type": "stream",
     "text": [
      "100%|██████████| 67/67 [00:11<00:00,  5.68it/s, gp=0.0136, loss_critic=0.122]    \n"
     ]
    },
    {
     "name": "stdout",
     "output_type": "stream",
     "text": [
      "Epoch [21/30] Global Epoch:51 - Epoch training time: 0:00:11.795890 - Current image size: 8 \n"
     ]
    },
    {
     "name": "stderr",
     "output_type": "stream",
     "text": [
      "100%|██████████| 67/67 [00:11<00:00,  5.69it/s, gp=0.00652, loss_critic=0.00671]\n"
     ]
    },
    {
     "name": "stdout",
     "output_type": "stream",
     "text": [
      "Epoch [22/30] Global Epoch:52 - Epoch training time: 0:00:11.776999 - Current image size: 8 \n"
     ]
    },
    {
     "name": "stderr",
     "output_type": "stream",
     "text": [
      "100%|██████████| 67/67 [00:11<00:00,  5.67it/s, gp=0.0129, loss_critic=0.03]     \n"
     ]
    },
    {
     "name": "stdout",
     "output_type": "stream",
     "text": [
      "Epoch [23/30] Global Epoch:53 - Epoch training time: 0:00:11.813655 - Current image size: 8 \n"
     ]
    },
    {
     "name": "stderr",
     "output_type": "stream",
     "text": [
      "100%|██████████| 67/67 [00:11<00:00,  5.76it/s, gp=0.0114, loss_critic=0.137]   \n"
     ]
    },
    {
     "name": "stdout",
     "output_type": "stream",
     "text": [
      "Epoch [24/30] Global Epoch:54 - Epoch training time: 0:00:11.633033 - Current image size: 8 \n"
     ]
    },
    {
     "name": "stderr",
     "output_type": "stream",
     "text": [
      "100%|██████████| 67/67 [00:11<00:00,  6.05it/s, gp=0.0104, loss_critic=0.138]    \n"
     ]
    },
    {
     "name": "stdout",
     "output_type": "stream",
     "text": [
      "Epoch [25/30] Global Epoch:55 - Epoch training time: 0:00:11.071103 - Current image size: 8 \n"
     ]
    },
    {
     "name": "stderr",
     "output_type": "stream",
     "text": [
      "100%|██████████| 67/67 [00:11<00:00,  5.68it/s, gp=0.0124, loss_critic=0.147]    \n"
     ]
    },
    {
     "name": "stdout",
     "output_type": "stream",
     "text": [
      "Epoch [26/30] Global Epoch:56 - Epoch training time: 0:00:11.796755 - Current image size: 8 \n"
     ]
    },
    {
     "name": "stderr",
     "output_type": "stream",
     "text": [
      "100%|██████████| 67/67 [00:11<00:00,  5.68it/s, gp=0.00745, loss_critic=0.00444]\n"
     ]
    },
    {
     "name": "stdout",
     "output_type": "stream",
     "text": [
      "Epoch [27/30] Global Epoch:57 - Epoch training time: 0:00:11.792030 - Current image size: 8 \n"
     ]
    },
    {
     "name": "stderr",
     "output_type": "stream",
     "text": [
      "100%|██████████| 67/67 [00:11<00:00,  5.66it/s, gp=0.00517, loss_critic=0.0559] \n"
     ]
    },
    {
     "name": "stdout",
     "output_type": "stream",
     "text": [
      "Epoch [28/30] Global Epoch:58 - Epoch training time: 0:00:11.836564 - Current image size: 8 \n"
     ]
    },
    {
     "name": "stderr",
     "output_type": "stream",
     "text": [
      "100%|██████████| 67/67 [00:10<00:00,  6.41it/s, gp=0.00758, loss_critic=0.101]   \n"
     ]
    },
    {
     "name": "stdout",
     "output_type": "stream",
     "text": [
      "Epoch [29/30] Global Epoch:59 - Epoch training time: 0:00:10.450983 - Current image size: 8 \n"
     ]
    },
    {
     "name": "stderr",
     "output_type": "stream",
     "text": [
      "100%|██████████| 67/67 [00:12<00:00,  5.54it/s, gp=0.0144, loss_critic=0.109]   \n"
     ]
    },
    {
     "name": "stdout",
     "output_type": "stream",
     "text": [
      "Epoch [30/30] Global Epoch:60 - Epoch training time: 0:00:12.087875 - Current image size: 8 \n",
      "=> Saving checkpoint\n",
      "=> Saving checkpoint\n"
     ]
    },
    {
     "name": "stderr",
     "output_type": "stream",
     "text": [
      "100%|██████████| 67/67 [00:37<00:00,  1.81it/s, gp=0.0108, loss_critic=0.202]  \n"
     ]
    },
    {
     "name": "stdout",
     "output_type": "stream",
     "text": [
      "Epoch [1/30] Global Epoch:61 - Epoch training time: 0:00:37.037884 - Current image size: 16 \n"
     ]
    },
    {
     "name": "stderr",
     "output_type": "stream",
     "text": [
      "100%|██████████| 67/67 [00:35<00:00,  1.87it/s, gp=0.00812, loss_critic=-.174] \n"
     ]
    },
    {
     "name": "stdout",
     "output_type": "stream",
     "text": [
      "Epoch [2/30] Global Epoch:62 - Epoch training time: 0:00:35.864634 - Current image size: 16 \n"
     ]
    },
    {
     "name": "stderr",
     "output_type": "stream",
     "text": [
      "100%|██████████| 67/67 [00:35<00:00,  1.86it/s, gp=0.0079, loss_critic=0.301]   \n"
     ]
    },
    {
     "name": "stdout",
     "output_type": "stream",
     "text": [
      "Epoch [3/30] Global Epoch:63 - Epoch training time: 0:00:35.968946 - Current image size: 16 \n"
     ]
    },
    {
     "name": "stderr",
     "output_type": "stream",
     "text": [
      "100%|██████████| 67/67 [00:37<00:00,  1.81it/s, gp=0.00777, loss_critic=-.222] \n"
     ]
    },
    {
     "name": "stdout",
     "output_type": "stream",
     "text": [
      "Epoch [4/30] Global Epoch:64 - Epoch training time: 0:00:37.109013 - Current image size: 16 \n"
     ]
    },
    {
     "name": "stderr",
     "output_type": "stream",
     "text": [
      "100%|██████████| 67/67 [00:35<00:00,  1.87it/s, gp=0.024, loss_critic=0.0263]  \n"
     ]
    },
    {
     "name": "stdout",
     "output_type": "stream",
     "text": [
      "Epoch [5/30] Global Epoch:65 - Epoch training time: 0:00:35.888084 - Current image size: 16 \n"
     ]
    },
    {
     "name": "stderr",
     "output_type": "stream",
     "text": [
      "100%|██████████| 67/67 [00:35<00:00,  1.87it/s, gp=0.0111, loss_critic=-.216]   \n"
     ]
    },
    {
     "name": "stdout",
     "output_type": "stream",
     "text": [
      "Epoch [6/30] Global Epoch:66 - Epoch training time: 0:00:35.780177 - Current image size: 16 \n"
     ]
    },
    {
     "name": "stderr",
     "output_type": "stream",
     "text": [
      "100%|██████████| 67/67 [00:37<00:00,  1.81it/s, gp=0.012, loss_critic=-.021]   \n"
     ]
    },
    {
     "name": "stdout",
     "output_type": "stream",
     "text": [
      "Epoch [7/30] Global Epoch:67 - Epoch training time: 0:00:37.048556 - Current image size: 16 \n"
     ]
    },
    {
     "name": "stderr",
     "output_type": "stream",
     "text": [
      "100%|██████████| 67/67 [00:35<00:00,  1.87it/s, gp=0.00611, loss_critic=-.091]  \n"
     ]
    },
    {
     "name": "stdout",
     "output_type": "stream",
     "text": [
      "Epoch [8/30] Global Epoch:68 - Epoch training time: 0:00:35.895796 - Current image size: 16 \n"
     ]
    },
    {
     "name": "stderr",
     "output_type": "stream",
     "text": [
      "100%|██████████| 67/67 [00:37<00:00,  1.81it/s, gp=0.00513, loss_critic=-.15]   \n"
     ]
    },
    {
     "name": "stdout",
     "output_type": "stream",
     "text": [
      "Epoch [9/30] Global Epoch:69 - Epoch training time: 0:00:37.026256 - Current image size: 16 \n"
     ]
    },
    {
     "name": "stderr",
     "output_type": "stream",
     "text": [
      "100%|██████████| 67/67 [00:35<00:00,  1.89it/s, gp=0.0115, loss_critic=-.0198]  \n"
     ]
    },
    {
     "name": "stdout",
     "output_type": "stream",
     "text": [
      "Epoch [10/30] Global Epoch:70 - Epoch training time: 0:00:35.476594 - Current image size: 16 \n"
     ]
    },
    {
     "name": "stderr",
     "output_type": "stream",
     "text": [
      "100%|██████████| 67/67 [00:35<00:00,  1.87it/s, gp=0.00458, loss_critic=-.0898] \n"
     ]
    },
    {
     "name": "stdout",
     "output_type": "stream",
     "text": [
      "Epoch [11/30] Global Epoch:71 - Epoch training time: 0:00:35.856434 - Current image size: 16 \n"
     ]
    },
    {
     "name": "stderr",
     "output_type": "stream",
     "text": [
      "100%|██████████| 67/67 [00:37<00:00,  1.81it/s, gp=0.00711, loss_critic=-.219]  \n"
     ]
    },
    {
     "name": "stdout",
     "output_type": "stream",
     "text": [
      "Epoch [12/30] Global Epoch:72 - Epoch training time: 0:00:37.020326 - Current image size: 16 \n"
     ]
    },
    {
     "name": "stderr",
     "output_type": "stream",
     "text": [
      "100%|██████████| 67/67 [00:35<00:00,  1.87it/s, gp=0.00769, loss_critic=-.129]  \n"
     ]
    },
    {
     "name": "stdout",
     "output_type": "stream",
     "text": [
      "Epoch [13/30] Global Epoch:73 - Epoch training time: 0:00:35.904360 - Current image size: 16 \n"
     ]
    },
    {
     "name": "stderr",
     "output_type": "stream",
     "text": [
      "100%|██████████| 67/67 [00:36<00:00,  1.84it/s, gp=0.0105, loss_critic=-.209]   \n"
     ]
    },
    {
     "name": "stdout",
     "output_type": "stream",
     "text": [
      "Epoch [14/30] Global Epoch:74 - Epoch training time: 0:00:36.411972 - Current image size: 16 \n"
     ]
    },
    {
     "name": "stderr",
     "output_type": "stream",
     "text": [
      "100%|██████████| 67/67 [00:37<00:00,  1.81it/s, gp=0.00485, loss_critic=-.0276] \n"
     ]
    },
    {
     "name": "stdout",
     "output_type": "stream",
     "text": [
      "Epoch [15/30] Global Epoch:75 - Epoch training time: 0:00:37.109203 - Current image size: 16 \n"
     ]
    },
    {
     "name": "stderr",
     "output_type": "stream",
     "text": [
      "100%|██████████| 67/67 [00:35<00:00,  1.86it/s, gp=0.00787, loss_critic=0.257]  \n"
     ]
    },
    {
     "name": "stdout",
     "output_type": "stream",
     "text": [
      "Epoch [16/30] Global Epoch:76 - Epoch training time: 0:00:35.949090 - Current image size: 16 \n"
     ]
    },
    {
     "name": "stderr",
     "output_type": "stream",
     "text": [
      "100%|██████████| 67/67 [00:36<00:00,  1.81it/s, gp=0.00734, loss_critic=-.174] \n"
     ]
    },
    {
     "name": "stdout",
     "output_type": "stream",
     "text": [
      "Epoch [17/30] Global Epoch:77 - Epoch training time: 0:00:36.998085 - Current image size: 16 \n"
     ]
    },
    {
     "name": "stderr",
     "output_type": "stream",
     "text": [
      "100%|██████████| 67/67 [00:35<00:00,  1.88it/s, gp=0.0141, loss_critic=-.0944]  \n"
     ]
    },
    {
     "name": "stdout",
     "output_type": "stream",
     "text": [
      "Epoch [18/30] Global Epoch:78 - Epoch training time: 0:00:35.696140 - Current image size: 16 \n"
     ]
    },
    {
     "name": "stderr",
     "output_type": "stream",
     "text": [
      "100%|██████████| 67/67 [00:35<00:00,  1.87it/s, gp=0.00566, loss_critic=-.0879] \n"
     ]
    },
    {
     "name": "stdout",
     "output_type": "stream",
     "text": [
      "Epoch [19/30] Global Epoch:79 - Epoch training time: 0:00:35.820173 - Current image size: 16 \n"
     ]
    },
    {
     "name": "stderr",
     "output_type": "stream",
     "text": [
      "100%|██████████| 67/67 [00:36<00:00,  1.81it/s, gp=0.00567, loss_critic=-.0687] \n"
     ]
    },
    {
     "name": "stdout",
     "output_type": "stream",
     "text": [
      "Epoch [20/30] Global Epoch:80 - Epoch training time: 0:00:36.996769 - Current image size: 16 \n"
     ]
    },
    {
     "name": "stderr",
     "output_type": "stream",
     "text": [
      "100%|██████████| 67/67 [00:35<00:00,  1.87it/s, gp=0.00568, loss_critic=0.0739] \n"
     ]
    },
    {
     "name": "stdout",
     "output_type": "stream",
     "text": [
      "Epoch [21/30] Global Epoch:81 - Epoch training time: 0:00:35.852572 - Current image size: 16 \n"
     ]
    },
    {
     "name": "stderr",
     "output_type": "stream",
     "text": [
      "100%|██████████| 67/67 [00:36<00:00,  1.82it/s, gp=0.00713, loss_critic=0.014]  \n"
     ]
    },
    {
     "name": "stdout",
     "output_type": "stream",
     "text": [
      "Epoch [22/30] Global Epoch:82 - Epoch training time: 0:00:36.737267 - Current image size: 16 \n"
     ]
    },
    {
     "name": "stderr",
     "output_type": "stream",
     "text": [
      "100%|██████████| 67/67 [00:36<00:00,  1.84it/s, gp=0.0112, loss_critic=0.017]    \n"
     ]
    },
    {
     "name": "stdout",
     "output_type": "stream",
     "text": [
      "Epoch [23/30] Global Epoch:83 - Epoch training time: 0:00:36.425792 - Current image size: 16 \n"
     ]
    },
    {
     "name": "stderr",
     "output_type": "stream",
     "text": [
      "100%|██████████| 67/67 [00:36<00:00,  1.86it/s, gp=0.00491, loss_critic=0.0982] \n"
     ]
    },
    {
     "name": "stdout",
     "output_type": "stream",
     "text": [
      "Epoch [24/30] Global Epoch:84 - Epoch training time: 0:00:36.021688 - Current image size: 16 \n"
     ]
    },
    {
     "name": "stderr",
     "output_type": "stream",
     "text": [
      "100%|██████████| 67/67 [00:37<00:00,  1.81it/s, gp=0.00618, loss_critic=-.301]  \n"
     ]
    },
    {
     "name": "stdout",
     "output_type": "stream",
     "text": [
      "Epoch [25/30] Global Epoch:85 - Epoch training time: 0:00:37.039490 - Current image size: 16 \n"
     ]
    },
    {
     "name": "stderr",
     "output_type": "stream",
     "text": [
      "100%|██████████| 67/67 [00:35<00:00,  1.87it/s, gp=0.00996, loss_critic=-.0187] \n"
     ]
    },
    {
     "name": "stdout",
     "output_type": "stream",
     "text": [
      "Epoch [26/30] Global Epoch:86 - Epoch training time: 0:00:35.896450 - Current image size: 16 \n"
     ]
    },
    {
     "name": "stderr",
     "output_type": "stream",
     "text": [
      "100%|██████████| 67/67 [00:35<00:00,  1.86it/s, gp=0.00389, loss_critic=-.0989] \n"
     ]
    },
    {
     "name": "stdout",
     "output_type": "stream",
     "text": [
      "Epoch [27/30] Global Epoch:87 - Epoch training time: 0:00:35.953173 - Current image size: 16 \n"
     ]
    },
    {
     "name": "stderr",
     "output_type": "stream",
     "text": [
      "100%|██████████| 67/67 [00:37<00:00,  1.80it/s, gp=0.00662, loss_critic=-.0309]  \n"
     ]
    },
    {
     "name": "stdout",
     "output_type": "stream",
     "text": [
      "Epoch [28/30] Global Epoch:88 - Epoch training time: 0:00:37.150545 - Current image size: 16 \n"
     ]
    },
    {
     "name": "stderr",
     "output_type": "stream",
     "text": [
      "100%|██████████| 67/67 [00:36<00:00,  1.86it/s, gp=0.0145, loss_critic=-.00994] \n"
     ]
    },
    {
     "name": "stdout",
     "output_type": "stream",
     "text": [
      "Epoch [29/30] Global Epoch:89 - Epoch training time: 0:00:36.047845 - Current image size: 16 \n"
     ]
    },
    {
     "name": "stderr",
     "output_type": "stream",
     "text": [
      "100%|██████████| 67/67 [00:37<00:00,  1.80it/s, gp=0.0104, loss_critic=0.265]   \n"
     ]
    },
    {
     "name": "stdout",
     "output_type": "stream",
     "text": [
      "Epoch [30/30] Global Epoch:90 - Epoch training time: 0:00:37.316092 - Current image size: 16 \n",
      "=> Saving checkpoint\n",
      "=> Saving checkpoint\n"
     ]
    },
    {
     "name": "stderr",
     "output_type": "stream",
     "text": [
      "100%|██████████| 134/134 [02:16<00:00,  1.02s/it, gp=0.0298, loss_critic=0.067]   \n"
     ]
    },
    {
     "name": "stdout",
     "output_type": "stream",
     "text": [
      "Epoch [1/30] Global Epoch:91 - Epoch training time: 0:02:16.859072 - Current image size: 32 \n"
     ]
    },
    {
     "name": "stderr",
     "output_type": "stream",
     "text": [
      "100%|██████████| 134/134 [02:17<00:00,  1.02s/it, gp=0.0101, loss_critic=-.77]    \n"
     ]
    },
    {
     "name": "stdout",
     "output_type": "stream",
     "text": [
      "Epoch [2/30] Global Epoch:92 - Epoch training time: 0:02:17.056369 - Current image size: 32 \n"
     ]
    },
    {
     "name": "stderr",
     "output_type": "stream",
     "text": [
      "100%|██████████| 134/134 [01:58<00:00,  1.13it/s, gp=0.00437, loss_critic=-.759] \n"
     ]
    },
    {
     "name": "stdout",
     "output_type": "stream",
     "text": [
      "Epoch [3/30] Global Epoch:93 - Epoch training time: 0:01:58.930125 - Current image size: 32 \n"
     ]
    },
    {
     "name": "stderr",
     "output_type": "stream",
     "text": [
      "100%|██████████| 134/134 [02:14<00:00,  1.01s/it, gp=0.00481, loss_critic=-.267] \n"
     ]
    },
    {
     "name": "stdout",
     "output_type": "stream",
     "text": [
      "Epoch [4/30] Global Epoch:94 - Epoch training time: 0:02:14.880887 - Current image size: 32 \n"
     ]
    },
    {
     "name": "stderr",
     "output_type": "stream",
     "text": [
      "100%|██████████| 134/134 [02:16<00:00,  1.02s/it, gp=0.00806, loss_critic=-.549] \n"
     ]
    },
    {
     "name": "stdout",
     "output_type": "stream",
     "text": [
      "Epoch [5/30] Global Epoch:95 - Epoch training time: 0:02:16.281127 - Current image size: 32 \n"
     ]
    },
    {
     "name": "stderr",
     "output_type": "stream",
     "text": [
      "100%|██████████| 134/134 [02:16<00:00,  1.02s/it, gp=0.00695, loss_critic=0.226] \n"
     ]
    },
    {
     "name": "stdout",
     "output_type": "stream",
     "text": [
      "Epoch [6/30] Global Epoch:96 - Epoch training time: 0:02:16.433345 - Current image size: 32 \n"
     ]
    },
    {
     "name": "stderr",
     "output_type": "stream",
     "text": [
      "100%|██████████| 134/134 [02:16<00:00,  1.02s/it, gp=0.0113, loss_critic=-.592] \n"
     ]
    },
    {
     "name": "stdout",
     "output_type": "stream",
     "text": [
      "Epoch [7/30] Global Epoch:97 - Epoch training time: 0:02:16.834229 - Current image size: 32 \n"
     ]
    },
    {
     "name": "stderr",
     "output_type": "stream",
     "text": [
      "100%|██████████| 134/134 [02:16<00:00,  1.02s/it, gp=0.00316, loss_critic=-.537] \n"
     ]
    },
    {
     "name": "stdout",
     "output_type": "stream",
     "text": [
      "Epoch [8/30] Global Epoch:98 - Epoch training time: 0:02:16.585148 - Current image size: 32 \n"
     ]
    },
    {
     "name": "stderr",
     "output_type": "stream",
     "text": [
      "100%|██████████| 134/134 [02:16<00:00,  1.02s/it, gp=0.00771, loss_critic=-.762] \n"
     ]
    },
    {
     "name": "stdout",
     "output_type": "stream",
     "text": [
      "Epoch [9/30] Global Epoch:99 - Epoch training time: 0:02:16.336878 - Current image size: 32 \n"
     ]
    },
    {
     "name": "stderr",
     "output_type": "stream",
     "text": [
      "100%|██████████| 134/134 [02:16<00:00,  1.02s/it, gp=0.0192, loss_critic=-.756]  \n"
     ]
    },
    {
     "name": "stdout",
     "output_type": "stream",
     "text": [
      "Epoch [10/30] Global Epoch:100 - Epoch training time: 0:02:16.800371 - Current image size: 32 \n"
     ]
    },
    {
     "name": "stderr",
     "output_type": "stream",
     "text": [
      "100%|██████████| 134/134 [02:17<00:00,  1.02s/it, gp=0.00469, loss_critic=0.00981]\n"
     ]
    },
    {
     "name": "stdout",
     "output_type": "stream",
     "text": [
      "Epoch [11/30] Global Epoch:101 - Epoch training time: 0:02:17.149141 - Current image size: 32 \n"
     ]
    },
    {
     "name": "stderr",
     "output_type": "stream",
     "text": [
      "100%|██████████| 134/134 [02:17<00:00,  1.02s/it, gp=0.0123, loss_critic=0.102] \n"
     ]
    },
    {
     "name": "stdout",
     "output_type": "stream",
     "text": [
      "Epoch [12/30] Global Epoch:102 - Epoch training time: 0:02:17.020111 - Current image size: 32 \n"
     ]
    },
    {
     "name": "stderr",
     "output_type": "stream",
     "text": [
      "100%|██████████| 134/134 [02:17<00:00,  1.02s/it, gp=0.00463, loss_critic=-.41]  \n"
     ]
    },
    {
     "name": "stdout",
     "output_type": "stream",
     "text": [
      "Epoch [13/30] Global Epoch:103 - Epoch training time: 0:02:17.229228 - Current image size: 32 \n"
     ]
    },
    {
     "name": "stderr",
     "output_type": "stream",
     "text": [
      "100%|██████████| 134/134 [02:16<00:00,  1.02s/it, gp=0.00657, loss_critic=-.49]  \n"
     ]
    },
    {
     "name": "stdout",
     "output_type": "stream",
     "text": [
      "Epoch [14/30] Global Epoch:104 - Epoch training time: 0:02:16.918767 - Current image size: 32 \n"
     ]
    },
    {
     "name": "stderr",
     "output_type": "stream",
     "text": [
      "100%|██████████| 134/134 [02:18<00:00,  1.03s/it, gp=0.006, loss_critic=-.214]    \n"
     ]
    },
    {
     "name": "stdout",
     "output_type": "stream",
     "text": [
      "Epoch [15/30] Global Epoch:105 - Epoch training time: 0:02:18.622714 - Current image size: 32 \n"
     ]
    },
    {
     "name": "stderr",
     "output_type": "stream",
     "text": [
      "100%|██████████| 134/134 [02:16<00:00,  1.02s/it, gp=0.00826, loss_critic=-.293] \n"
     ]
    },
    {
     "name": "stdout",
     "output_type": "stream",
     "text": [
      "Epoch [16/30] Global Epoch:106 - Epoch training time: 0:02:16.794138 - Current image size: 32 \n"
     ]
    },
    {
     "name": "stderr",
     "output_type": "stream",
     "text": [
      "100%|██████████| 134/134 [02:17<00:00,  1.02s/it, gp=0.00489, loss_critic=-.237] \n"
     ]
    },
    {
     "name": "stdout",
     "output_type": "stream",
     "text": [
      "Epoch [17/30] Global Epoch:107 - Epoch training time: 0:02:17.088970 - Current image size: 32 \n"
     ]
    },
    {
     "name": "stderr",
     "output_type": "stream",
     "text": [
      "100%|██████████| 134/134 [02:17<00:00,  1.02s/it, gp=0.00883, loss_critic=-.304]  \n"
     ]
    },
    {
     "name": "stdout",
     "output_type": "stream",
     "text": [
      "Epoch [18/30] Global Epoch:108 - Epoch training time: 0:02:17.180487 - Current image size: 32 \n"
     ]
    },
    {
     "name": "stderr",
     "output_type": "stream",
     "text": [
      "100%|██████████| 134/134 [02:17<00:00,  1.02s/it, gp=0.00712, loss_critic=-.136]  \n"
     ]
    },
    {
     "name": "stdout",
     "output_type": "stream",
     "text": [
      "Epoch [19/30] Global Epoch:109 - Epoch training time: 0:02:17.095314 - Current image size: 32 \n"
     ]
    },
    {
     "name": "stderr",
     "output_type": "stream",
     "text": [
      "100%|██████████| 134/134 [02:17<00:00,  1.02s/it, gp=0.00899, loss_critic=-.666]   \n"
     ]
    },
    {
     "name": "stdout",
     "output_type": "stream",
     "text": [
      "Epoch [20/30] Global Epoch:110 - Epoch training time: 0:02:17.184762 - Current image size: 32 \n"
     ]
    },
    {
     "name": "stderr",
     "output_type": "stream",
     "text": [
      "100%|██████████| 134/134 [02:16<00:00,  1.02s/it, gp=0.0101, loss_critic=-.477]   \n"
     ]
    },
    {
     "name": "stdout",
     "output_type": "stream",
     "text": [
      "Epoch [21/30] Global Epoch:111 - Epoch training time: 0:02:17.001595 - Current image size: 32 \n"
     ]
    },
    {
     "name": "stderr",
     "output_type": "stream",
     "text": [
      "100%|██████████| 134/134 [02:17<00:00,  1.02s/it, gp=0.00862, loss_critic=0.0138]  \n"
     ]
    },
    {
     "name": "stdout",
     "output_type": "stream",
     "text": [
      "Epoch [22/30] Global Epoch:112 - Epoch training time: 0:02:17.029601 - Current image size: 32 \n"
     ]
    },
    {
     "name": "stderr",
     "output_type": "stream",
     "text": [
      "100%|██████████| 134/134 [02:16<00:00,  1.02s/it, gp=0.00537, loss_critic=-.261]  \n"
     ]
    },
    {
     "name": "stdout",
     "output_type": "stream",
     "text": [
      "Epoch [23/30] Global Epoch:113 - Epoch training time: 0:02:16.933596 - Current image size: 32 \n"
     ]
    },
    {
     "name": "stderr",
     "output_type": "stream",
     "text": [
      "100%|██████████| 134/134 [02:17<00:00,  1.03s/it, gp=0.0104, loss_critic=0.305]  \n"
     ]
    },
    {
     "name": "stdout",
     "output_type": "stream",
     "text": [
      "Epoch [24/30] Global Epoch:114 - Epoch training time: 0:02:17.578263 - Current image size: 32 \n"
     ]
    },
    {
     "name": "stderr",
     "output_type": "stream",
     "text": [
      "100%|██████████| 134/134 [02:17<00:00,  1.02s/it, gp=0.0034, loss_critic=-.647] \n"
     ]
    },
    {
     "name": "stdout",
     "output_type": "stream",
     "text": [
      "Epoch [25/30] Global Epoch:115 - Epoch training time: 0:02:17.323364 - Current image size: 32 \n"
     ]
    },
    {
     "name": "stderr",
     "output_type": "stream",
     "text": [
      "100%|██████████| 134/134 [02:17<00:00,  1.02s/it, gp=0.0105, loss_critic=0.239]  \n"
     ]
    },
    {
     "name": "stdout",
     "output_type": "stream",
     "text": [
      "Epoch [26/30] Global Epoch:116 - Epoch training time: 0:02:17.219146 - Current image size: 32 \n"
     ]
    },
    {
     "name": "stderr",
     "output_type": "stream",
     "text": [
      "100%|██████████| 134/134 [02:16<00:00,  1.02s/it, gp=0.00805, loss_critic=-.588]  \n"
     ]
    },
    {
     "name": "stdout",
     "output_type": "stream",
     "text": [
      "Epoch [27/30] Global Epoch:117 - Epoch training time: 0:02:16.532258 - Current image size: 32 \n"
     ]
    },
    {
     "name": "stderr",
     "output_type": "stream",
     "text": [
      "100%|██████████| 134/134 [02:15<00:00,  1.01s/it, gp=0.012, loss_critic=0.0259]   \n"
     ]
    },
    {
     "name": "stdout",
     "output_type": "stream",
     "text": [
      "Epoch [28/30] Global Epoch:118 - Epoch training time: 0:02:15.813179 - Current image size: 32 \n"
     ]
    },
    {
     "name": "stderr",
     "output_type": "stream",
     "text": [
      "100%|██████████| 134/134 [02:16<00:00,  1.02s/it, gp=0.00498, loss_critic=0.143] \n"
     ]
    },
    {
     "name": "stdout",
     "output_type": "stream",
     "text": [
      "Epoch [29/30] Global Epoch:119 - Epoch training time: 0:02:16.782645 - Current image size: 32 \n"
     ]
    },
    {
     "name": "stderr",
     "output_type": "stream",
     "text": [
      "100%|██████████| 134/134 [02:18<00:00,  1.03s/it, gp=0.0127, loss_critic=-.582]   \n"
     ]
    },
    {
     "name": "stdout",
     "output_type": "stream",
     "text": [
      "Epoch [30/30] Global Epoch:120 - Epoch training time: 0:02:18.395017 - Current image size: 32 \n",
      "=> Saving checkpoint\n",
      "=> Saving checkpoint\n"
     ]
    },
    {
     "name": "stderr",
     "output_type": "stream",
     "text": [
      "100%|██████████| 134/134 [07:57<00:00,  3.56s/it, gp=0.0249, loss_critic=-1.08]  \n"
     ]
    },
    {
     "name": "stdout",
     "output_type": "stream",
     "text": [
      "Epoch [1/30] Global Epoch:121 - Epoch training time: 0:07:57.135505 - Current image size: 64 \n"
     ]
    },
    {
     "name": "stderr",
     "output_type": "stream",
     "text": [
      "100%|██████████| 134/134 [07:35<00:00,  3.40s/it, gp=0.00455, loss_critic=-.389] \n"
     ]
    },
    {
     "name": "stdout",
     "output_type": "stream",
     "text": [
      "Epoch [2/30] Global Epoch:122 - Epoch training time: 0:07:35.075358 - Current image size: 64 \n"
     ]
    },
    {
     "name": "stderr",
     "output_type": "stream",
     "text": [
      " 90%|█████████ | 121/134 [07:11<00:43,  3.38s/it, gp=0.00797, loss_critic=-1.41] "
     ]
    }
   ],
   "source": [
    "## df = pd.DataFrame(columns=['model', 'alpha_mul', 'seed', 'epochs', 'hist_type', 'lr','aug', 'bs'])\n",
    "# df.to_csv('gan_logging.csv', index=False)\n",
    "\n",
    "# Treinamento do modelo com bons resultados para tipo escamoso\n",
    "columns=['model', 'alpha_mul', 'seed', 'epochs', 'hist_type', 'lr','aug', 'bs', 'training_time']\n",
    "\n",
    "ALPHA_MUL = 1\n",
    "SEED = 42\n",
    "\n",
    "seed_everything(seed=SEED)\n",
    "for LUNG_CANCER_TYPE in ['adeno', 'squamous']:\n",
    "    for BATCH_SIZES in [[64, 64, 64, 32, 32]]:\n",
    "        for PROGRESSIVE_EPOCHS in [[50, 50, 50, 50, 50]]:\n",
    "            print(f'Training for {LUNG_CANCER_TYPE}')\n",
    "            bs_str = '_'.join(map(str, BATCH_SIZES))\n",
    "            pg_epochs = '_'.join(map(str, PROGRESSIVE_EPOCHS))\n",
    "            MODEL_NAME = f'pggan_roi_{LUNG_CANCER_TYPE}_epochs_{pg_epochs}_alpha_{ALPHA_MUL}_bs_{bs_str}_affn_trns_only'\n",
    "            CHECKPOINT_GEN = f\"generator_{MODEL_NAME}.pth.tar\"\n",
    "            CHECKPOINT_CRITIC = f\"critic_{MODEL_NAME}.pth.tar\"\n",
    "            TRAIN_DIR = f\"/Storage/PauloOctavioDir/nodule_rois/gan/{LUNG_CANCER_TYPE}/images\"\n",
    "            START_TRAIN_AT_IMG_SIZE = 4\n",
    "            training_time = main()\n",
    "            df_data = [\n",
    "                MODEL_NAME, str(ALPHA_MUL), str(SEED), str(pg_epochs),\n",
    "                LUNG_CANCER_TYPE, str(LEARNING_RATE), 'only_affine',\n",
    "                BATCH_SIZES, training_time\n",
    "            ]\n",
    "            for col, val in zip(columns, df_data):\n",
    "                print(f\"{col}: {val}\")\n",
    "            df = pd.read_csv('gan_logging.csv')\n",
    "            df.loc[len(df)] = df_data\n",
    "            df.to_csv('gan_logging.csv', index=False)"
   ]
  },
  {
   "cell_type": "code",
   "execution_count": 12,
   "id": "01bc66b7",
   "metadata": {},
   "outputs": [
    {
     "name": "stdout",
     "output_type": "stream",
     "text": [
      "Training for adeno\n",
      "Model name: pggan_roi_adeno_epochs_30_30_50_50_75_alpha_0.75_bs_64_64_64_32_32_affn_trns_only\n",
      "Started training...\n"
     ]
    },
    {
     "name": "stderr",
     "output_type": "stream",
     "text": [
      "100%|██████████| 51/51 [00:05<00:00,  8.85it/s, gp=0.0536, loss_critic=-1.78]\n"
     ]
    },
    {
     "name": "stdout",
     "output_type": "stream",
     "text": [
      "Epoch [1/30] Global Epoch:1 - Epoch training time: 0:00:05.769256 - Current image size: 4 \n"
     ]
    },
    {
     "name": "stderr",
     "output_type": "stream",
     "text": [
      "100%|██████████| 51/51 [00:03<00:00, 15.33it/s, gp=0.0255, loss_critic=-.847]\n"
     ]
    },
    {
     "name": "stdout",
     "output_type": "stream",
     "text": [
      "Epoch [2/30] Global Epoch:2 - Epoch training time: 0:00:03.328652 - Current image size: 4 \n"
     ]
    },
    {
     "name": "stderr",
     "output_type": "stream",
     "text": [
      "100%|██████████| 51/51 [00:02<00:00, 20.34it/s, gp=0.0238, loss_critic=-.45] \n"
     ]
    },
    {
     "name": "stdout",
     "output_type": "stream",
     "text": [
      "Epoch [3/30] Global Epoch:3 - Epoch training time: 0:00:02.509453 - Current image size: 4 \n"
     ]
    },
    {
     "name": "stderr",
     "output_type": "stream",
     "text": [
      "100%|██████████| 51/51 [00:03<00:00, 15.34it/s, gp=0.0112, loss_critic=-.244] \n"
     ]
    },
    {
     "name": "stdout",
     "output_type": "stream",
     "text": [
      "Epoch [4/30] Global Epoch:4 - Epoch training time: 0:00:03.326098 - Current image size: 4 \n"
     ]
    },
    {
     "name": "stderr",
     "output_type": "stream",
     "text": [
      "100%|██████████| 51/51 [00:03<00:00, 15.15it/s, gp=0.0279, loss_critic=-.0128]  \n"
     ]
    },
    {
     "name": "stdout",
     "output_type": "stream",
     "text": [
      "Epoch [5/30] Global Epoch:5 - Epoch training time: 0:00:03.367986 - Current image size: 4 \n"
     ]
    },
    {
     "name": "stderr",
     "output_type": "stream",
     "text": [
      "100%|██████████| 51/51 [00:03<00:00, 15.30it/s, gp=0.0255, loss_critic=0.0858] \n"
     ]
    },
    {
     "name": "stdout",
     "output_type": "stream",
     "text": [
      "Epoch [6/30] Global Epoch:6 - Epoch training time: 0:00:03.335396 - Current image size: 4 \n"
     ]
    },
    {
     "name": "stderr",
     "output_type": "stream",
     "text": [
      "100%|██████████| 51/51 [00:03<00:00, 15.22it/s, gp=0.0228, loss_critic=0.0805] \n"
     ]
    },
    {
     "name": "stdout",
     "output_type": "stream",
     "text": [
      "Epoch [7/30] Global Epoch:7 - Epoch training time: 0:00:03.353534 - Current image size: 4 \n"
     ]
    },
    {
     "name": "stderr",
     "output_type": "stream",
     "text": [
      "100%|██████████| 51/51 [00:03<00:00, 15.30it/s, gp=0.109, loss_critic=0.981]  \n"
     ]
    },
    {
     "name": "stdout",
     "output_type": "stream",
     "text": [
      "Epoch [8/30] Global Epoch:8 - Epoch training time: 0:00:03.335413 - Current image size: 4 \n"
     ]
    },
    {
     "name": "stderr",
     "output_type": "stream",
     "text": [
      "100%|██████████| 51/51 [00:03<00:00, 15.06it/s, gp=0.0744, loss_critic=0.56]   \n"
     ]
    },
    {
     "name": "stdout",
     "output_type": "stream",
     "text": [
      "Epoch [9/30] Global Epoch:9 - Epoch training time: 0:00:03.387843 - Current image size: 4 \n"
     ]
    },
    {
     "name": "stderr",
     "output_type": "stream",
     "text": [
      "100%|██████████| 51/51 [00:03<00:00, 15.23it/s, gp=0.0212, loss_critic=0.14]   \n"
     ]
    },
    {
     "name": "stdout",
     "output_type": "stream",
     "text": [
      "Epoch [10/30] Global Epoch:10 - Epoch training time: 0:00:03.351029 - Current image size: 4 \n"
     ]
    },
    {
     "name": "stderr",
     "output_type": "stream",
     "text": [
      "100%|██████████| 51/51 [00:03<00:00, 15.04it/s, gp=0.0743, loss_critic=0.677]  \n"
     ]
    },
    {
     "name": "stdout",
     "output_type": "stream",
     "text": [
      "Epoch [11/30] Global Epoch:11 - Epoch training time: 0:00:03.392830 - Current image size: 4 \n"
     ]
    },
    {
     "name": "stderr",
     "output_type": "stream",
     "text": [
      "100%|██████████| 51/51 [00:02<00:00, 17.03it/s, gp=0.02, loss_critic=0.219]    \n"
     ]
    },
    {
     "name": "stdout",
     "output_type": "stream",
     "text": [
      "Epoch [12/30] Global Epoch:12 - Epoch training time: 0:00:02.997530 - Current image size: 4 \n"
     ]
    },
    {
     "name": "stderr",
     "output_type": "stream",
     "text": [
      "100%|██████████| 51/51 [00:03<00:00, 16.75it/s, gp=0.125, loss_critic=1.03]   \n"
     ]
    },
    {
     "name": "stdout",
     "output_type": "stream",
     "text": [
      "Epoch [13/30] Global Epoch:13 - Epoch training time: 0:00:03.047540 - Current image size: 4 \n"
     ]
    },
    {
     "name": "stderr",
     "output_type": "stream",
     "text": [
      "100%|██████████| 51/51 [00:03<00:00, 15.28it/s, gp=0.0177, loss_critic=0.0176]\n"
     ]
    },
    {
     "name": "stdout",
     "output_type": "stream",
     "text": [
      "Epoch [14/30] Global Epoch:14 - Epoch training time: 0:00:03.339471 - Current image size: 4 \n"
     ]
    },
    {
     "name": "stderr",
     "output_type": "stream",
     "text": [
      "100%|██████████| 51/51 [00:03<00:00, 14.21it/s, gp=0.0322, loss_critic=0.16]   \n"
     ]
    },
    {
     "name": "stdout",
     "output_type": "stream",
     "text": [
      "Epoch [15/30] Global Epoch:15 - Epoch training time: 0:00:03.590732 - Current image size: 4 \n"
     ]
    },
    {
     "name": "stderr",
     "output_type": "stream",
     "text": [
      "100%|██████████| 51/51 [00:03<00:00, 15.31it/s, gp=0.0173, loss_critic=-.0948] \n"
     ]
    },
    {
     "name": "stdout",
     "output_type": "stream",
     "text": [
      "Epoch [16/30] Global Epoch:16 - Epoch training time: 0:00:03.333018 - Current image size: 4 \n"
     ]
    },
    {
     "name": "stderr",
     "output_type": "stream",
     "text": [
      "100%|██████████| 51/51 [00:03<00:00, 15.30it/s, gp=0.0289, loss_critic=0.0733] \n"
     ]
    },
    {
     "name": "stdout",
     "output_type": "stream",
     "text": [
      "Epoch [17/30] Global Epoch:17 - Epoch training time: 0:00:03.336199 - Current image size: 4 \n"
     ]
    },
    {
     "name": "stderr",
     "output_type": "stream",
     "text": [
      "100%|██████████| 51/51 [00:03<00:00, 15.21it/s, gp=0.0132, loss_critic=-.0706] \n"
     ]
    },
    {
     "name": "stdout",
     "output_type": "stream",
     "text": [
      "Epoch [18/30] Global Epoch:18 - Epoch training time: 0:00:03.355225 - Current image size: 4 \n"
     ]
    },
    {
     "name": "stderr",
     "output_type": "stream",
     "text": [
      "100%|██████████| 51/51 [00:03<00:00, 15.28it/s, gp=0.0145, loss_critic=-.128]  \n"
     ]
    },
    {
     "name": "stdout",
     "output_type": "stream",
     "text": [
      "Epoch [19/30] Global Epoch:19 - Epoch training time: 0:00:03.340099 - Current image size: 4 \n"
     ]
    },
    {
     "name": "stderr",
     "output_type": "stream",
     "text": [
      "100%|██████████| 51/51 [00:03<00:00, 15.32it/s, gp=0.0319, loss_critic=0.109]  \n"
     ]
    },
    {
     "name": "stdout",
     "output_type": "stream",
     "text": [
      "Epoch [20/30] Global Epoch:20 - Epoch training time: 0:00:03.331262 - Current image size: 4 \n"
     ]
    },
    {
     "name": "stderr",
     "output_type": "stream",
     "text": [
      "100%|██████████| 51/51 [00:03<00:00, 15.22it/s, gp=0.0153, loss_critic=-.0897]  \n"
     ]
    },
    {
     "name": "stdout",
     "output_type": "stream",
     "text": [
      "Epoch [21/30] Global Epoch:21 - Epoch training time: 0:00:03.353874 - Current image size: 4 \n"
     ]
    },
    {
     "name": "stderr",
     "output_type": "stream",
     "text": [
      "100%|██████████| 51/51 [00:02<00:00, 20.32it/s, gp=0.0222, loss_critic=0.0538] \n"
     ]
    },
    {
     "name": "stdout",
     "output_type": "stream",
     "text": [
      "Epoch [22/30] Global Epoch:22 - Epoch training time: 0:00:02.511930 - Current image size: 4 \n"
     ]
    },
    {
     "name": "stderr",
     "output_type": "stream",
     "text": [
      "100%|██████████| 51/51 [00:03<00:00, 15.24it/s, gp=0.0195, loss_critic=0.0182] \n"
     ]
    },
    {
     "name": "stdout",
     "output_type": "stream",
     "text": [
      "Epoch [23/30] Global Epoch:23 - Epoch training time: 0:00:03.348986 - Current image size: 4 \n"
     ]
    },
    {
     "name": "stderr",
     "output_type": "stream",
     "text": [
      "100%|██████████| 51/51 [00:03<00:00, 15.26it/s, gp=0.013, loss_critic=-.089]   \n"
     ]
    },
    {
     "name": "stdout",
     "output_type": "stream",
     "text": [
      "Epoch [24/30] Global Epoch:24 - Epoch training time: 0:00:03.344425 - Current image size: 4 \n"
     ]
    },
    {
     "name": "stderr",
     "output_type": "stream",
     "text": [
      "100%|██████████| 51/51 [00:03<00:00, 15.27it/s, gp=0.0123, loss_critic=-.0778] \n"
     ]
    },
    {
     "name": "stdout",
     "output_type": "stream",
     "text": [
      "Epoch [25/30] Global Epoch:25 - Epoch training time: 0:00:03.341446 - Current image size: 4 \n"
     ]
    },
    {
     "name": "stderr",
     "output_type": "stream",
     "text": [
      "100%|██████████| 51/51 [00:03<00:00, 15.36it/s, gp=0.0102, loss_critic=-.0707]  \n"
     ]
    },
    {
     "name": "stdout",
     "output_type": "stream",
     "text": [
      "Epoch [26/30] Global Epoch:26 - Epoch training time: 0:00:03.323132 - Current image size: 4 \n"
     ]
    },
    {
     "name": "stderr",
     "output_type": "stream",
     "text": [
      "100%|██████████| 51/51 [00:03<00:00, 15.14it/s, gp=0.0109, loss_critic=-.087]   \n"
     ]
    },
    {
     "name": "stdout",
     "output_type": "stream",
     "text": [
      "Epoch [27/30] Global Epoch:27 - Epoch training time: 0:00:03.370741 - Current image size: 4 \n"
     ]
    },
    {
     "name": "stderr",
     "output_type": "stream",
     "text": [
      "100%|██████████| 51/51 [00:03<00:00, 15.28it/s, gp=0.0117, loss_critic=0.0547]  \n"
     ]
    },
    {
     "name": "stdout",
     "output_type": "stream",
     "text": [
      "Epoch [28/30] Global Epoch:28 - Epoch training time: 0:00:03.340932 - Current image size: 4 \n"
     ]
    },
    {
     "name": "stderr",
     "output_type": "stream",
     "text": [
      "100%|██████████| 51/51 [00:03<00:00, 15.22it/s, gp=0.029, loss_critic=0.148]   \n"
     ]
    },
    {
     "name": "stdout",
     "output_type": "stream",
     "text": [
      "Epoch [29/30] Global Epoch:29 - Epoch training time: 0:00:03.352884 - Current image size: 4 \n"
     ]
    },
    {
     "name": "stderr",
     "output_type": "stream",
     "text": [
      "100%|██████████| 51/51 [00:03<00:00, 14.23it/s, gp=0.0106, loss_critic=-.0289] \n"
     ]
    },
    {
     "name": "stdout",
     "output_type": "stream",
     "text": [
      "Epoch [30/30] Global Epoch:30 - Epoch training time: 0:00:03.586888 - Current image size: 4 \n",
      "=> Saving checkpoint\n",
      "=> Saving checkpoint\n"
     ]
    },
    {
     "name": "stderr",
     "output_type": "stream",
     "text": [
      "100%|██████████| 51/51 [00:08<00:00,  6.34it/s, gp=0.0104, loss_critic=-.534] \n"
     ]
    },
    {
     "name": "stdout",
     "output_type": "stream",
     "text": [
      "Epoch [1/30] Global Epoch:31 - Epoch training time: 0:00:08.046129 - Current image size: 8 \n"
     ]
    },
    {
     "name": "stderr",
     "output_type": "stream",
     "text": [
      "100%|██████████| 51/51 [00:09<00:00,  5.65it/s, gp=0.00619, loss_critic=-.513] \n"
     ]
    },
    {
     "name": "stdout",
     "output_type": "stream",
     "text": [
      "Epoch [2/30] Global Epoch:32 - Epoch training time: 0:00:09.032617 - Current image size: 8 \n"
     ]
    },
    {
     "name": "stderr",
     "output_type": "stream",
     "text": [
      "100%|██████████| 51/51 [00:09<00:00,  5.66it/s, gp=0.00212, loss_critic=-.421] \n"
     ]
    },
    {
     "name": "stdout",
     "output_type": "stream",
     "text": [
      "Epoch [3/30] Global Epoch:33 - Epoch training time: 0:00:09.015291 - Current image size: 8 \n"
     ]
    },
    {
     "name": "stderr",
     "output_type": "stream",
     "text": [
      "100%|██████████| 51/51 [00:09<00:00,  5.64it/s, gp=0.00989, loss_critic=-.165] \n"
     ]
    },
    {
     "name": "stdout",
     "output_type": "stream",
     "text": [
      "Epoch [4/30] Global Epoch:34 - Epoch training time: 0:00:09.040623 - Current image size: 8 \n"
     ]
    },
    {
     "name": "stderr",
     "output_type": "stream",
     "text": [
      "100%|██████████| 51/51 [00:08<00:00,  6.26it/s, gp=0.00491, loss_critic=-.217] \n"
     ]
    },
    {
     "name": "stdout",
     "output_type": "stream",
     "text": [
      "Epoch [5/30] Global Epoch:35 - Epoch training time: 0:00:08.149539 - Current image size: 8 \n"
     ]
    },
    {
     "name": "stderr",
     "output_type": "stream",
     "text": [
      "100%|██████████| 51/51 [00:09<00:00,  5.65it/s, gp=0.00758, loss_critic=-.308]  \n"
     ]
    },
    {
     "name": "stdout",
     "output_type": "stream",
     "text": [
      "Epoch [6/30] Global Epoch:36 - Epoch training time: 0:00:09.036316 - Current image size: 8 \n"
     ]
    },
    {
     "name": "stderr",
     "output_type": "stream",
     "text": [
      "100%|██████████| 51/51 [00:09<00:00,  5.65it/s, gp=0.00719, loss_critic=-.0912]\n"
     ]
    },
    {
     "name": "stdout",
     "output_type": "stream",
     "text": [
      "Epoch [7/30] Global Epoch:37 - Epoch training time: 0:00:09.028533 - Current image size: 8 \n"
     ]
    },
    {
     "name": "stderr",
     "output_type": "stream",
     "text": [
      "100%|██████████| 51/51 [00:09<00:00,  5.64it/s, gp=0.0136, loss_critic=0.00137] \n"
     ]
    },
    {
     "name": "stdout",
     "output_type": "stream",
     "text": [
      "Epoch [8/30] Global Epoch:38 - Epoch training time: 0:00:09.044819 - Current image size: 8 \n"
     ]
    },
    {
     "name": "stderr",
     "output_type": "stream",
     "text": [
      "100%|██████████| 51/51 [00:08<00:00,  6.19it/s, gp=0.00913, loss_critic=-.106] \n"
     ]
    },
    {
     "name": "stdout",
     "output_type": "stream",
     "text": [
      "Epoch [9/30] Global Epoch:39 - Epoch training time: 0:00:08.240362 - Current image size: 8 \n"
     ]
    },
    {
     "name": "stderr",
     "output_type": "stream",
     "text": [
      "100%|██████████| 51/51 [00:09<00:00,  5.66it/s, gp=0.00807, loss_critic=-.235] \n"
     ]
    },
    {
     "name": "stdout",
     "output_type": "stream",
     "text": [
      "Epoch [10/30] Global Epoch:40 - Epoch training time: 0:00:09.019824 - Current image size: 8 \n"
     ]
    },
    {
     "name": "stderr",
     "output_type": "stream",
     "text": [
      "100%|██████████| 51/51 [00:09<00:00,  5.65it/s, gp=0.00892, loss_critic=-.0974]\n"
     ]
    },
    {
     "name": "stdout",
     "output_type": "stream",
     "text": [
      "Epoch [11/30] Global Epoch:41 - Epoch training time: 0:00:09.026427 - Current image size: 8 \n"
     ]
    },
    {
     "name": "stderr",
     "output_type": "stream",
     "text": [
      "100%|██████████| 51/51 [00:08<00:00,  5.67it/s, gp=0.00758, loss_critic=-.175] \n"
     ]
    },
    {
     "name": "stdout",
     "output_type": "stream",
     "text": [
      "Epoch [12/30] Global Epoch:42 - Epoch training time: 0:00:08.991828 - Current image size: 8 \n"
     ]
    },
    {
     "name": "stderr",
     "output_type": "stream",
     "text": [
      "100%|██████████| 51/51 [00:09<00:00,  5.66it/s, gp=0.00866, loss_critic=-.25]  \n"
     ]
    },
    {
     "name": "stdout",
     "output_type": "stream",
     "text": [
      "Epoch [13/30] Global Epoch:43 - Epoch training time: 0:00:09.013355 - Current image size: 8 \n"
     ]
    },
    {
     "name": "stderr",
     "output_type": "stream",
     "text": [
      "100%|██████████| 51/51 [00:08<00:00,  6.09it/s, gp=0.0136, loss_critic=-.109]  \n"
     ]
    },
    {
     "name": "stdout",
     "output_type": "stream",
     "text": [
      "Epoch [14/30] Global Epoch:44 - Epoch training time: 0:00:08.371368 - Current image size: 8 \n"
     ]
    },
    {
     "name": "stderr",
     "output_type": "stream",
     "text": [
      "100%|██████████| 51/51 [00:09<00:00,  5.52it/s, gp=0.0109, loss_critic=-.146]  \n"
     ]
    },
    {
     "name": "stdout",
     "output_type": "stream",
     "text": [
      "Epoch [15/30] Global Epoch:45 - Epoch training time: 0:00:09.237306 - Current image size: 8 \n"
     ]
    },
    {
     "name": "stderr",
     "output_type": "stream",
     "text": [
      "100%|██████████| 51/51 [00:09<00:00,  5.66it/s, gp=0.0144, loss_critic=0.0906] \n"
     ]
    },
    {
     "name": "stdout",
     "output_type": "stream",
     "text": [
      "Epoch [16/30] Global Epoch:46 - Epoch training time: 0:00:09.013138 - Current image size: 8 \n"
     ]
    },
    {
     "name": "stderr",
     "output_type": "stream",
     "text": [
      "100%|██████████| 51/51 [00:09<00:00,  5.66it/s, gp=0.0184, loss_critic=-.000451]\n"
     ]
    },
    {
     "name": "stdout",
     "output_type": "stream",
     "text": [
      "Epoch [17/30] Global Epoch:47 - Epoch training time: 0:00:09.009429 - Current image size: 8 \n"
     ]
    },
    {
     "name": "stderr",
     "output_type": "stream",
     "text": [
      "100%|██████████| 51/51 [00:08<00:00,  6.29it/s, gp=0.00688, loss_critic=-.0494]\n"
     ]
    },
    {
     "name": "stdout",
     "output_type": "stream",
     "text": [
      "Epoch [18/30] Global Epoch:48 - Epoch training time: 0:00:08.111897 - Current image size: 8 \n"
     ]
    },
    {
     "name": "stderr",
     "output_type": "stream",
     "text": [
      "100%|██████████| 51/51 [00:09<00:00,  5.66it/s, gp=0.0106, loss_critic=-.00821] \n"
     ]
    },
    {
     "name": "stdout",
     "output_type": "stream",
     "text": [
      "Epoch [19/30] Global Epoch:49 - Epoch training time: 0:00:09.008009 - Current image size: 8 \n"
     ]
    },
    {
     "name": "stderr",
     "output_type": "stream",
     "text": [
      "100%|██████████| 51/51 [00:09<00:00,  5.65it/s, gp=0.00658, loss_critic=-.016]  \n"
     ]
    },
    {
     "name": "stdout",
     "output_type": "stream",
     "text": [
      "Epoch [20/30] Global Epoch:50 - Epoch training time: 0:00:09.023287 - Current image size: 8 \n"
     ]
    },
    {
     "name": "stderr",
     "output_type": "stream",
     "text": [
      "100%|██████████| 51/51 [00:09<00:00,  5.63it/s, gp=0.013, loss_critic=0.029]    \n"
     ]
    },
    {
     "name": "stdout",
     "output_type": "stream",
     "text": [
      "Epoch [21/30] Global Epoch:51 - Epoch training time: 0:00:09.068274 - Current image size: 8 \n"
     ]
    },
    {
     "name": "stderr",
     "output_type": "stream",
     "text": [
      "100%|██████████| 51/51 [00:08<00:00,  6.21it/s, gp=0.00539, loss_critic=-.0937]  \n"
     ]
    },
    {
     "name": "stdout",
     "output_type": "stream",
     "text": [
      "Epoch [22/30] Global Epoch:52 - Epoch training time: 0:00:08.209921 - Current image size: 8 \n"
     ]
    },
    {
     "name": "stderr",
     "output_type": "stream",
     "text": [
      "100%|██████████| 51/51 [00:09<00:00,  5.64it/s, gp=0.0224, loss_critic=0.33]    \n"
     ]
    },
    {
     "name": "stdout",
     "output_type": "stream",
     "text": [
      "Epoch [23/30] Global Epoch:53 - Epoch training time: 0:00:09.049675 - Current image size: 8 \n"
     ]
    },
    {
     "name": "stderr",
     "output_type": "stream",
     "text": [
      "100%|██████████| 51/51 [00:09<00:00,  5.66it/s, gp=0.0111, loss_critic=0.0703]  \n"
     ]
    },
    {
     "name": "stdout",
     "output_type": "stream",
     "text": [
      "Epoch [24/30] Global Epoch:54 - Epoch training time: 0:00:09.019820 - Current image size: 8 \n"
     ]
    },
    {
     "name": "stderr",
     "output_type": "stream",
     "text": [
      "100%|██████████| 51/51 [00:09<00:00,  5.65it/s, gp=0.00937, loss_critic=-.00327]\n"
     ]
    },
    {
     "name": "stdout",
     "output_type": "stream",
     "text": [
      "Epoch [25/30] Global Epoch:55 - Epoch training time: 0:00:09.028752 - Current image size: 8 \n"
     ]
    },
    {
     "name": "stderr",
     "output_type": "stream",
     "text": [
      "100%|██████████| 51/51 [00:08<00:00,  6.31it/s, gp=0.00702, loss_critic=0.0446] \n"
     ]
    },
    {
     "name": "stdout",
     "output_type": "stream",
     "text": [
      "Epoch [26/30] Global Epoch:56 - Epoch training time: 0:00:08.078907 - Current image size: 8 \n"
     ]
    },
    {
     "name": "stderr",
     "output_type": "stream",
     "text": [
      "100%|██████████| 51/51 [00:09<00:00,  5.66it/s, gp=0.00633, loss_critic=0.034]  \n"
     ]
    },
    {
     "name": "stdout",
     "output_type": "stream",
     "text": [
      "Epoch [27/30] Global Epoch:57 - Epoch training time: 0:00:09.013030 - Current image size: 8 \n"
     ]
    },
    {
     "name": "stderr",
     "output_type": "stream",
     "text": [
      "100%|██████████| 51/51 [00:09<00:00,  5.64it/s, gp=0.0111, loss_critic=0.0499]  \n"
     ]
    },
    {
     "name": "stdout",
     "output_type": "stream",
     "text": [
      "Epoch [28/30] Global Epoch:58 - Epoch training time: 0:00:09.043085 - Current image size: 8 \n"
     ]
    },
    {
     "name": "stderr",
     "output_type": "stream",
     "text": [
      "100%|██████████| 51/51 [00:09<00:00,  5.66it/s, gp=0.0135, loss_critic=0.102]   \n"
     ]
    },
    {
     "name": "stdout",
     "output_type": "stream",
     "text": [
      "Epoch [29/30] Global Epoch:59 - Epoch training time: 0:00:09.015706 - Current image size: 8 \n"
     ]
    },
    {
     "name": "stderr",
     "output_type": "stream",
     "text": [
      "100%|██████████| 51/51 [00:08<00:00,  5.67it/s, gp=0.0044, loss_critic=0.072]   \n"
     ]
    },
    {
     "name": "stdout",
     "output_type": "stream",
     "text": [
      "Epoch [30/30] Global Epoch:60 - Epoch training time: 0:00:08.991852 - Current image size: 8 \n",
      "=> Saving checkpoint\n",
      "=> Saving checkpoint\n"
     ]
    },
    {
     "name": "stderr",
     "output_type": "stream",
     "text": [
      "100%|██████████| 51/51 [00:28<00:00,  1.80it/s, gp=0.0112, loss_critic=0.00362]  \n"
     ]
    },
    {
     "name": "stdout",
     "output_type": "stream",
     "text": [
      "Epoch [1/50] Global Epoch:61 - Epoch training time: 0:00:28.288495 - Current image size: 16 \n"
     ]
    },
    {
     "name": "stderr",
     "output_type": "stream",
     "text": [
      "100%|██████████| 51/51 [00:27<00:00,  1.86it/s, gp=0.0108, loss_critic=-.188]   \n"
     ]
    },
    {
     "name": "stdout",
     "output_type": "stream",
     "text": [
      "Epoch [2/50] Global Epoch:62 - Epoch training time: 0:00:27.413299 - Current image size: 16 \n"
     ]
    },
    {
     "name": "stderr",
     "output_type": "stream",
     "text": [
      "100%|██████████| 51/51 [00:27<00:00,  1.85it/s, gp=0.0153, loss_critic=-.228]  \n"
     ]
    },
    {
     "name": "stdout",
     "output_type": "stream",
     "text": [
      "Epoch [3/50] Global Epoch:63 - Epoch training time: 0:00:27.507954 - Current image size: 16 \n"
     ]
    },
    {
     "name": "stderr",
     "output_type": "stream",
     "text": [
      "100%|██████████| 51/51 [00:22<00:00,  2.28it/s, gp=0.00561, loss_critic=-.159]  \n"
     ]
    },
    {
     "name": "stdout",
     "output_type": "stream",
     "text": [
      "Epoch [4/50] Global Epoch:64 - Epoch training time: 0:00:22.324740 - Current image size: 16 \n"
     ]
    },
    {
     "name": "stderr",
     "output_type": "stream",
     "text": [
      "100%|██████████| 51/51 [00:23<00:00,  2.14it/s, gp=0.0104, loss_critic=-.226]  \n"
     ]
    },
    {
     "name": "stdout",
     "output_type": "stream",
     "text": [
      "Epoch [5/50] Global Epoch:65 - Epoch training time: 0:00:23.842046 - Current image size: 16 \n"
     ]
    },
    {
     "name": "stderr",
     "output_type": "stream",
     "text": [
      "100%|██████████| 51/51 [00:23<00:00,  2.14it/s, gp=0.0107, loss_critic=-.108]  \n"
     ]
    },
    {
     "name": "stdout",
     "output_type": "stream",
     "text": [
      "Epoch [6/50] Global Epoch:66 - Epoch training time: 0:00:23.824448 - Current image size: 16 \n"
     ]
    },
    {
     "name": "stderr",
     "output_type": "stream",
     "text": [
      "100%|██████████| 51/51 [00:23<00:00,  2.14it/s, gp=0.00796, loss_critic=-.326] \n"
     ]
    },
    {
     "name": "stdout",
     "output_type": "stream",
     "text": [
      "Epoch [7/50] Global Epoch:67 - Epoch training time: 0:00:23.814646 - Current image size: 16 \n"
     ]
    },
    {
     "name": "stderr",
     "output_type": "stream",
     "text": [
      "100%|██████████| 51/51 [00:24<00:00,  2.11it/s, gp=0.00961, loss_critic=-.228] \n"
     ]
    },
    {
     "name": "stdout",
     "output_type": "stream",
     "text": [
      "Epoch [8/50] Global Epoch:68 - Epoch training time: 0:00:24.139316 - Current image size: 16 \n"
     ]
    },
    {
     "name": "stderr",
     "output_type": "stream",
     "text": [
      "100%|██████████| 51/51 [00:24<00:00,  2.07it/s, gp=0.00704, loss_critic=-.181] \n"
     ]
    },
    {
     "name": "stdout",
     "output_type": "stream",
     "text": [
      "Epoch [9/50] Global Epoch:69 - Epoch training time: 0:00:24.583421 - Current image size: 16 \n"
     ]
    },
    {
     "name": "stderr",
     "output_type": "stream",
     "text": [
      "100%|██████████| 51/51 [00:23<00:00,  2.17it/s, gp=0.00736, loss_critic=-.231] \n"
     ]
    },
    {
     "name": "stdout",
     "output_type": "stream",
     "text": [
      "Epoch [10/50] Global Epoch:70 - Epoch training time: 0:00:23.535391 - Current image size: 16 \n"
     ]
    },
    {
     "name": "stderr",
     "output_type": "stream",
     "text": [
      "100%|██████████| 51/51 [00:28<00:00,  1.80it/s, gp=0.00874, loss_critic=-.214] \n"
     ]
    },
    {
     "name": "stdout",
     "output_type": "stream",
     "text": [
      "Epoch [11/50] Global Epoch:71 - Epoch training time: 0:00:28.355865 - Current image size: 16 \n"
     ]
    },
    {
     "name": "stderr",
     "output_type": "stream",
     "text": [
      "100%|██████████| 51/51 [00:27<00:00,  1.88it/s, gp=0.00531, loss_critic=-.0653] \n"
     ]
    },
    {
     "name": "stdout",
     "output_type": "stream",
     "text": [
      "Epoch [12/50] Global Epoch:72 - Epoch training time: 0:00:27.086089 - Current image size: 16 \n"
     ]
    },
    {
     "name": "stderr",
     "output_type": "stream",
     "text": [
      "100%|██████████| 51/51 [00:27<00:00,  1.88it/s, gp=0.00417, loss_critic=-.388]  \n"
     ]
    },
    {
     "name": "stdout",
     "output_type": "stream",
     "text": [
      "Epoch [13/50] Global Epoch:73 - Epoch training time: 0:00:27.133340 - Current image size: 16 \n"
     ]
    },
    {
     "name": "stderr",
     "output_type": "stream",
     "text": [
      "100%|██████████| 51/51 [00:28<00:00,  1.80it/s, gp=0.0111, loss_critic=-.0857] \n"
     ]
    },
    {
     "name": "stdout",
     "output_type": "stream",
     "text": [
      "Epoch [14/50] Global Epoch:74 - Epoch training time: 0:00:28.337997 - Current image size: 16 \n"
     ]
    },
    {
     "name": "stderr",
     "output_type": "stream",
     "text": [
      "100%|██████████| 51/51 [00:27<00:00,  1.84it/s, gp=0.014, loss_critic=0.0626]  \n"
     ]
    },
    {
     "name": "stdout",
     "output_type": "stream",
     "text": [
      "Epoch [15/50] Global Epoch:75 - Epoch training time: 0:00:27.782980 - Current image size: 16 \n"
     ]
    },
    {
     "name": "stderr",
     "output_type": "stream",
     "text": [
      "100%|██████████| 51/51 [00:27<00:00,  1.86it/s, gp=0.00637, loss_critic=-.05]   \n"
     ]
    },
    {
     "name": "stdout",
     "output_type": "stream",
     "text": [
      "Epoch [16/50] Global Epoch:76 - Epoch training time: 0:00:27.459221 - Current image size: 16 \n"
     ]
    },
    {
     "name": "stderr",
     "output_type": "stream",
     "text": [
      "100%|██████████| 51/51 [00:28<00:00,  1.80it/s, gp=0.0198, loss_critic=-.0011]  \n"
     ]
    },
    {
     "name": "stdout",
     "output_type": "stream",
     "text": [
      "Epoch [17/50] Global Epoch:77 - Epoch training time: 0:00:28.304801 - Current image size: 16 \n"
     ]
    },
    {
     "name": "stderr",
     "output_type": "stream",
     "text": [
      "100%|██████████| 51/51 [00:27<00:00,  1.86it/s, gp=0.00544, loss_critic=-.205] \n"
     ]
    },
    {
     "name": "stdout",
     "output_type": "stream",
     "text": [
      "Epoch [18/50] Global Epoch:78 - Epoch training time: 0:00:27.385625 - Current image size: 16 \n"
     ]
    },
    {
     "name": "stderr",
     "output_type": "stream",
     "text": [
      "100%|██████████| 51/51 [00:27<00:00,  1.88it/s, gp=0.0144, loss_critic=-.0125]   \n"
     ]
    },
    {
     "name": "stdout",
     "output_type": "stream",
     "text": [
      "Epoch [19/50] Global Epoch:79 - Epoch training time: 0:00:27.128600 - Current image size: 16 \n"
     ]
    },
    {
     "name": "stderr",
     "output_type": "stream",
     "text": [
      "100%|██████████| 51/51 [00:28<00:00,  1.80it/s, gp=0.00728, loss_critic=-.0899]\n"
     ]
    },
    {
     "name": "stdout",
     "output_type": "stream",
     "text": [
      "Epoch [20/50] Global Epoch:80 - Epoch training time: 0:00:28.333965 - Current image size: 16 \n"
     ]
    },
    {
     "name": "stderr",
     "output_type": "stream",
     "text": [
      "100%|██████████| 51/51 [00:27<00:00,  1.85it/s, gp=0.00504, loss_critic=-.00753]\n"
     ]
    },
    {
     "name": "stdout",
     "output_type": "stream",
     "text": [
      "Epoch [21/50] Global Epoch:81 - Epoch training time: 0:00:27.513169 - Current image size: 16 \n"
     ]
    },
    {
     "name": "stderr",
     "output_type": "stream",
     "text": [
      "100%|██████████| 51/51 [00:27<00:00,  1.86it/s, gp=0.00686, loss_critic=-.0834]\n"
     ]
    },
    {
     "name": "stdout",
     "output_type": "stream",
     "text": [
      "Epoch [22/50] Global Epoch:82 - Epoch training time: 0:00:27.394994 - Current image size: 16 \n"
     ]
    },
    {
     "name": "stderr",
     "output_type": "stream",
     "text": [
      "100%|██████████| 51/51 [00:28<00:00,  1.80it/s, gp=0.00526, loss_critic=-.196]   \n"
     ]
    },
    {
     "name": "stdout",
     "output_type": "stream",
     "text": [
      "Epoch [23/50] Global Epoch:83 - Epoch training time: 0:00:28.323846 - Current image size: 16 \n"
     ]
    },
    {
     "name": "stderr",
     "output_type": "stream",
     "text": [
      "100%|██████████| 51/51 [00:27<00:00,  1.85it/s, gp=0.00379, loss_critic=-.139] \n"
     ]
    },
    {
     "name": "stdout",
     "output_type": "stream",
     "text": [
      "Epoch [24/50] Global Epoch:84 - Epoch training time: 0:00:27.574972 - Current image size: 16 \n"
     ]
    },
    {
     "name": "stderr",
     "output_type": "stream",
     "text": [
      "100%|██████████| 51/51 [00:27<00:00,  1.85it/s, gp=0.00698, loss_critic=-.0875] \n"
     ]
    },
    {
     "name": "stdout",
     "output_type": "stream",
     "text": [
      "Epoch [25/50] Global Epoch:85 - Epoch training time: 0:00:27.562370 - Current image size: 16 \n"
     ]
    },
    {
     "name": "stderr",
     "output_type": "stream",
     "text": [
      "100%|██████████| 51/51 [00:28<00:00,  1.80it/s, gp=0.00852, loss_critic=-.0442] \n"
     ]
    },
    {
     "name": "stdout",
     "output_type": "stream",
     "text": [
      "Epoch [26/50] Global Epoch:86 - Epoch training time: 0:00:28.340346 - Current image size: 16 \n"
     ]
    },
    {
     "name": "stderr",
     "output_type": "stream",
     "text": [
      "100%|██████████| 51/51 [00:27<00:00,  1.86it/s, gp=0.0113, loss_critic=-.0152]  \n"
     ]
    },
    {
     "name": "stdout",
     "output_type": "stream",
     "text": [
      "Epoch [27/50] Global Epoch:87 - Epoch training time: 0:00:27.492722 - Current image size: 16 \n"
     ]
    },
    {
     "name": "stderr",
     "output_type": "stream",
     "text": [
      "100%|██████████| 51/51 [00:27<00:00,  1.85it/s, gp=0.00476, loss_critic=-.356] \n"
     ]
    },
    {
     "name": "stdout",
     "output_type": "stream",
     "text": [
      "Epoch [28/50] Global Epoch:88 - Epoch training time: 0:00:27.594032 - Current image size: 16 \n"
     ]
    },
    {
     "name": "stderr",
     "output_type": "stream",
     "text": [
      "100%|██████████| 51/51 [00:28<00:00,  1.80it/s, gp=0.00499, loss_critic=-.0261] \n"
     ]
    },
    {
     "name": "stdout",
     "output_type": "stream",
     "text": [
      "Epoch [29/50] Global Epoch:89 - Epoch training time: 0:00:28.372171 - Current image size: 16 \n"
     ]
    },
    {
     "name": "stderr",
     "output_type": "stream",
     "text": [
      "100%|██████████| 51/51 [00:27<00:00,  1.84it/s, gp=0.0066, loss_critic=-.183]   \n"
     ]
    },
    {
     "name": "stdout",
     "output_type": "stream",
     "text": [
      "Epoch [30/50] Global Epoch:90 - Epoch training time: 0:00:27.784473 - Current image size: 16 \n"
     ]
    },
    {
     "name": "stderr",
     "output_type": "stream",
     "text": [
      "100%|██████████| 51/51 [00:27<00:00,  1.85it/s, gp=0.028, loss_critic=0.485]    \n"
     ]
    },
    {
     "name": "stdout",
     "output_type": "stream",
     "text": [
      "Epoch [31/50] Global Epoch:91 - Epoch training time: 0:00:27.564910 - Current image size: 16 \n"
     ]
    },
    {
     "name": "stderr",
     "output_type": "stream",
     "text": [
      "100%|██████████| 51/51 [00:30<00:00,  1.68it/s, gp=0.0127, loss_critic=0.0984]   \n"
     ]
    },
    {
     "name": "stdout",
     "output_type": "stream",
     "text": [
      "Epoch [32/50] Global Epoch:92 - Epoch training time: 0:00:30.288240 - Current image size: 16 \n"
     ]
    },
    {
     "name": "stderr",
     "output_type": "stream",
     "text": [
      "100%|██████████| 51/51 [00:27<00:00,  1.83it/s, gp=0.00435, loss_critic=-.124]  \n"
     ]
    },
    {
     "name": "stdout",
     "output_type": "stream",
     "text": [
      "Epoch [33/50] Global Epoch:93 - Epoch training time: 0:00:27.945326 - Current image size: 16 \n"
     ]
    },
    {
     "name": "stderr",
     "output_type": "stream",
     "text": [
      "100%|██████████| 51/51 [00:27<00:00,  1.85it/s, gp=0.0129, loss_critic=-.0528]   \n"
     ]
    },
    {
     "name": "stdout",
     "output_type": "stream",
     "text": [
      "Epoch [34/50] Global Epoch:94 - Epoch training time: 0:00:27.503610 - Current image size: 16 \n"
     ]
    },
    {
     "name": "stderr",
     "output_type": "stream",
     "text": [
      "100%|██████████| 51/51 [00:28<00:00,  1.80it/s, gp=0.00763, loss_critic=-.0212] \n"
     ]
    },
    {
     "name": "stdout",
     "output_type": "stream",
     "text": [
      "Epoch [35/50] Global Epoch:95 - Epoch training time: 0:00:28.313470 - Current image size: 16 \n"
     ]
    },
    {
     "name": "stderr",
     "output_type": "stream",
     "text": [
      "100%|██████████| 51/51 [00:27<00:00,  1.83it/s, gp=0.00689, loss_critic=-.165]  \n"
     ]
    },
    {
     "name": "stdout",
     "output_type": "stream",
     "text": [
      "Epoch [36/50] Global Epoch:96 - Epoch training time: 0:00:27.813085 - Current image size: 16 \n"
     ]
    },
    {
     "name": "stderr",
     "output_type": "stream",
     "text": [
      "100%|██████████| 51/51 [00:27<00:00,  1.83it/s, gp=0.00452, loss_critic=-.0749] \n"
     ]
    },
    {
     "name": "stdout",
     "output_type": "stream",
     "text": [
      "Epoch [37/50] Global Epoch:97 - Epoch training time: 0:00:27.886035 - Current image size: 16 \n"
     ]
    },
    {
     "name": "stderr",
     "output_type": "stream",
     "text": [
      "100%|██████████| 51/51 [00:28<00:00,  1.80it/s, gp=0.00414, loss_critic=0.0433] \n"
     ]
    },
    {
     "name": "stdout",
     "output_type": "stream",
     "text": [
      "Epoch [38/50] Global Epoch:98 - Epoch training time: 0:00:28.345321 - Current image size: 16 \n"
     ]
    },
    {
     "name": "stderr",
     "output_type": "stream",
     "text": [
      "100%|██████████| 51/51 [00:27<00:00,  1.85it/s, gp=0.0132, loss_critic=0.279]   \n"
     ]
    },
    {
     "name": "stdout",
     "output_type": "stream",
     "text": [
      "Epoch [39/50] Global Epoch:99 - Epoch training time: 0:00:27.539596 - Current image size: 16 \n"
     ]
    },
    {
     "name": "stderr",
     "output_type": "stream",
     "text": [
      "100%|██████████| 51/51 [00:28<00:00,  1.78it/s, gp=0.00597, loss_critic=0.0586] \n"
     ]
    },
    {
     "name": "stdout",
     "output_type": "stream",
     "text": [
      "Epoch [40/50] Global Epoch:100 - Epoch training time: 0:00:28.625221 - Current image size: 16 \n"
     ]
    },
    {
     "name": "stderr",
     "output_type": "stream",
     "text": [
      "100%|██████████| 51/51 [00:28<00:00,  1.80it/s, gp=0.00391, loss_critic=-.106]  \n"
     ]
    },
    {
     "name": "stdout",
     "output_type": "stream",
     "text": [
      "Epoch [41/50] Global Epoch:101 - Epoch training time: 0:00:28.313000 - Current image size: 16 \n"
     ]
    },
    {
     "name": "stderr",
     "output_type": "stream",
     "text": [
      "100%|██████████| 51/51 [00:27<00:00,  1.85it/s, gp=0.00663, loss_critic=-.317]  \n"
     ]
    },
    {
     "name": "stdout",
     "output_type": "stream",
     "text": [
      "Epoch [42/50] Global Epoch:102 - Epoch training time: 0:00:27.562090 - Current image size: 16 \n"
     ]
    },
    {
     "name": "stderr",
     "output_type": "stream",
     "text": [
      "100%|██████████| 51/51 [00:28<00:00,  1.78it/s, gp=0.00487, loss_critic=-.0428]  \n"
     ]
    },
    {
     "name": "stdout",
     "output_type": "stream",
     "text": [
      "Epoch [43/50] Global Epoch:103 - Epoch training time: 0:00:28.671328 - Current image size: 16 \n"
     ]
    },
    {
     "name": "stderr",
     "output_type": "stream",
     "text": [
      "100%|██████████| 51/51 [00:28<00:00,  1.80it/s, gp=0.0049, loss_critic=-.0377]  \n"
     ]
    },
    {
     "name": "stdout",
     "output_type": "stream",
     "text": [
      "Epoch [44/50] Global Epoch:104 - Epoch training time: 0:00:28.297481 - Current image size: 16 \n"
     ]
    },
    {
     "name": "stderr",
     "output_type": "stream",
     "text": [
      "100%|██████████| 51/51 [00:28<00:00,  1.77it/s, gp=0.00697, loss_critic=0.0236] \n"
     ]
    },
    {
     "name": "stdout",
     "output_type": "stream",
     "text": [
      "Epoch [45/50] Global Epoch:105 - Epoch training time: 0:00:28.873911 - Current image size: 16 \n"
     ]
    },
    {
     "name": "stderr",
     "output_type": "stream",
     "text": [
      "100%|██████████| 51/51 [00:27<00:00,  1.85it/s, gp=0.00585, loss_critic=-.0126]  \n"
     ]
    },
    {
     "name": "stdout",
     "output_type": "stream",
     "text": [
      "Epoch [46/50] Global Epoch:106 - Epoch training time: 0:00:27.554528 - Current image size: 16 \n"
     ]
    },
    {
     "name": "stderr",
     "output_type": "stream",
     "text": [
      "100%|██████████| 51/51 [00:28<00:00,  1.80it/s, gp=0.00428, loss_critic=-.166]   \n"
     ]
    },
    {
     "name": "stdout",
     "output_type": "stream",
     "text": [
      "Epoch [47/50] Global Epoch:107 - Epoch training time: 0:00:28.318371 - Current image size: 16 \n"
     ]
    },
    {
     "name": "stderr",
     "output_type": "stream",
     "text": [
      "100%|██████████| 51/51 [00:27<00:00,  1.85it/s, gp=0.00365, loss_critic=-.0255] \n"
     ]
    },
    {
     "name": "stdout",
     "output_type": "stream",
     "text": [
      "Epoch [48/50] Global Epoch:108 - Epoch training time: 0:00:27.528379 - Current image size: 16 \n"
     ]
    },
    {
     "name": "stderr",
     "output_type": "stream",
     "text": [
      "100%|██████████| 51/51 [00:27<00:00,  1.84it/s, gp=0.00663, loss_critic=-.0347] \n"
     ]
    },
    {
     "name": "stdout",
     "output_type": "stream",
     "text": [
      "Epoch [49/50] Global Epoch:109 - Epoch training time: 0:00:27.712092 - Current image size: 16 \n"
     ]
    },
    {
     "name": "stderr",
     "output_type": "stream",
     "text": [
      "100%|██████████| 51/51 [00:29<00:00,  1.74it/s, gp=0.0106, loss_critic=-.0787]  \n"
     ]
    },
    {
     "name": "stdout",
     "output_type": "stream",
     "text": [
      "Epoch [50/50] Global Epoch:110 - Epoch training time: 0:00:29.268259 - Current image size: 16 \n",
      "=> Saving checkpoint\n",
      "=> Saving checkpoint\n"
     ]
    },
    {
     "name": "stderr",
     "output_type": "stream",
     "text": [
      "  0%|          | 0/102 [00:00<?, ?it/s]\n"
     ]
    },
    {
     "ename": "RuntimeError",
     "evalue": "CUDA out of memory. Tried to allocate 64.00 MiB (GPU 0; 14.76 GiB total capacity; 1.98 GiB already allocated; 19.75 MiB free; 2.10 GiB reserved in total by PyTorch) If reserved memory is >> allocated memory try setting max_split_size_mb to avoid fragmentation.  See documentation for Memory Management and PYTORCH_CUDA_ALLOC_CONF",
     "output_type": "error",
     "traceback": [
      "\u001b[0;31m---------------------------------------------------------------------------\u001b[0m",
      "\u001b[0;31mRuntimeError\u001b[0m                              Traceback (most recent call last)",
      "\u001b[0;32m<ipython-input-12-fc5537f6e5d8>\u001b[0m in \u001b[0;36m<module>\u001b[0;34m\u001b[0m\n\u001b[1;32m     17\u001b[0m             \u001b[0mTRAIN_DIR\u001b[0m \u001b[0;34m=\u001b[0m \u001b[0;34mf\"/Storage/PauloOctavioDir/nodule_rois/gan/{LUNG_CANCER_TYPE}/images\"\u001b[0m\u001b[0;34m\u001b[0m\u001b[0;34m\u001b[0m\u001b[0m\n\u001b[1;32m     18\u001b[0m             \u001b[0mSTART_TRAIN_AT_IMG_SIZE\u001b[0m \u001b[0;34m=\u001b[0m \u001b[0;36m4\u001b[0m\u001b[0;34m\u001b[0m\u001b[0;34m\u001b[0m\u001b[0m\n\u001b[0;32m---> 19\u001b[0;31m             \u001b[0mtraining_time\u001b[0m \u001b[0;34m=\u001b[0m \u001b[0mmain\u001b[0m\u001b[0;34m(\u001b[0m\u001b[0;34m)\u001b[0m\u001b[0;34m\u001b[0m\u001b[0;34m\u001b[0m\u001b[0m\n\u001b[0m\u001b[1;32m     20\u001b[0m             df_data = [\n\u001b[1;32m     21\u001b[0m                 \u001b[0mMODEL_NAME\u001b[0m\u001b[0;34m,\u001b[0m \u001b[0mstr\u001b[0m\u001b[0;34m(\u001b[0m\u001b[0mALPHA_MUL\u001b[0m\u001b[0;34m)\u001b[0m\u001b[0;34m,\u001b[0m \u001b[0mstr\u001b[0m\u001b[0;34m(\u001b[0m\u001b[0mSEED\u001b[0m\u001b[0;34m)\u001b[0m\u001b[0;34m,\u001b[0m \u001b[0mstr\u001b[0m\u001b[0;34m(\u001b[0m\u001b[0mpg_epochs\u001b[0m\u001b[0;34m)\u001b[0m\u001b[0;34m,\u001b[0m\u001b[0;34m\u001b[0m\u001b[0;34m\u001b[0m\u001b[0m\n",
      "\u001b[0;32m<ipython-input-11-52d56ba62187>\u001b[0m in \u001b[0;36mmain\u001b[0;34m()\u001b[0m\n\u001b[1;32m    139\u001b[0m                 \u001b[0mscaler_gen\u001b[0m\u001b[0;34m,\u001b[0m\u001b[0;34m\u001b[0m\u001b[0;34m\u001b[0m\u001b[0m\n\u001b[1;32m    140\u001b[0m                 \u001b[0mscaler_critic\u001b[0m\u001b[0;34m,\u001b[0m\u001b[0;34m\u001b[0m\u001b[0;34m\u001b[0m\u001b[0m\n\u001b[0;32m--> 141\u001b[0;31m                 \u001b[0mlr\u001b[0m\u001b[0;34m,\u001b[0m\u001b[0;34m\u001b[0m\u001b[0;34m\u001b[0m\u001b[0m\n\u001b[0m\u001b[1;32m    142\u001b[0m             )\n\u001b[1;32m    143\u001b[0m             \u001b[0mglobal_epoch\u001b[0m \u001b[0;34m+=\u001b[0m \u001b[0;36m1\u001b[0m\u001b[0;34m\u001b[0m\u001b[0;34m\u001b[0m\u001b[0m\n",
      "\u001b[0;32m<ipython-input-11-52d56ba62187>\u001b[0m in \u001b[0;36mtrain_fn\u001b[0;34m(critic, gen, loader, dataset, step, alpha, opt_critic, opt_gen, tensorboard_step, writer, scaler_gen, scaler_critic, lr)\u001b[0m\n\u001b[1;32m     28\u001b[0m             \u001b[0mcritic_real\u001b[0m \u001b[0;34m=\u001b[0m \u001b[0mcritic\u001b[0m\u001b[0;34m(\u001b[0m\u001b[0mreal\u001b[0m\u001b[0;34m,\u001b[0m \u001b[0malpha\u001b[0m\u001b[0;34m,\u001b[0m \u001b[0mstep\u001b[0m\u001b[0;34m)\u001b[0m\u001b[0;34m\u001b[0m\u001b[0;34m\u001b[0m\u001b[0m\n\u001b[1;32m     29\u001b[0m             \u001b[0mcritic_fake\u001b[0m \u001b[0;34m=\u001b[0m \u001b[0mcritic\u001b[0m\u001b[0;34m(\u001b[0m\u001b[0mfake\u001b[0m\u001b[0;34m.\u001b[0m\u001b[0mdetach\u001b[0m\u001b[0;34m(\u001b[0m\u001b[0;34m)\u001b[0m\u001b[0;34m,\u001b[0m \u001b[0malpha\u001b[0m\u001b[0;34m,\u001b[0m \u001b[0mstep\u001b[0m\u001b[0;34m)\u001b[0m\u001b[0;34m\u001b[0m\u001b[0;34m\u001b[0m\u001b[0m\n\u001b[0;32m---> 30\u001b[0;31m             \u001b[0mgp\u001b[0m \u001b[0;34m=\u001b[0m \u001b[0mgradient_penalty\u001b[0m\u001b[0;34m(\u001b[0m\u001b[0mcritic\u001b[0m\u001b[0;34m,\u001b[0m \u001b[0mreal\u001b[0m\u001b[0;34m,\u001b[0m \u001b[0mfake\u001b[0m\u001b[0;34m,\u001b[0m \u001b[0malpha\u001b[0m\u001b[0;34m,\u001b[0m \u001b[0mstep\u001b[0m\u001b[0;34m,\u001b[0m \u001b[0mdevice\u001b[0m\u001b[0;34m=\u001b[0m\u001b[0mDEVICE\u001b[0m\u001b[0;34m)\u001b[0m\u001b[0;34m\u001b[0m\u001b[0;34m\u001b[0m\u001b[0m\n\u001b[0m\u001b[1;32m     31\u001b[0m             loss_critic = (\n\u001b[1;32m     32\u001b[0m                 \u001b[0;34m-\u001b[0m\u001b[0;34m(\u001b[0m\u001b[0mtorch\u001b[0m\u001b[0;34m.\u001b[0m\u001b[0mmean\u001b[0m\u001b[0;34m(\u001b[0m\u001b[0mcritic_real\u001b[0m\u001b[0;34m)\u001b[0m \u001b[0;34m-\u001b[0m \u001b[0mtorch\u001b[0m\u001b[0;34m.\u001b[0m\u001b[0mmean\u001b[0m\u001b[0;34m(\u001b[0m\u001b[0mcritic_fake\u001b[0m\u001b[0;34m)\u001b[0m\u001b[0;34m)\u001b[0m\u001b[0;34m\u001b[0m\u001b[0;34m\u001b[0m\u001b[0m\n",
      "\u001b[0;32m<ipython-input-4-4cdbc3c1016c>\u001b[0m in \u001b[0;36mgradient_penalty\u001b[0;34m(critic, real, fake, alpha, train_step, device)\u001b[0m\n\u001b[1;32m     26\u001b[0m \u001b[0;34m\u001b[0m\u001b[0m\n\u001b[1;32m     27\u001b[0m     \u001b[0;31m# Calculate critic scores\u001b[0m\u001b[0;34m\u001b[0m\u001b[0;34m\u001b[0m\u001b[0;34m\u001b[0m\u001b[0m\n\u001b[0;32m---> 28\u001b[0;31m     \u001b[0mmixed_scores\u001b[0m \u001b[0;34m=\u001b[0m \u001b[0mcritic\u001b[0m\u001b[0;34m(\u001b[0m\u001b[0minterpolated_images\u001b[0m\u001b[0;34m,\u001b[0m \u001b[0malpha\u001b[0m\u001b[0;34m,\u001b[0m \u001b[0mtrain_step\u001b[0m\u001b[0;34m)\u001b[0m\u001b[0;34m\u001b[0m\u001b[0;34m\u001b[0m\u001b[0m\n\u001b[0m\u001b[1;32m     29\u001b[0m \u001b[0;34m\u001b[0m\u001b[0m\n\u001b[1;32m     30\u001b[0m     \u001b[0;31m# Take the gradient of the scores with respect to the images\u001b[0m\u001b[0;34m\u001b[0m\u001b[0;34m\u001b[0m\u001b[0;34m\u001b[0m\u001b[0m\n",
      "\u001b[0;32m~/PauloLucas/lib/python3.6/site-packages/torch/nn/modules/module.py\u001b[0m in \u001b[0;36m_call_impl\u001b[0;34m(self, *input, **kwargs)\u001b[0m\n\u001b[1;32m   1100\u001b[0m         if not (self._backward_hooks or self._forward_hooks or self._forward_pre_hooks or _global_backward_hooks\n\u001b[1;32m   1101\u001b[0m                 or _global_forward_hooks or _global_forward_pre_hooks):\n\u001b[0;32m-> 1102\u001b[0;31m             \u001b[0;32mreturn\u001b[0m \u001b[0mforward_call\u001b[0m\u001b[0;34m(\u001b[0m\u001b[0;34m*\u001b[0m\u001b[0minput\u001b[0m\u001b[0;34m,\u001b[0m \u001b[0;34m**\u001b[0m\u001b[0mkwargs\u001b[0m\u001b[0;34m)\u001b[0m\u001b[0;34m\u001b[0m\u001b[0;34m\u001b[0m\u001b[0m\n\u001b[0m\u001b[1;32m   1103\u001b[0m         \u001b[0;31m# Do not call functions when jit is used\u001b[0m\u001b[0;34m\u001b[0m\u001b[0;34m\u001b[0m\u001b[0;34m\u001b[0m\u001b[0m\n\u001b[1;32m   1104\u001b[0m         \u001b[0mfull_backward_hooks\u001b[0m\u001b[0;34m,\u001b[0m \u001b[0mnon_full_backward_hooks\u001b[0m \u001b[0;34m=\u001b[0m \u001b[0;34m[\u001b[0m\u001b[0;34m]\u001b[0m\u001b[0;34m,\u001b[0m \u001b[0;34m[\u001b[0m\u001b[0;34m]\u001b[0m\u001b[0;34m\u001b[0m\u001b[0;34m\u001b[0m\u001b[0m\n",
      "\u001b[0;32m<ipython-input-5-9b742ec56f41>\u001b[0m in \u001b[0;36mforward\u001b[0;34m(self, x, alpha, steps)\u001b[0m\n\u001b[1;32m    191\u001b[0m         \u001b[0;31m# convert from rgb as initial step, this will depend on\u001b[0m\u001b[0;34m\u001b[0m\u001b[0;34m\u001b[0m\u001b[0;34m\u001b[0m\u001b[0m\n\u001b[1;32m    192\u001b[0m         \u001b[0;31m# the image size (each will have it's on rgb layer)\u001b[0m\u001b[0;34m\u001b[0m\u001b[0;34m\u001b[0m\u001b[0;34m\u001b[0m\u001b[0m\n\u001b[0;32m--> 193\u001b[0;31m         \u001b[0mout\u001b[0m \u001b[0;34m=\u001b[0m \u001b[0mself\u001b[0m\u001b[0;34m.\u001b[0m\u001b[0mleaky\u001b[0m\u001b[0;34m(\u001b[0m\u001b[0mself\u001b[0m\u001b[0;34m.\u001b[0m\u001b[0mrgb_layers\u001b[0m\u001b[0;34m[\u001b[0m\u001b[0mcur_step\u001b[0m\u001b[0;34m]\u001b[0m\u001b[0;34m(\u001b[0m\u001b[0mx\u001b[0m\u001b[0;34m)\u001b[0m\u001b[0;34m)\u001b[0m\u001b[0;34m\u001b[0m\u001b[0;34m\u001b[0m\u001b[0m\n\u001b[0m\u001b[1;32m    194\u001b[0m \u001b[0;34m\u001b[0m\u001b[0m\n\u001b[1;32m    195\u001b[0m         \u001b[0;32mif\u001b[0m \u001b[0msteps\u001b[0m \u001b[0;34m==\u001b[0m \u001b[0;36m0\u001b[0m\u001b[0;34m:\u001b[0m  \u001b[0;31m# i.e, image is 4x4\u001b[0m\u001b[0;34m\u001b[0m\u001b[0;34m\u001b[0m\u001b[0m\n",
      "\u001b[0;32m~/PauloLucas/lib/python3.6/site-packages/torch/nn/modules/module.py\u001b[0m in \u001b[0;36m_call_impl\u001b[0;34m(self, *input, **kwargs)\u001b[0m\n\u001b[1;32m   1100\u001b[0m         if not (self._backward_hooks or self._forward_hooks or self._forward_pre_hooks or _global_backward_hooks\n\u001b[1;32m   1101\u001b[0m                 or _global_forward_hooks or _global_forward_pre_hooks):\n\u001b[0;32m-> 1102\u001b[0;31m             \u001b[0;32mreturn\u001b[0m \u001b[0mforward_call\u001b[0m\u001b[0;34m(\u001b[0m\u001b[0;34m*\u001b[0m\u001b[0minput\u001b[0m\u001b[0;34m,\u001b[0m \u001b[0;34m**\u001b[0m\u001b[0mkwargs\u001b[0m\u001b[0;34m)\u001b[0m\u001b[0;34m\u001b[0m\u001b[0;34m\u001b[0m\u001b[0m\n\u001b[0m\u001b[1;32m   1103\u001b[0m         \u001b[0;31m# Do not call functions when jit is used\u001b[0m\u001b[0;34m\u001b[0m\u001b[0;34m\u001b[0m\u001b[0;34m\u001b[0m\u001b[0m\n\u001b[1;32m   1104\u001b[0m         \u001b[0mfull_backward_hooks\u001b[0m\u001b[0;34m,\u001b[0m \u001b[0mnon_full_backward_hooks\u001b[0m \u001b[0;34m=\u001b[0m \u001b[0;34m[\u001b[0m\u001b[0;34m]\u001b[0m\u001b[0;34m,\u001b[0m \u001b[0;34m[\u001b[0m\u001b[0;34m]\u001b[0m\u001b[0;34m\u001b[0m\u001b[0;34m\u001b[0m\u001b[0m\n",
      "\u001b[0;32m~/PauloLucas/lib/python3.6/site-packages/torch/nn/modules/activation.py\u001b[0m in \u001b[0;36mforward\u001b[0;34m(self, input)\u001b[0m\n\u001b[1;32m    736\u001b[0m \u001b[0;34m\u001b[0m\u001b[0m\n\u001b[1;32m    737\u001b[0m     \u001b[0;32mdef\u001b[0m \u001b[0mforward\u001b[0m\u001b[0;34m(\u001b[0m\u001b[0mself\u001b[0m\u001b[0;34m,\u001b[0m \u001b[0minput\u001b[0m\u001b[0;34m:\u001b[0m \u001b[0mTensor\u001b[0m\u001b[0;34m)\u001b[0m \u001b[0;34m->\u001b[0m \u001b[0mTensor\u001b[0m\u001b[0;34m:\u001b[0m\u001b[0;34m\u001b[0m\u001b[0;34m\u001b[0m\u001b[0m\n\u001b[0;32m--> 738\u001b[0;31m         \u001b[0;32mreturn\u001b[0m \u001b[0mF\u001b[0m\u001b[0;34m.\u001b[0m\u001b[0mleaky_relu\u001b[0m\u001b[0;34m(\u001b[0m\u001b[0minput\u001b[0m\u001b[0;34m,\u001b[0m \u001b[0mself\u001b[0m\u001b[0;34m.\u001b[0m\u001b[0mnegative_slope\u001b[0m\u001b[0;34m,\u001b[0m \u001b[0mself\u001b[0m\u001b[0;34m.\u001b[0m\u001b[0minplace\u001b[0m\u001b[0;34m)\u001b[0m\u001b[0;34m\u001b[0m\u001b[0;34m\u001b[0m\u001b[0m\n\u001b[0m\u001b[1;32m    739\u001b[0m \u001b[0;34m\u001b[0m\u001b[0m\n\u001b[1;32m    740\u001b[0m     \u001b[0;32mdef\u001b[0m \u001b[0mextra_repr\u001b[0m\u001b[0;34m(\u001b[0m\u001b[0mself\u001b[0m\u001b[0;34m)\u001b[0m \u001b[0;34m->\u001b[0m \u001b[0mstr\u001b[0m\u001b[0;34m:\u001b[0m\u001b[0;34m\u001b[0m\u001b[0;34m\u001b[0m\u001b[0m\n",
      "\u001b[0;32m~/PauloLucas/lib/python3.6/site-packages/torch/nn/functional.py\u001b[0m in \u001b[0;36mleaky_relu\u001b[0;34m(input, negative_slope, inplace)\u001b[0m\n\u001b[1;32m   1473\u001b[0m         \u001b[0mresult\u001b[0m \u001b[0;34m=\u001b[0m \u001b[0mtorch\u001b[0m\u001b[0;34m.\u001b[0m\u001b[0m_C\u001b[0m\u001b[0;34m.\u001b[0m\u001b[0m_nn\u001b[0m\u001b[0;34m.\u001b[0m\u001b[0mleaky_relu_\u001b[0m\u001b[0;34m(\u001b[0m\u001b[0minput\u001b[0m\u001b[0;34m,\u001b[0m \u001b[0mnegative_slope\u001b[0m\u001b[0;34m)\u001b[0m\u001b[0;34m\u001b[0m\u001b[0;34m\u001b[0m\u001b[0m\n\u001b[1;32m   1474\u001b[0m     \u001b[0;32melse\u001b[0m\u001b[0;34m:\u001b[0m\u001b[0;34m\u001b[0m\u001b[0;34m\u001b[0m\u001b[0m\n\u001b[0;32m-> 1475\u001b[0;31m         \u001b[0mresult\u001b[0m \u001b[0;34m=\u001b[0m \u001b[0mtorch\u001b[0m\u001b[0;34m.\u001b[0m\u001b[0m_C\u001b[0m\u001b[0;34m.\u001b[0m\u001b[0m_nn\u001b[0m\u001b[0;34m.\u001b[0m\u001b[0mleaky_relu\u001b[0m\u001b[0;34m(\u001b[0m\u001b[0minput\u001b[0m\u001b[0;34m,\u001b[0m \u001b[0mnegative_slope\u001b[0m\u001b[0;34m)\u001b[0m\u001b[0;34m\u001b[0m\u001b[0;34m\u001b[0m\u001b[0m\n\u001b[0m\u001b[1;32m   1476\u001b[0m     \u001b[0;32mreturn\u001b[0m \u001b[0mresult\u001b[0m\u001b[0;34m\u001b[0m\u001b[0;34m\u001b[0m\u001b[0m\n\u001b[1;32m   1477\u001b[0m \u001b[0;34m\u001b[0m\u001b[0m\n",
      "\u001b[0;31mRuntimeError\u001b[0m: CUDA out of memory. Tried to allocate 64.00 MiB (GPU 0; 14.76 GiB total capacity; 1.98 GiB already allocated; 19.75 MiB free; 2.10 GiB reserved in total by PyTorch) If reserved memory is >> allocated memory try setting max_split_size_mb to avoid fragmentation.  See documentation for Memory Management and PYTORCH_CUDA_ALLOC_CONF"
     ]
    }
   ],
   "source": [
    "# Treinamento do modelo com bons resultados para tipo escamoso\n",
    "columns=['model', 'alpha_mul', 'seed', 'epochs', 'hist_type', 'lr','aug', 'bs', 'training_time']\n",
    "\n",
    "ALPHA_MUL = 0.75\n",
    "SEED = 42\n",
    "\n",
    "seed_everything(seed=SEED)\n",
    "for LUNG_CANCER_TYPE in ['adeno']:\n",
    "    for BATCH_SIZES in [[64, 64, 64, 32, 32]]:\n",
    "        for PROGRESSIVE_EPOCHS in [[30, 30, 50, 50, 75]]:\n",
    "            print(f'Training for {LUNG_CANCER_TYPE}')\n",
    "            bs_str = '_'.join(map(str, BATCH_SIZES))\n",
    "            pg_epochs = '_'.join(map(str, PROGRESSIVE_EPOCHS))\n",
    "            MODEL_NAME = f'pggan_roi_{LUNG_CANCER_TYPE}_epochs_{pg_epochs}_alpha_{ALPHA_MUL}_bs_{bs_str}_affn_trns_only'\n",
    "            CHECKPOINT_GEN = f\"generator_{MODEL_NAME}.pth.tar\"\n",
    "            CHECKPOINT_CRITIC = f\"critic_{MODEL_NAME}.pth.tar\"\n",
    "            TRAIN_DIR = f\"/Storage/PauloOctavioDir/nodule_rois/gan/{LUNG_CANCER_TYPE}/images\"\n",
    "            START_TRAIN_AT_IMG_SIZE = 4\n",
    "            training_time = main()\n",
    "            df_data = [\n",
    "                MODEL_NAME, str(ALPHA_MUL), str(SEED), str(pg_epochs),\n",
    "                LUNG_CANCER_TYPE, str(LEARNING_RATE), 'only_affine',\n",
    "                BATCH_SIZES, training_time\n",
    "            ]\n",
    "            for col, val in zip(columns, df_data):\n",
    "                print(f\"{col}: {val}\")\n",
    "            df = pd.read_csv('gan_logging.csv')\n",
    "            df.loc[len(df)] = df_data\n",
    "            df.to_csv('gan_logging.csv', index=False)"
   ]
  },
  {
   "cell_type": "code",
   "execution_count": null,
   "id": "bff63e1e",
   "metadata": {},
   "outputs": [],
   "source": [
    "EPOCHS = [50]\n",
    "PROGRESSIVE_EPOCHS = EPOCHS * len(BATCH_SIZES)\n",
    "for LUNG_CANCER_TYPE in ['adeno', 'squamous']:\n",
    "    for ALPHA_MUL in [0.5, 1, 0.75]:\n",
    "        print(f'Training for {LUNG_CANCER_TYPE}')\n",
    "        MODEL_NAME = f'pggan_roi_{LUNG_CANCER_TYPE}_epochs_{EPOCHS[0]}_alpha_{ALPHA_MUL}_aug_rot_blur_sharp'\n",
    "        CHECKPOINT_GEN = f\"generator_{MODEL_NAME}.pth.tar\"\n",
    "        CHECKPOINT_CRITIC = f\"critic_{MODEL_NAME}.pth.tar\"\n",
    "        TRAIN_DIR = f\"/Storage/PauloOctavioDir/nodule_rois/gan_aug/{LUNG_CANCER_TYPE}/images\"\n",
    "        START_TRAIN_AT_IMG_SIZE = 4\n",
    "        main()"
   ]
  }
 ],
 "metadata": {
  "kernelspec": {
   "display_name": "Python 3",
   "language": "python",
   "name": "python3"
  },
  "language_info": {
   "codemirror_mode": {
    "name": "ipython",
    "version": 3
   },
   "file_extension": ".py",
   "mimetype": "text/x-python",
   "name": "python",
   "nbconvert_exporter": "python",
   "pygments_lexer": "ipython3",
   "version": "3.6.13"
  }
 },
 "nbformat": 4,
 "nbformat_minor": 5
}
