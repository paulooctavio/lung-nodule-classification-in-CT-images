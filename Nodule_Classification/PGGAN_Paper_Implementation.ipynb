{
 "cells": [
  {
   "cell_type": "code",
   "execution_count": 3,
   "id": "9f241744",
   "metadata": {},
   "outputs": [],
   "source": [
    "import numpy as np"
   ]
  },
  {
   "cell_type": "code",
   "execution_count": 6,
   "id": "c066b59e",
   "metadata": {},
   "outputs": [
    {
     "name": "stdout",
     "output_type": "stream",
     "text": [
      "cur_nimg: 15000000\n",
      "kimg: 15000.0\n",
      "phase_dur: 1200\n",
      "phase_idx: 12\n",
      "phase_kimg: 600.0\n"
     ]
    }
   ],
   "source": [
    "total_kimg = 15000\n",
    "lod_training_kimg = 600\n",
    "lod_transition_kimg = 600\n",
    "cur_nimg = total_kimg * 1000\n",
    "kimg = cur_nimg / 1000.0\n",
    "phase_dur = lod_training_kimg + lod_transition_kimg\n",
    "phase_idx = int(np.floor(kimg / phase_dur)) if phase_dur > 0 else 0\n",
    "phase_kimg = kimg - phase_idx * phase_dur\n",
    "print(f\"cur_nimg: {cur_nimg}\")\n",
    "print(f\"kimg: {kimg}\")\n",
    "print(f\"phase_dur: {phase_dur}\")\n",
    "print(f\"phase_idx: {phase_idx}\")\n",
    "print(f\"phase_kimg: {phase_kimg}\")"
   ]
  },
  {
   "cell_type": "code",
   "execution_count": null,
   "id": "ca8563ba",
   "metadata": {},
   "outputs": [],
   "source": []
  }
 ],
 "metadata": {
  "kernelspec": {
   "display_name": "Python 3",
   "language": "python",
   "name": "python3"
  },
  "language_info": {
   "codemirror_mode": {
    "name": "ipython",
    "version": 3
   },
   "file_extension": ".py",
   "mimetype": "text/x-python",
   "name": "python",
   "nbconvert_exporter": "python",
   "pygments_lexer": "ipython3",
   "version": "3.6.13"
  }
 },
 "nbformat": 4,
 "nbformat_minor": 5
}
